{
 "cells": [
  {
   "cell_type": "code",
   "execution_count": null,
   "metadata": {},
   "outputs": [],
   "source": [
    "import configparser\n",
    "import json\n",
    "import os\n",
    "from datetime import datetime\n",
    "\n",
    "import get_files\n",
    "\n",
    "import utils\n",
    "from pony.orm import *"
   ]
  },
  {
   "cell_type": "code",
   "execution_count": 4,
   "metadata": {},
   "outputs": [],
   "source": [
    "set_sql_debug(True)"
   ]
  },
  {
   "cell_type": "code",
   "execution_count": 5,
   "metadata": {},
   "outputs": [
    {
     "data": {
      "text/plain": [
       "['config.ini']"
      ]
     },
     "execution_count": 5,
     "metadata": {},
     "output_type": "execute_result"
    }
   ],
   "source": [
    "config = configparser.ConfigParser()config.read(\"config.ini\")"
   ]
  },
  {
   "cell_type": "code",
   "execution_count": 6,
   "metadata": {},
   "outputs": [
    {
     "name": "stdout",
     "output_type": "stream",
     "text": [
      "GET NEW CONNECTION\n",
      "RELEASE CONNECTION\n",
      "GET CONNECTION FROM THE LOCAL POOL\n",
      "SELECT `media`.`id`, `media`.`xxhash`, `media`.`size`, `media`.`exif`\n",
      "FROM `media` `media`\n",
      "WHERE 0 = 1\n",
      "\n",
      "ROLLBACK\n",
      "RELEASE CONNECTION\n"
     ]
    }
   ],
   "source": [
    "db = Database()\n",
    "\n",
    "\n",
    "class Media(db.Entity):\n",
    "    id = PrimaryKey(int, auto=True)\n",
    "    xxhash = Required(str, 16, unique=True)\n",
    "    size = Optional(float)\n",
    "    exif = Optional(Json)\n",
    "\n",
    "\n",
    "provider = \"mysql\"\n",
    "db.bind(\n",
    "    provider=provider,\n",
    "    host=config[provider][\"host\"],\n",
    "    user=config[provider][\"user\"],\n",
    "    passwd=config[provider][\"pass\"],\n",
    "    db=config[provider][\"db\"],\n",
    ")\n",
    "try:\n",
    "    db.generate_mapping()\n",
    "    db.drop_all_tables(with_all_data=True)\n",
    "except:\n",
    "    pass\n"
   ]
  },
  {
   "cell_type": "code",
   "execution_count": 7,
   "metadata": {},
   "outputs": [
    {
     "name": "stdout",
     "output_type": "stream",
     "text": [
      "GET NEW CONNECTION\n",
      "RELEASE CONNECTION\n",
      "GET CONNECTION FROM THE LOCAL POOL\n",
      "SET foreign_key_checks = 0\n",
      "CREATE TABLE `media` (\n",
      "  `id` INTEGER PRIMARY KEY AUTO_INCREMENT,\n",
      "  `xxhash` VARCHAR(16) UNIQUE NOT NULL,\n",
      "  `size` DOUBLE,\n",
      "  `exif` JSON\n",
      ")\n",
      "\n",
      "SELECT `media`.`id`, `media`.`xxhash`, `media`.`size`, `media`.`exif`\n",
      "FROM `media` `media`\n",
      "WHERE 0 = 1\n",
      "\n",
      "COMMIT\n",
      "SET foreign_key_checks = 1\n",
      "CLOSE CONNECTION\n"
     ]
    }
   ],
   "source": [
    "db = Database()\n",
    "\n",
    "\n",
    "class Media(db.Entity):\n",
    "    id = PrimaryKey(int, auto=True)\n",
    "    xxhash = Required(str, 16, unique=True)\n",
    "    size = Optional(float)\n",
    "    exif = Optional(Json)\n",
    "\n",
    "\n",
    "provider = \"mysql\"\n",
    "db.bind(\n",
    "    provider=provider,\n",
    "    host=config[provider][\"host\"],\n",
    "    user=config[provider][\"user\"],\n",
    "    passwd=config[provider][\"pass\"],\n",
    "    db=config[provider][\"db\"],\n",
    ")\n",
    "db.generate_mapping(create_tables=True)\n"
   ]
  },
  {
   "cell_type": "code",
   "execution_count": 12,
   "metadata": {},
   "outputs": [],
   "source": [
    "files = get_files.get_files(\n",
    "    \"/net/8600k.local/mnt/vault/pictures/2017/\",\n",
    "    extensions=[\".jpg\", \".cr2\", \".dng\"],\n",
    ")\n"
   ]
  },
  {
   "cell_type": "code",
   "execution_count": 13,
   "metadata": {},
   "outputs": [],
   "source": [
    "for file in files:\n",
    "    break\n"
   ]
  },
  {
   "cell_type": "code",
   "execution_count": 14,
   "metadata": {},
   "outputs": [
    {
     "data": {
      "text/plain": [
       "'/net/8600k.local/mnt/vault/pictures/2017/09-September/2017Sep30_121641.jpg'"
      ]
     },
     "execution_count": 14,
     "metadata": {},
     "output_type": "execute_result"
    }
   ],
   "source": [
    "file\n"
   ]
  },
  {
   "cell_type": "code",
   "execution_count": 15,
   "metadata": {},
   "outputs": [
    {
     "name": "stdout",
     "output_type": "stream",
     "text": [
      "Cached hash : /net/8600k.local/mnt/vault/pictures/2017/09-September/2017Sep30_121641.jpg\n"
     ]
    }
   ],
   "source": [
    "XXHASH = utils.cache_xxhash(file)\n"
   ]
  },
  {
   "cell_type": "code",
   "execution_count": 16,
   "metadata": {},
   "outputs": [
    {
     "data": {
      "text/plain": [
       "'6c09f2cfef3e1af6'"
      ]
     },
     "execution_count": 16,
     "metadata": {},
     "output_type": "execute_result"
    }
   ],
   "source": [
    "XXHASH\n"
   ]
  },
  {
   "cell_type": "code",
   "execution_count": 17,
   "metadata": {},
   "outputs": [
    {
     "name": "stdout",
     "output_type": "stream",
     "text": [
      "Cached hash : /net/8600k.local/mnt/vault/pictures/2017/09-September/2017Sep30_121641.jpg\n",
      "Cached EXIF : /net/8600k.local/mnt/vault/pictures/2017/09-September/2017Sep30_121641.jpg\n"
     ]
    }
   ],
   "source": [
    "EXIF = utils.cache_exif(file)\n"
   ]
  },
  {
   "cell_type": "code",
   "execution_count": 19,
   "metadata": {},
   "outputs": [],
   "source": [
    "SIZE = os.stat(file).st_size / 1024 ** 2\n"
   ]
  },
  {
   "cell_type": "code",
   "execution_count": 21,
   "metadata": {},
   "outputs": [
    {
     "data": {
      "text/plain": [
       "Media[new:1]"
      ]
     },
     "execution_count": 21,
     "metadata": {},
     "output_type": "execute_result"
    }
   ],
   "source": [
    "Media(xxhash=XXHASH, size=SIZE, exif=EXIF)\n"
   ]
  },
  {
   "cell_type": "code",
   "execution_count": 22,
   "metadata": {},
   "outputs": [
    {
     "name": "stdout",
     "output_type": "stream",
     "text": [
      "GET NEW CONNECTION\n",
      "INSERT INTO `media` (`xxhash`, `size`, `exif`) VALUES (%s, %s, %s)\n",
      "['6c09f2cfef3e1af6', 2.5995664596557617, '{\"SourceFile\": \"/net/8600k.local/mnt/vault/pictures/Incoming/113___09/IMG_1323.JPG\", \"ExifTool:ExifToolVersion\": 10.8, \"File:FileName\": \"IMG_1323.JPG\", \"File:Directory\": \"/net/8600k.local/mnt/vault/pictures/Incoming/113___09\", \"File:FileSize\": 2725843, \"File:FileModifyDate\": \"2017:09:30 13:16:41-04:00\", \"File:FileAccessDate\": \"2018:07:22 00:21:19-04:00\", \"File:FileInodeChangeDate\": \"2018:06:30 15:58:29-04:00\", \"File:FilePermissions\": 777, \"File:FileType\": \"JPEG\", \"File:FileTypeExtension\": \"JPG\", \"File:MIMEType\": \"image/jpeg\", \"File:ExifByteOrder\": \"II\", \"File:ImageWidth\": 4000, \"File:ImageHeight\": 3000, \"File:EncodingProcess\": 0, \"File:BitsPerSample\": 8, \"File:ColorComponents\": 3, \"File:YCbCrSubSampling\": \"2 1\", \"EXIF:ImageDescription\": \"                               \", \"EXIF:Make\": \"Canon\", \"EXIF:Model\": \"Canon PowerShot SX280 HS\", \"EXIF:Orientation\": 6, \"EXIF:XResolution\": 180, \"EXIF:YResolution\": 180, \"EXIF:ResolutionUnit\": 2, \"EXIF:ModifyDate\": \"2017:09:30 12:16:41\", \"EXIF:YCbCrPositioning\": 2, \"EXIF:ExposureTime\": 0.001, \"EXIF:FNumber\": 3.5, \"EXIF:ISO\": 250, \"EXIF:SensitivityType\": 4, \"EXIF:ExifVersion\": \"0230\", \"EXIF:DateTimeOriginal\": \"2017:09:30 12:16:41\", \"EXIF:CreateDate\": \"2017:09:30 12:16:41\", \"EXIF:ComponentsConfiguration\": \"1 2 3 0\", \"EXIF:CompressedBitsPerPixel\": 3, \"EXIF:ShutterSpeedValue\": \"0.000997946434232536\", \"EXIF:ApertureValue\": 3.5125043207466, \"EXIF:ExposureCompensation\": -0.3333333333, \"EXIF:MaxApertureValue\": 3.5125043207466, \"EXIF:MeteringMode\": 5, \"EXIF:Flash\": 16, \"EXIF:FocalLength\": 4.5, \"EXIF:UserComment\": \"\", \"EXIF:FlashpixVersion\": \"0100\", \"EXIF:ColorSpace\": 1, \"EXIF:ExifImageWidth\": 4000, \"EXIF:ExifImageHeight\": 3000, \"EXIF:InteropIndex\": \"R98\", \"EXIF:InteropVersion\": \"0100\", \"EXIF:RelatedImageWidth\": 4000, \"EXIF:RelatedImageHeight\": 3000, \"EXIF:FocalPlaneXResolution\": 16393.44262, \"EXIF:FocalPlaneYResolution\": 16393.44262, \"EXIF:FocalPlaneResolutionUnit\": 2, \"EXIF:SensingMethod\": 2, \"EXIF:FileSource\": 3, \"EXIF:CustomRendered\": 1, \"EXIF:ExposureMode\": 1, \"EXIF:WhiteBalance\": 0, \"EXIF:DigitalZoomRatio\": 1, \"EXIF:SceneCaptureType\": 0, \"EXIF:OwnerName\": \"\", \"EXIF:GPSVersionID\": \"2 3 0 0\", \"EXIF:Compression\": 6, \"EXIF:ThumbnailOffset\": 5632, \"EXIF:ThumbnailLength\": 5275, \"EXIF:ThumbnailImage\": \"(Binary data 5275 bytes, use -b option to extract)\", \"MakerNotes:MacroMode\": 2, \"MakerNotes:SelfTimer\": 0, \"MakerNotes:Quality\": 3, \"MakerNotes:CanonFlashMode\": 0, \"MakerNotes:ContinuousDrive\": 0, \"MakerNotes:FocusMode\": 4, \"MakerNotes:RecordMode\": 1, \"MakerNotes:CanonImageSize\": 0, \"MakerNotes:EasyMode\": 54, \"MakerNotes:DigitalZoom\": 0, \"MakerNotes:Contrast\": 0, \"MakerNotes:Saturation\": 0, \"MakerNotes:Sharpness\": 0, \"MakerNotes:CameraISO\": \"Auto\", \"MakerNotes:MeteringMode\": 3, \"MakerNotes:FocusRange\": 1, \"MakerNotes:AFPoint\": 16390, \"MakerNotes:CanonExposureMode\": 0, \"MakerNotes:LensType\": 65535, \"MakerNotes:MaxFocalLength\": 90, \"MakerNotes:MinFocalLength\": 4.5, \"MakerNotes:FocalUnits\": 100, \"MakerNotes:MaxAperture\": 3.56359487256136, \"MakerNotes:MinAperture\": 8, \"MakerNotes:FlashBits\": 0, \"MakerNotes:FocusContinuous\": 1, \"MakerNotes:AESetting\": 0, \"MakerNotes:ImageStabilization\": 257, \"MakerNotes:ZoomSourceWidth\": 4000, \"MakerNotes:ZoomTargetWidth\": 4000, \"MakerNotes:SpotMeteringMode\": 0, \"MakerNotes:ManualFlashOutput\": 0, \"MakerNotes:AutoISO\": 138.390988196383, \"MakerNotes:BaseISO\": 200, \"MakerNotes:MeasuredEV\": 13.09375, \"MakerNotes:TargetAperture\": 3.56359487256136, \"MakerNotes:TargetExposureTime\": \"0.000997946434232536\", \"MakerNotes:ExposureCompensation\": -0.333333333333333, \"MakerNotes:WhiteBalance\": -1, \"MakerNotes:SlowShutter\": 0, \"MakerNotes:SequenceNumber\": 0, \"MakerNotes:OpticalZoomCode\": 0, \"MakerNotes:FlashGuideNumber\": 0, \"MakerNotes:FlashExposureComp\": 0, \"MakerNotes:AutoExposureBracketing\": 0, \"MakerNotes:AEBBracketValue\": 0, \"MakerNotes:ControlMode\": 1, \"MakerNotes:FocusDistanceUpper\": 0.67, \"MakerNotes:FocusDistanceLower\": 0, \"MakerNotes:FNumber\": 3.58941815000621, \"MakerNotes:ExposureTime\": 0.0009765625, \"MakerNotes:BulbDuration\": 0, \"MakerNotes:CameraType\": 250, \"MakerNotes:AutoRotate\": 1, \"MakerNotes:NDFilter\": 0, \"MakerNotes:SelfTimer2\": 0, \"MakerNotes:FlashOutput\": 0, \"MakerNotes:CanonImageType\": \"IMG:PowerShot SX280 HS JPEG\", \"MakerNotes:CanonFirmwareVersion\": \"Firmware Version 1.01\", \"MakerNotes:FileNumber\": 1131323, \"MakerNotes:CameraTemperature\": 25, \"MakerNotes:CanonModelID\": 54525952, \"MakerNotes:ThumbnailImageValidArea\": \"0 0 0 0\", \"MakerNotes:DateStampMode\": 0, \"MakerNotes:MyColorMode\": 0, \"MakerNotes:FirmwareRevision\": 16843264, \"MakerNotes:Categories\": 1, \"MakerNotes:AFAreaMode\": 5, \"MakerNotes:NumAFPoints\": 9, \"MakerNotes:ValidAFPoints\": 1, \"MakerNotes:CanonImageWidth\": 4000, \"MakerNotes:CanonImageHeight\": 3000, \"MakerNotes:AFImageWidth\": 4000, \"MakerNotes:AFImageHeight\": 3000, \"MakerNotes:AFAreaWidths\": \"588 536 536 536 536 536 391 4 4\", \"MakerNotes:AFAreaHeights\": \"588 536 536 536 536 34 -680 -21928 -680\", \"MakerNotes:AFAreaXPositions\": \"-174 536 536 536 536 536 536 536 536\", \"MakerNotes:AFAreaYPositions\": \"-112 536 536 536 536 536 536 536 536\", \"MakerNotes:AFPointsInFocus\": 1, \"MakerNotes:PrimaryAFPoint\": 0, \"MakerNotes:IntelligentContrast\": 0, \"MakerNotes:ImageUniqueID\": \"16ede0ae2dfe15b03decf9a547c0d196\", \"MakerNotes:FacesDetected\": 1, \"MakerNotes:TimeZone\": -300, \"MakerNotes:TimeZoneCity\": 32766, \"MakerNotes:DaylightSavings\": 0, \"MakerNotes:AspectRatio\": 2, \"MakerNotes:CroppedImageWidth\": 4000, \"MakerNotes:CroppedImageHeight\": 3000, \"MakerNotes:CroppedImageLeft\": 0, \"MakerNotes:CroppedImageTop\": 0, \"MakerNotes:VRDOffset\": 0, \"XMP:Rating\": 0, \"MPF:MPFVersion\": \"0100\", \"MPF:NumberOfImages\": 2, \"MPF:MPImageFlags\": 1073741824, \"MPF:MPImageFormat\": 0, \"MPF:MPImageType\": 65538, \"MPF:MPImageLength\": 339411, \"MPF:MPImageStart\": 2386432, \"MPF:DependentImage1EntryNumber\": 0, \"MPF:DependentImage2EntryNumber\": 0, \"MPF:PreviewImage\": \"(Binary data 339411 bytes, use -b option to extract)\", \"Composite:Aperture\": 3.5, \"Composite:DriveMode\": 2, \"Composite:ISO\": 276.781976392766, \"Composite:ImageSize\": \"4000x3000\", \"Composite:Lens\": 4.5, \"Composite:LensID\": 65535, \"Composite:Megapixels\": 12, \"Composite:ScaleFactor35efl\": 5.58495098819774, \"Composite:ShootingMode\": 64, \"Composite:ShutterSpeed\": 0.001, \"Composite:CircleOfConfusion\": \"0.00537986111111111\", \"Composite:DOF\": \"0.256250158662763 0.48362619540895\", \"Composite:FOV\": 71.2213247702059, \"Composite:FocalLength35efl\": 25.1322794468898, \"Composite:HyperfocalDistance\": 1.07543934057423, \"Composite:Lens35efl\": 25.1322794468898, \"Composite:LightValue\": 12.2585660338899}']\n",
      "\n",
      "COMMIT\n"
     ]
    }
   ],
   "source": [
    "db.commit()\n"
   ]
  },
  {
   "cell_type": "code",
   "execution_count": 23,
   "metadata": {},
   "outputs": [],
   "source": [
    "M = select(c for c in Media if c.id == 1)\n"
   ]
  },
  {
   "cell_type": "code",
   "execution_count": 24,
   "metadata": {},
   "outputs": [
    {
     "name": "stdout",
     "output_type": "stream",
     "text": [
      "SELECT `c`.`id`, `c`.`xxhash`, `c`.`size`, `c`.`exif`\n",
      "FROM `media` `c`\n",
      "WHERE `c`.`id` = 1\n",
      "\n",
      "CONNECTION FAILED: (2006, \"MySQL server has gone away (BrokenPipeError(32, 'Broken pipe'))\")\n",
      "CLOSE CONNECTION\n",
      "GET NEW CONNECTION\n",
      "SELECT `c`.`id`, `c`.`xxhash`, `c`.`size`, `c`.`exif`\n",
      "FROM `media` `c`\n",
      "WHERE `c`.`id` = 1\n",
      "\n"
     ]
    }
   ],
   "source": [
    "for m in M:\n",
    "    break\n"
   ]
  },
  {
   "cell_type": "code",
   "execution_count": 25,
   "metadata": {},
   "outputs": [
    {
     "data": {
      "text/plain": [
       "Media[1]"
      ]
     },
     "execution_count": 25,
     "metadata": {},
     "output_type": "execute_result"
    }
   ],
   "source": [
    "m\n"
   ]
  },
  {
   "cell_type": "code",
   "execution_count": 26,
   "metadata": {},
   "outputs": [
    {
     "data": {
      "text/plain": [
       "250"
      ]
     },
     "execution_count": 26,
     "metadata": {},
     "output_type": "execute_result"
    }
   ],
   "source": [
    "m.exif[\"EXIF:ISO\"]\n"
   ]
  },
  {
   "cell_type": "code",
   "execution_count": 35,
   "metadata": {},
   "outputs": [],
   "source": [
    "M = select(c for c in Media if m.exif[\"EXIF:ISO\"] == 250)\n"
   ]
  },
  {
   "cell_type": "code",
   "execution_count": 36,
   "metadata": {},
   "outputs": [
    {
     "name": "stdout",
     "output_type": "stream",
     "text": [
      "SELECT `c`.`id`, `c`.`xxhash`, `c`.`size`, `c`.`exif`\n",
      "FROM `media` `c`\n",
      "WHERE %s\n",
      "[True]\n",
      "\n"
     ]
    }
   ],
   "source": [
    "for m in M:\n",
    "    break\n"
   ]
  },
  {
   "cell_type": "code",
   "execution_count": 37,
   "metadata": {},
   "outputs": [
    {
     "data": {
      "text/plain": [
       "Media[1]"
      ]
     },
     "execution_count": 37,
     "metadata": {},
     "output_type": "execute_result"
    }
   ],
   "source": [
    "m\n"
   ]
  },
  {
   "cell_type": "code",
   "execution_count": 54,
   "metadata": {},
   "outputs": [],
   "source": [
    "for key in keys:\n",
    "    break\n"
   ]
  },
  {
   "cell_type": "code",
   "execution_count": 61,
   "metadata": {},
   "outputs": [],
   "source": [
    "exif_ = r.get(key).decode(\"UTF-8\")\n"
   ]
  },
  {
   "cell_type": "code",
   "execution_count": 63,
   "metadata": {},
   "outputs": [],
   "source": [
    "exif = json.loads(e)\n"
   ]
  },
  {
   "cell_type": "code",
   "execution_count": 64,
   "metadata": {},
   "outputs": [],
   "source": [
    "file = exif[\"SourceFile\"]\n"
   ]
  },
  {
   "cell_type": "code",
   "execution_count": 66,
   "metadata": {},
   "outputs": [
    {
     "data": {
      "text/plain": [
       "27.873221397399902"
      ]
     },
     "execution_count": 66,
     "metadata": {},
     "output_type": "execute_result"
    }
   ],
   "source": [
    "SIZE = os.stat(file).st_size / 1024 ** 2\n",
    "SIZE\n"
   ]
  }
 ],
 "metadata": {
  "kernelspec": {
   "display_name": "Python 3",
   "language": "python",
   "name": "python3"
  },
  "language_info": {
   "codemirror_mode": {
    "name": "ipython",
    "version": 3
   },
   "file_extension": ".py",
   "mimetype": "text/x-python",
   "name": "python",
   "nbconvert_exporter": "python",
   "pygments_lexer": "ipython3",
   "version": "3.6.5"
  }
 },
 "nbformat": 4,
 "nbformat_minor": 2
}
