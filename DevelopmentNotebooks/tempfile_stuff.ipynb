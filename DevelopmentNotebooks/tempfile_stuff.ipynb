{
 "cells": [
  {
   "cell_type": "code",
   "execution_count": 1,
   "metadata": {},
   "outputs": [],
   "source": [
    "import tempfile"
   ]
  },
  {
   "cell_type": "code",
   "execution_count": 12,
   "metadata": {},
   "outputs": [
    {
     "data": {
      "text/plain": [
       "[<tempfile._TemporaryFileWrapper at 0x7f161c1e2668>,\n",
       " <tempfile._TemporaryFileWrapper at 0x7f161c1e2438>]"
      ]
     },
     "execution_count": 12,
     "metadata": {},
     "output_type": "execute_result"
    }
   ],
   "source": [
    "temp_files = list()\n",
    "for delete in [True, False]:\n",
    "    with tempfile.NamedTemporaryFile(mode=\"w\", delete=delete) as f:\n",
    "        temp_files.append(f)\n",
    "temp_files"
   ]
  },
  {
   "cell_type": "code",
   "execution_count": 14,
   "metadata": {},
   "outputs": [
    {
     "name": "stdout",
     "output_type": "stream",
     "text": [
      "/tmp/tmphjsbsjxj\n",
      "False\n",
      "/tmp/tmp4vqxusnp\n",
      "True\n"
     ]
    }
   ],
   "source": [
    "for temp_file in temp_files:\n",
    "    print(temp_file.name)\n",
    "    print(os.path.exists(temp_file.name))"
   ]
  },
  {
   "cell_type": "code",
   "execution_count": 18,
   "metadata": {},
   "outputs": [
    {
     "data": {
      "text/plain": [
       "<_io.TextIOWrapper name=59 mode='w' encoding='UTF-8'>"
      ]
     },
     "execution_count": 18,
     "metadata": {},
     "output_type": "execute_result"
    }
   ],
   "source": [
    "temp_file.file"
   ]
  },
  {
   "cell_type": "code",
   "execution_count": 19,
   "metadata": {},
   "outputs": [],
   "source": [
    "f = tempfile.NamedTemporaryFile(mode=\"w\", delete=delete)"
   ]
  },
  {
   "cell_type": "code",
   "execution_count": 20,
   "metadata": {},
   "outputs": [
    {
     "data": {
      "text/plain": [
       "<tempfile._TemporaryFileWrapper at 0x7f161c1e2a20>"
      ]
     },
     "execution_count": 20,
     "metadata": {},
     "output_type": "execute_result"
    }
   ],
   "source": [
    "f"
   ]
  },
  {
   "cell_type": "code",
   "execution_count": 22,
   "metadata": {},
   "outputs": [
    {
     "data": {
      "text/plain": [
       "5"
      ]
     },
     "execution_count": 22,
     "metadata": {},
     "output_type": "execute_result"
    }
   ],
   "source": [
    "f.write(\"Hello\")"
   ]
  },
  {
   "cell_type": "code",
   "execution_count": 24,
   "metadata": {},
   "outputs": [
    {
     "data": {
      "text/plain": [
       "False"
      ]
     },
     "execution_count": 24,
     "metadata": {},
     "output_type": "execute_result"
    }
   ],
   "source": [
    "f.closed"
   ]
  },
  {
   "cell_type": "code",
   "execution_count": 25,
   "metadata": {},
   "outputs": [
    {
     "data": {
      "text/plain": [
       "'/tmp/tmpio4v21h7'"
      ]
     },
     "execution_count": 25,
     "metadata": {},
     "output_type": "execute_result"
    }
   ],
   "source": [
    "f.name"
   ]
  },
  {
   "cell_type": "code",
   "execution_count": 27,
   "metadata": {},
   "outputs": [],
   "source": [
    "f.close()"
   ]
  },
  {
   "cell_type": "code",
   "execution_count": 28,
   "metadata": {},
   "outputs": [
    {
     "name": "stdout",
     "output_type": "stream",
     "text": [
      "Hello"
     ]
    }
   ],
   "source": [
    "!cat /tmp/tmpio4v21h7"
   ]
  },
  {
   "cell_type": "code",
   "execution_count": 29,
   "metadata": {},
   "outputs": [],
   "source": [
    "from w3c_validator import validate\n"
   ]
  },
  {
   "cell_type": "code",
   "execution_count": 30,
   "metadata": {},
   "outputs": [],
   "source": [
    "validate?"
   ]
  },
  {
   "cell_type": "code",
   "execution_count": 31,
   "metadata": {},
   "outputs": [],
   "source": [
    "html5=\"\"\"<!DOCTYPE html>\n",
    "<html lang=\"en\">\n",
    "<head>\n",
    "\t<meta charset=\"utf-8\">\n",
    "\t<title>HTML5 boilerplate – all you really need…</title>\n",
    "\t<link rel=\"stylesheet\" href=\"/gallery/style.css\">\n",
    "\t<!--[if IE]>\n",
    "\t\t<script src=\"http://html5shiv.googlecode.com/svn/trunk/html5.js\"></script>\n",
    "\t<![endif]-->\n",
    "</head>\n",
    "\n",
    "<body id=\"home\">\n",
    "\n",
    "<h1>HTML5 boilerplate</h1>\n",
    "\n",
    "<!-- Core CSS file -->\n",
    "<link rel=\"stylesheet\" href=\"/gallery/static/photoswipe.css\">\n",
    "<!-- Skin CSS file (styling of UI - buttons, caption, etc.)\n",
    "     In the folder of skin CSS file there are also:\n",
    "     - .png and .svg icons sprite,\n",
    "     - preloader.gif (for browsers that do not support CSS animations) -->\n",
    "<link rel=\"stylesheet\" href=\"/gallery/static/default-skin/default-skin.css\">\n",
    "<!-- Core JS file -->\n",
    "<script src=\"/gallery/static/photoswipe.min.js\"></script>\n",
    "<!-- UI JS file -->\n",
    "<script src=\"/gallery/static/photoswipe-ui-default.min.js\"></script>\n",
    "\n",
    "<!--\n",
    "DEBUG:\n",
    "\n",
    "\n",
    "\n",
    "/tmp/darknet/data/giraffe.jpg\n",
    "\n",
    "/tmp/darknet/data/person.jpg\n",
    "\n",
    "/tmp/darknet/data/eagle.jpg\n",
    "\n",
    "/tmp/darknet/data/scream.jpg\n",
    "\n",
    "/tmp/darknet/data/kite.jpg\n",
    "\n",
    "/tmp/darknet/data/dog.jpg\n",
    "\n",
    "/tmp/darknet/data/horses.jpg\n",
    "\n",
    "-->\n",
    "\n",
    "</body>\n",
    "</html>\"\"\""
   ]
  },
  {
   "cell_type": "code",
   "execution_count": 33,
   "metadata": {},
   "outputs": [],
   "source": [
    "with tempfile.NamedTemporaryFile(mode=\"w\", delete=False) as f:\n",
    "    f.write(html5)\n",
    "    html5_=f.name"
   ]
  },
  {
   "cell_type": "code",
   "execution_count": 34,
   "metadata": {},
   "outputs": [
    {
     "data": {
      "text/plain": [
       "{'url': '/tmp/tmp56ltt8ah',\n",
       " 'messages': [],\n",
       " 'source': {'type': 'text/html',\n",
       "  'code': '<!DOCTYPE html>\\n<html lang=\"en\">\\n<head>\\n\\t<meta charset=\"utf-8\">\\n\\t<title>HTML5 boilerplate – all you really need…</title>\\n\\t<link rel=\"stylesheet\" href=\"/gallery/style.css\">\\n\\t<!--[if IE]>\\n\\t\\t<script src=\"http://html5shiv.googlecode.com/svn/trunk/html5.js\"></script>\\n\\t<![endif]-->\\n</head>\\n\\n<body id=\"home\">\\n\\n<h1>HTML5 boilerplate</h1>\\n\\n<!-- Core CSS file -->\\n<link rel=\"stylesheet\" href=\"/gallery/static/photoswipe.css\">\\n<!-- Skin CSS file (styling of UI - buttons, caption, etc.)\\n     In the folder of skin CSS file there are also:\\n     - .png and .svg icons sprite,\\n     - preloader.gif (for browsers that do not support CSS animations) -->\\n<link rel=\"stylesheet\" href=\"/gallery/static/default-skin/default-skin.css\">\\n<!-- Core JS file -->\\n<script src=\"/gallery/static/photoswipe.min.js\"></script>\\n<!-- UI JS file -->\\n<script src=\"/gallery/static/photoswipe-ui-default.min.js\"></script>\\n\\n<!--\\nDEBUG:\\n\\n\\n\\n/tmp/darknet/data/giraffe.jpg\\n\\n/tmp/darknet/data/person.jpg\\n\\n/tmp/darknet/data/eagle.jpg\\n\\n/tmp/darknet/data/scream.jpg\\n\\n/tmp/darknet/data/kite.jpg\\n\\n/tmp/darknet/data/dog.jpg\\n\\n/tmp/darknet/data/horses.jpg\\n\\n-->\\n\\n</body>\\n</html>'}}"
      ]
     },
     "execution_count": 34,
     "metadata": {},
     "output_type": "execute_result"
    }
   ],
   "source": [
    "validate(html5_)"
   ]
  },
  {
   "cell_type": "code",
   "execution_count": 36,
   "metadata": {},
   "outputs": [],
   "source": [
    "f.flush?"
   ]
  },
  {
   "cell_type": "code",
   "execution_count": 37,
   "metadata": {},
   "outputs": [],
   "source": [
    "import json"
   ]
  },
  {
   "cell_type": "code",
   "execution_count": 42,
   "metadata": {},
   "outputs": [
    {
     "ename": "SyntaxError",
     "evalue": "keyword can't be an expression (<ipython-input-42-4ce46a405c5b>, line 1)",
     "output_type": "error",
     "traceback": [
      "\u001b[0;36m  File \u001b[0;32m\"<ipython-input-42-4ce46a405c5b>\"\u001b[0;36m, line \u001b[0;32m1\u001b[0m\n\u001b[0;31m    json.dumps(dict(\"items\"=list(\"a\", \"b\")))\u001b[0m\n\u001b[0m                   ^\u001b[0m\n\u001b[0;31mSyntaxError\u001b[0m\u001b[0;31m:\u001b[0m keyword can't be an expression\n"
     ]
    }
   ],
   "source": [
    "json.dumps(dict(\"items\"=list(\"a\", \"b\")))"
   ]
  },
  {
   "cell_type": "code",
   "execution_count": null,
   "metadata": {},
   "outputs": [],
   "source": []
  }
 ],
 "metadata": {
  "kernelspec": {
   "display_name": "Python 3",
   "language": "python",
   "name": "python3"
  },
  "language_info": {
   "codemirror_mode": {
    "name": "ipython",
    "version": 3
   },
   "file_extension": ".py",
   "mimetype": "text/x-python",
   "name": "python",
   "nbconvert_exporter": "python",
   "pygments_lexer": "ipython3",
   "version": "3.6.6"
  }
 },
 "nbformat": 4,
 "nbformat_minor": 2
}
