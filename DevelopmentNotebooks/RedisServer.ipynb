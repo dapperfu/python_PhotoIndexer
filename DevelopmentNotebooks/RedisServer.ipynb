{
 "cells": [
  {
   "cell_type": "code",
   "execution_count": null,
   "metadata": {},
   "outputs": [],
   "source": [
    "import os\n",
    "import subprocess\n",
    "import tempfile\n",
    "\n",
    "import jinja2"
   ]
  },
  {
   "cell_type": "code",
   "execution_count": 6,
   "metadata": {},
   "outputs": [],
   "source": [
    "temp = tempfile.TemporaryDirectory(suffix=\"_redis\", prefix=\"indexer_\")\n"
   ]
  },
  {
   "cell_type": "code",
   "execution_count": 7,
   "metadata": {},
   "outputs": [
    {
     "data": {
      "text/plain": [
       "'/tmp/indexer_wcwjaufs_redis'"
      ]
     },
     "execution_count": 7,
     "metadata": {},
     "output_type": "execute_result"
    }
   ],
   "source": [
    "temp.name\n"
   ]
  },
  {
   "cell_type": "code",
   "execution_count": 9,
   "metadata": {},
   "outputs": [],
   "source": [
    "!ls '/tmp/indexer_wcwjaufs_redis'"
   ]
  },
  {
   "cell_type": "code",
   "execution_count": 18,
   "metadata": {},
   "outputs": [],
   "source": [
    "redis_conf_template = \"\"\"bind 127.0.0.1 ::1\n",
    "\n",
    "protected-mode yes\n",
    "\n",
    "port 6379\n",
    "\n",
    "tcp-backlog 511\n",
    "\n",
    "unixsocket {{ temp.name }}/redis-server.sock\n",
    "unixsocketperm 777\n",
    "\n",
    "timeout 0\n",
    "\n",
    "tcp-keepalive 300\n",
    "\n",
    "daemonize no\n",
    "\n",
    "supervised no\n",
    "\n",
    "pidfile {{ temp.name }}/redis-server.pid\n",
    "\n",
    "loglevel notice\n",
    "\n",
    "logfile {{ temp.name }}/redis-server.log\n",
    "\n",
    "databases 64\n",
    "\n",
    "always-show-logo yes\n",
    "\n",
    "save 900 1\n",
    "save 300 10\n",
    "save 60 1000\n",
    "\n",
    "stop-writes-on-bgsave-error yes\n",
    "\n",
    "rdbcompression yes\n",
    "\n",
    "rdbchecksum yes\n",
    "\n",
    "dbfilename dump.rdb\n",
    "\n",
    "dir {{ temp.name }}\n",
    "\n",
    "slave-serve-stale-data yes\n",
    "\n",
    "slave-read-only yes\n",
    "\n",
    "repl-diskless-sync no\n",
    "\n",
    "repl-diskless-sync-delay 5\n",
    "\n",
    "repl-disable-tcp-nodelay no\n",
    "\n",
    "slave-priority 100\n",
    "\n",
    "lazyfree-lazy-eviction no\n",
    "lazyfree-lazy-expire no\n",
    "lazyfree-lazy-server-del no\n",
    "slave-lazy-flush no\n",
    "\n",
    "appendonly no\n",
    "\n",
    "appendfilename \"appendonly.aof\"\n",
    "\n",
    "appendfsync everysec\n",
    "\n",
    "no-appendfsync-on-rewrite no\n",
    "\n",
    "auto-aof-rewrite-percentage 100\n",
    "auto-aof-rewrite-min-size 64mb\n",
    "\n",
    "aof-load-truncated yes\n",
    "\n",
    "aof-use-rdb-preamble no\n",
    "\n",
    "lua-time-limit 5000\n",
    "\n",
    "slowlog-log-slower-than 10000\n",
    "\n",
    "slowlog-max-len 128\n",
    "\n",
    "latency-monitor-threshold 0\n",
    "\n",
    "notify-keyspace-events \"\"\n",
    "\n",
    "hash-max-ziplist-entries 512\n",
    "hash-max-ziplist-value 64\n",
    "\n",
    "list-max-ziplist-size -2\n",
    "\n",
    "list-compress-depth 0\n",
    "\n",
    "set-max-intset-entries 512\n",
    "\n",
    "zset-max-ziplist-entries 128\n",
    "zset-max-ziplist-value 64\n",
    "\n",
    "hll-sparse-max-bytes 3000\n",
    "\n",
    "activerehashing yes\n",
    "\n",
    "client-output-buffer-limit normal 0 0 0\n",
    "client-output-buffer-limit slave 256mb 64mb 60\n",
    "client-output-buffer-limit pubsub 32mb 8mb 60\n",
    "\n",
    "hz 10\n",
    "\n",
    "aof-rewrite-incremental-fsync yes\n",
    "\"\"\"\n"
   ]
  },
  {
   "cell_type": "code",
   "execution_count": 20,
   "metadata": {},
   "outputs": [
    {
     "data": {
      "text/plain": [
       "'/tmp/indexer_wcwjaufs_redis/redis.conf'"
      ]
     },
     "execution_count": 20,
     "metadata": {},
     "output_type": "execute_result"
    }
   ],
   "source": [
    "redis_conf_file = os.path.join(temp.name, \"redis.conf\")\n",
    "redis_conf_file\n"
   ]
  },
  {
   "cell_type": "code",
   "execution_count": 21,
   "metadata": {},
   "outputs": [],
   "source": [
    "with open(redis_conf_file, \"w\") as fid:\n",
    "    fid.write(jinja2.Template(redis_conf_template).render(temp=temp))\n"
   ]
  },
  {
   "cell_type": "code",
   "execution_count": 22,
   "metadata": {},
   "outputs": [
    {
     "data": {
      "text/plain": [
       "'/tmp/indexer_wcwjaufs_redis'"
      ]
     },
     "execution_count": 22,
     "metadata": {},
     "output_type": "execute_result"
    }
   ],
   "source": [
    "temp.name\n"
   ]
  }
 ],
 "metadata": {
  "kernelspec": {
   "display_name": "Python 3",
   "language": "python",
   "name": "python3"
  },
  "language_info": {
   "codemirror_mode": {
    "name": "ipython",
    "version": 3
   },
   "file_extension": ".py",
   "mimetype": "text/x-python",
   "name": "python",
   "nbconvert_exporter": "python",
   "pygments_lexer": "ipython3",
   "version": "3.8.2"
  }
 },
 "nbformat": 4,
 "nbformat_minor": 2
}
