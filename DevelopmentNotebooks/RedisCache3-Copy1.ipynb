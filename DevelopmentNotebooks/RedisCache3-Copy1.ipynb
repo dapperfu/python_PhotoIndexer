{
 "cells": [
  {
   "cell_type": "code",
   "execution_count": 1,
   "metadata": {},
   "outputs": [],
   "source": [
    "%load_ext autoreload\n",
    "%autoreload 1"
   ]
  },
  {
   "cell_type": "code",
   "execution_count": 2,
   "metadata": {},
   "outputs": [],
   "source": [
    "%aimport MediaIndexer\n",
    "%aimport MediaIndexer.utils\n",
    "%aimport MediaIndexer.redis_cache\n",
    "%aimport MediaIndexer.redis_utils\n",
    "import glob"
   ]
  },
  {
   "cell_type": "code",
   "execution_count": 3,
   "metadata": {},
   "outputs": [
    {
     "data": {
      "text/plain": [
       "{'rq': Redis<ConnectionPool<Connection<host=127.0.0.1,port=6379,db=0>>>,\n",
       " 'rq_thumb': Redis<ConnectionPool<Connection<host=127.0.0.1,port=6379,db=1>>>,\n",
       " 'rq_cache': Redis<ConnectionPool<Connection<host=127.0.0.1,port=6379,db=2>>>,\n",
       " 'cache_xxhash': Redis<ConnectionPool<Connection<host=127.0.0.1,port=6379,db=10>>>,\n",
       " 'cache_exif': Redis<ConnectionPool<Connection<host=127.0.0.1,port=6379,db=11>>>}"
      ]
     },
     "execution_count": 3,
     "metadata": {},
     "output_type": "execute_result"
    }
   ],
   "source": [
    "databases = MediaIndexer.redis_utils.load_databases(\"../cfg_local.ini\")\n",
    "databases\n"
   ]
  },
  {
   "cell_type": "code",
   "execution_count": 28,
   "metadata": {},
   "outputs": [
    {
     "name": "stdout",
     "output_type": "stream",
     "text": [
      "rq: 25902\n",
      "rq_thumb: 0\n",
      "rq_cache: 0\n",
      "cache_xxhash: 14138\n",
      "cache_exif: 6828\n"
     ]
    }
   ],
   "source": [
    "for db_name, database in databases.items():\n",
    "    print(\"{}: {}\".format(db_name, database.dbsize()))"
   ]
  },
  {
   "cell_type": "code",
   "execution_count": 23,
   "metadata": {},
   "outputs": [],
   "source": [
    "import get_files"
   ]
  },
  {
   "cell_type": "code",
   "execution_count": 7,
   "metadata": {},
   "outputs": [],
   "source": [
    "cfg= {\n",
    "    'directory': \"/vault/pictures/2019/\",\n",
    "    'extensions': [\".jpg\", \".dng\", \".cr2\"]\n",
    "}\n",
    "\n",
    "test_images = get_files.get_files(**cfg)\n",
    "\n",
    "for image in test_images:\n",
    "    break"
   ]
  },
  {
   "cell_type": "code",
   "execution_count": 8,
   "metadata": {},
   "outputs": [
    {
     "data": {
      "text/plain": [
       "'/vault/pictures/2019/03-Mar/20190330_100146.jpg'"
      ]
     },
     "execution_count": 8,
     "metadata": {},
     "output_type": "execute_result"
    }
   ],
   "source": [
    "image"
   ]
  }
 ],
 "metadata": {
  "kernelspec": {
   "display_name": "Python 3",
   "language": "python",
   "name": "python3"
  },
  "language_info": {
   "codemirror_mode": {
    "name": "ipython",
    "version": 3
   },
   "file_extension": ".py",
   "mimetype": "text/x-python",
   "name": "python",
   "nbconvert_exporter": "python",
   "pygments_lexer": "ipython3",
   "version": "3.6.8"
  }
 },
 "nbformat": 4,
 "nbformat_minor": 2
}
