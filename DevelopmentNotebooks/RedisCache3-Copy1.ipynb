{
 "cells": [
  {
   "cell_type": "code",
   "execution_count": 3,
   "metadata": {},
   "outputs": [
    {
     "name": "stdout",
     "output_type": "stream",
     "text": [
      "The autoreload extension is already loaded. To reload it, use:\n",
      "  %reload_ext autoreload\n"
     ]
    }
   ],
   "source": [
    "%load_ext autoreload\n",
    "%autoreload 1"
   ]
  },
  {
   "cell_type": "code",
   "execution_count": 4,
   "metadata": {},
   "outputs": [],
   "source": [
    "%aimport MediaIndexer\n",
    "%aimport MediaIndexer.utils\n",
    "%aimport MediaIndexer.redis_cache\n",
    "%aimport MediaIndexer.redis_utils\n",
    "import glob\n",
    "\n",
    "from IPython.display import display\n",
    "\n",
    "import MediaIndexer.utils"
   ]
  },
  {
   "cell_type": "code",
   "execution_count": 5,
   "metadata": {},
   "outputs": [
    {
     "data": {
      "text/plain": [
       "{'rq': Redis<ConnectionPool<Connection<host=127.0.0.1,port=6379,db=0>>>,\n",
       " 'rq_thumb': Redis<ConnectionPool<Connection<host=127.0.0.1,port=6379,db=1>>>,\n",
       " 'rq_cache': Redis<ConnectionPool<Connection<host=127.0.0.1,port=6379,db=2>>>,\n",
       " 'cache_xxhash': Redis<ConnectionPool<Connection<host=127.0.0.1,port=6379,db=10>>>,\n",
       " 'cache_xxhash_': Redis<ConnectionPool<Connection<host=127.0.0.1,port=6379,db=11>>>,\n",
       " 'cache_exif': Redis<ConnectionPool<Connection<host=127.0.0.1,port=6379,db=12>>>,\n",
       " 'cache_sha512': Redis<ConnectionPool<Connection<host=127.0.0.1,port=6379,db=13>>>,\n",
       " 'cache_sha512_': Redis<ConnectionPool<Connection<host=127.0.0.1,port=6379,db=13>>>}"
      ]
     },
     "execution_count": 5,
     "metadata": {},
     "output_type": "execute_result"
    }
   ],
   "source": [
    "databases = MediaIndexer.redis_utils.load_databases(\"../config.ini\")\n",
    "databases\n"
   ]
  },
  {
   "cell_type": "code",
   "execution_count": 6,
   "metadata": {},
   "outputs": [
    {
     "name": "stdout",
     "output_type": "stream",
     "text": [
      "rq: 337\n",
      "rq_thumb: 0\n",
      "rq_cache: 0\n",
      "cache_xxhash: 12927\n",
      "cache_xxhash_: 12927\n",
      "cache_exif: 12927\n",
      "cache_sha512: 0\n",
      "cache_sha512_: 0\n"
     ]
    }
   ],
   "source": [
    "for db_name, database in databases.items():\n",
    "    print(\"{}: {}\".format(db_name, database.dbsize()))\n"
   ]
  },
  {
   "cell_type": "code",
   "execution_count": 8,
   "metadata": {},
   "outputs": [
    {
     "data": {
      "text/plain": [
       "Redis<ConnectionPool<Connection<host=127.0.0.1,port=6379,db=12>>>"
      ]
     },
     "execution_count": 8,
     "metadata": {},
     "output_type": "execute_result"
    }
   ],
   "source": [
    "for db_name, database in databases.items():\n",
    "    if db_name==\"cache_exif\":\n",
    "        break\n",
    "database"
   ]
  },
  {
   "cell_type": "code",
   "execution_count": 10,
   "metadata": {},
   "outputs": [],
   "source": [
    "for key in database.keys():\n",
    "    break\n"
   ]
  },
  {
   "cell_type": "code",
   "execution_count": 17,
   "metadata": {},
   "outputs": [
    {
     "data": {
      "text/plain": [
       "16"
      ]
     },
     "execution_count": 17,
     "metadata": {},
     "output_type": "execute_result"
    }
   ],
   "source": [
    "len(key.decode())"
   ]
  },
  {
   "cell_type": "code",
   "execution_count": 13,
   "metadata": {},
   "outputs": [],
   "source": [
    "tn_ = database.get(key)\n"
   ]
  },
  {
   "cell_type": "code",
   "execution_count": 14,
   "metadata": {},
   "outputs": [
    {
     "data": {
      "text/plain": [
       "b'{\"SourceFile\": \"/home/user1/Pictures/2019/20191202/G0097297.jpg\", \"ExifTool:ExifToolVersion\": 11.88, \"ExifTool:Warning\": \"[minor] Unrecognized MakerNotes\", \"File:FileName\": \"G0097297.jpg\", \"File:Directory\": \"/home/user1/Pictures/2019/20191202\", \"File:FileSize\": 2104192, \"File:FileModifyDate\": \"2020:01:02 12:20:44-05:00\", \"File:FileAccessDate\": \"2020:03:12 23:37:43-04:00\", \"File:FileInodeChangeDate\": \"2020:03:10 10:57:15-04:00\", \"File:FilePermissions\": 755, \"File:FileType\": \"JPEG\", \"File:FileTypeExtension\": \"JPG\", \"File:MIMEType\": \"image/jpeg\", \"File:ExifByteOrder\": \"MM\", \"File:ImageWidth\": 4000, \"File:ImageHeight\": 3000, \"File:EncodingProcess\": 0, \"File:BitsPerSample\": 8, \"File:ColorComponents\": 3, \"File:YCbCrSubSampling\": \"2 1\", \"EXIF:ImageDescription\": \"DCIM\\\\\\\\105GOPRO\\\\\\\\G0097297.JPG\", \"EXIF:Make\": \"GoPro\", \"EXIF:Model\": \"HERO5 Black\", \"EXIF:Orientation\": 1, \"EXIF:XResolution\": 72, \"EXIF:YResolution\": 72, \"EXIF:ResolutionUnit\": 2, \"EXIF:Software\": \"HD5.02.02.60.00\", \"EXIF:ModifyDate\": \"2019:12:02 17:20:45\", \"EXIF:YCbCrPositioning\": 1, \"EXIF:ExposureTime\": 0.08, \"EXIF:FNumber\": 2.8, \"EXIF:ExposureProgram\": 2, \"EXIF:ISO\": 245, \"EXIF:ExifVersion\": \"0221\", \"EXIF:DateTimeOriginal\": \"2019:12:02 17:20:45\", \"EXIF:CreateDate\": \"2019:12:02 17:20:45\", \"EXIF:ComponentsConfiguration\": \"1 2 3 0\", \"EXIF:CompressedBitsPerPixel\": 14461165.98, \"EXIF:ShutterSpeedValue\": 0.0800474913331107, \"EXIF:ApertureValue\": 2.79917173119039, \"EXIF:ExposureCompensation\": 0, \"EXIF:MaxApertureValue\": 2.79917173119039, \"EXIF:SubjectDistance\": 0, \"EXIF:MeteringMode\": 0, \"EXIF:LightSource\": 0, \"EXIF:Flash\": 32, \"EXIF:FocalLength\": 3, \"EXIF:FlashpixVersion\": \"0100\", \"EXIF:ColorSpace\": 1, \"EXIF:ExifImageWidth\": 4000, \"EXIF:ExifImageHeight\": 3000, \"EXIF:InteropIndex\": \"R98\", \"EXIF:InteropVersion\": \"0100\", \"EXIF:ExposureIndex\": \"undef\", \"EXIF:SensingMethod\": 2, \"EXIF:FileSource\": 3, \"EXIF:SceneType\": 1, \"EXIF:CustomRendered\": 0, \"EXIF:ExposureMode\": 0, \"EXIF:WhiteBalance\": 0, \"EXIF:DigitalZoomRatio\": 1, \"EXIF:FocalLengthIn35mmFormat\": 35, \"EXIF:SceneCaptureType\": 1, \"EXIF:GainControl\": 0, \"EXIF:Contrast\": 0, \"EXIF:Saturation\": 0, \"EXIF:Sharpness\": 2, \"EXIF:DeviceSettingDescription\": \"(Binary data 4 bytes, use -b option to extract)\", \"EXIF:SubjectDistanceRange\": 0, \"EXIF:SerialNumber\": \"C3161390018483\", \"EXIF:GPSLatitudeRef\": \"N\", \"EXIF:GPSLatitude\": 43.2705541999722, \"EXIF:GPSLongitudeRef\": \"W\", \"EXIF:GPSLongitude\": 86.313038, \"EXIF:GPSAltitudeRef\": 0, \"EXIF:GPSAltitude\": 168.976, \"EXIF:GPSTimeStamp\": \"22:15:06\", \"EXIF:GPSDateStamp\": \"2019:12:02\", \"EXIF:Compression\": 6, \"EXIF:ThumbnailOffset\": 44032, \"EXIF:ThumbnailLength\": 4126, \"EXIF:ThumbnailImage\": \"(Binary data 4126 bytes, use -b option to extract)\", \"MPF:MPFVersion\": \"0100\", \"MPF:NumberOfImages\": 2, \"MPF:MPImageFlags\": 8, \"MPF:MPImageFormat\": 0, \"MPF:MPImageType\": 65537, \"MPF:MPImageLength\": 119893, \"MPF:MPImageStart\": 1984297, \"MPF:DependentImage1EntryNumber\": 0, \"MPF:DependentImage2EntryNumber\": 0, \"MPF:ImageUIDList\": \"(Binary data 66 bytes, use -b option to extract)\", \"MPF:TotalFrames\": 1, \"MPF:PreviewImage\": \"(Binary data 119893 bytes, use -b option to extract)\", \"Composite:Aperture\": 2.8, \"Composite:ImageSize\": \"4000 3000\", \"Composite:Megapixels\": 12, \"Composite:ScaleFactor35efl\": 11.6666666666667, \"Composite:ShutterSpeed\": 0.08, \"Composite:GPSAltitude\": 168.976, \"Composite:GPSDateTime\": \"2019:12:02 22:15:06Z\", \"Composite:GPSLatitude\": 43.2705541999722, \"Composite:GPSLongitude\": -86.313038, \"Composite:CircleOfConfusion\": \"0.00257539376818856\", \"Composite:FOV\": 54.4322690915856, \"Composite:FocalLength35efl\": 35.0000000000001, \"Composite:GPSPosition\": \"43.2705541999722 -86.313038\", \"Composite:HyperfocalDistance\": 1.24807544150677, \"Composite:LightValue\": 5.32192809488736}'"
      ]
     },
     "execution_count": 14,
     "metadata": {},
     "output_type": "execute_result"
    }
   ],
   "source": [
    "MediaIndexer."
   ]
  }
 ],
 "metadata": {
  "kernelspec": {
   "display_name": "Python 3",
   "language": "python",
   "name": "python3"
  },
  "language_info": {
   "codemirror_mode": {
    "name": "ipython",
    "version": 3
   },
   "file_extension": ".py",
   "mimetype": "text/x-python",
   "name": "python",
   "nbconvert_exporter": "python",
   "pygments_lexer": "ipython3",
   "version": "3.7.5"
  }
 },
 "nbformat": 4,
 "nbformat_minor": 2
}
