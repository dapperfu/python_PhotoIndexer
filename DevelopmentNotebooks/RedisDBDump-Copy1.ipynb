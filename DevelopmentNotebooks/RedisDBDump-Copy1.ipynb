{
 "cells": [
  {
   "cell_type": "code",
   "execution_count": null,
   "metadata": {},
   "outputs": [],
   "source": [
    "%aimport MediaIndexer\n",
    "%aimport MediaIndexer.utils\n",
    "%aimport MediaIndexer.redis_cache\n",
    "%aimport MediaIndexer.redis_utils\n",
    "import glob\n",
    "import os"
   ]
  },
  {
   "cell_type": "code",
   "execution_count": 5,
   "metadata": {},
   "outputs": [
    {
     "name": "stdout",
     "output_type": "stream",
     "text": [
      "The autoreload extension is already loaded. To reload it, use:\n",
      "  %reload_ext autoreload\n"
     ]
    }
   ],
   "source": []
  },
  {
   "cell_type": "code",
   "execution_count": 3,
   "metadata": {},
   "outputs": [
    {
     "data": {
      "text/plain": [
       "{'rq': StrictRedis<ConnectionPool<Connection<host=127.0.0.1,port=6379,db=0>>>,\n",
       " 'rq_thumb': StrictRedis<ConnectionPool<Connection<host=127.0.0.1,port=6379,db=1>>>,\n",
       " 'rq_cache': StrictRedis<ConnectionPool<Connection<host=127.0.0.1,port=6379,db=2>>>,\n",
       " 'cache_xxhash': StrictRedis<ConnectionPool<Connection<host=127.0.0.1,port=6379,db=10>>>,\n",
       " 'cache_xxhash_': StrictRedis<ConnectionPool<Connection<host=127.0.0.1,port=6379,db=11>>>,\n",
       " 'cache_exif': StrictRedis<ConnectionPool<Connection<host=127.0.0.1,port=6379,db=12>>>,\n",
       " 'cache_sha512': StrictRedis<ConnectionPool<Connection<host=127.0.0.1,port=6379,db=13>>>,\n",
       " 'cache_sha512_': StrictRedis<ConnectionPool<Connection<host=127.0.0.1,port=6379,db=13>>>,\n",
       " 'cache_image_128x128': StrictRedis<ConnectionPool<Connection<host=127.0.0.1,port=6379,db=20>>>,\n",
       " 'cache_image_608x608': StrictRedis<ConnectionPool<Connection<host=127.0.0.1,port=6379,db=21>>>,\n",
       " 'cache_image_2048x2048': StrictRedis<ConnectionPool<Connection<host=127.0.0.1,port=6379,db=22>>>,\n",
       " 'cache_image_3': StrictRedis<ConnectionPool<Connection<host=127.0.0.1,port=6379,db=23>>>,\n",
       " 'cache_image_4': StrictRedis<ConnectionPool<Connection<host=127.0.0.1,port=6379,db=24>>>,\n",
       " 'cache_image_5': StrictRedis<ConnectionPool<Connection<host=127.0.0.1,port=6379,db=25>>>,\n",
       " 'cache_image_6': StrictRedis<ConnectionPool<Connection<host=127.0.0.1,port=6379,db=26>>>,\n",
       " 'cache_image_7': StrictRedis<ConnectionPool<Connection<host=127.0.0.1,port=6379,db=27>>>,\n",
       " 'cache_image_8': StrictRedis<ConnectionPool<Connection<host=127.0.0.1,port=6379,db=28>>>,\n",
       " 'cache_image_9': StrictRedis<ConnectionPool<Connection<host=127.0.0.1,port=6379,db=29>>>}"
      ]
     },
     "execution_count": 3,
     "metadata": {},
     "output_type": "execute_result"
    }
   ],
   "source": [
    "databases = MediaIndexer.redis_utils.load_databases(\"../cfg_local.ini\")\n",
    "databases\n"
   ]
  },
  {
   "cell_type": "code",
   "execution_count": 4,
   "metadata": {},
   "outputs": [
    {
     "name": "stdout",
     "output_type": "stream",
     "text": [
      "rq: 25898\n",
      "rq_thumb: 0\n",
      "rq_cache: 0\n",
      "cache_xxhash: 26955\n",
      "cache_xxhash_: 14898\n",
      "cache_exif: 14895\n",
      "cache_sha512: 0\n",
      "cache_sha512_: 0\n",
      "cache_image_128x128: 13690\n",
      "cache_image_608x608: 13688\n",
      "cache_image_2048x2048: 13688\n",
      "cache_image_3: 0\n",
      "cache_image_4: 0\n",
      "cache_image_5: 0\n",
      "cache_image_6: 0\n",
      "cache_image_7: 0\n",
      "cache_image_8: 0\n",
      "cache_image_9: 0\n"
     ]
    }
   ],
   "source": [
    "for db_name, database in databases.items():\n",
    "    print(\"{}: {}\".format(db_name, database.dbsize()))\n"
   ]
  },
  {
   "cell_type": "code",
   "execution_count": 6,
   "metadata": {},
   "outputs": [],
   "source": [
    "db = databases[\"cache_image_608x608\"]\n"
   ]
  },
  {
   "cell_type": "code",
   "execution_count": 7,
   "metadata": {},
   "outputs": [],
   "source": [
    "for key in db.keys():\n",
    "    break\n"
   ]
  },
  {
   "cell_type": "code",
   "execution_count": 8,
   "metadata": {},
   "outputs": [],
   "source": [
    "tn_ = db.get(key)\n"
   ]
  },
  {
   "cell_type": "code",
   "execution_count": 10,
   "metadata": {},
   "outputs": [],
   "source": [
    "if not os.path.exists(\"cache\"):\n",
    "    os.makedirs(\"cache\")\n"
   ]
  },
  {
   "cell_type": "code",
   "execution_count": 12,
   "metadata": {},
   "outputs": [],
   "source": [
    "for key in db.keys():\n",
    "    tn_ = db.get(key)\n",
    "    out = os.path.join(\"cache\", \"{}.jpg\".format(key.decode(\"UTF-8\")))\n",
    "    MediaIndexer.utils.pil_thumbnail(tn_).save(out)\n"
   ]
  }
 ],
 "metadata": {
  "kernelspec": {
   "display_name": "Python 3",
   "language": "python",
   "name": "python3"
  },
  "language_info": {
   "codemirror_mode": {
    "name": "ipython",
    "version": 3
   },
   "file_extension": ".py",
   "mimetype": "text/x-python",
   "name": "python",
   "nbconvert_exporter": "python",
   "pygments_lexer": "ipython3",
   "version": "3.8.2"
  }
 },
 "nbformat": 4,
 "nbformat_minor": 2
}
