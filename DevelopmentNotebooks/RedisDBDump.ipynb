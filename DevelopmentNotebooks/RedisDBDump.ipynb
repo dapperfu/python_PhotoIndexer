{
 "cells": [
  {
   "cell_type": "code",
   "execution_count": null,
   "metadata": {},
   "outputs": [],
   "source": [
    "%aimport MediaIndexer\n",
    "%aimport MediaIndexer.utils\n",
    "%aimport MediaIndexer.redis_cache\n",
    "%aimport MediaIndexer.redis_utils\n",
    "import glob\n",
    "import os"
   ]
  },
  {
   "cell_type": "code",
   "execution_count": 1,
   "metadata": {},
   "outputs": [],
   "source": [
    "%load_ext autoreload\n",
    "%autoreload 1"
   ]
  },
  {
   "cell_type": "code",
   "execution_count": 3,
   "metadata": {},
   "outputs": [
    {
     "data": {
      "text/plain": [
       "{'rq': StrictRedis<ConnectionPool<Connection<host=10.0.2.183,port=6379,db=0>>>,\n",
       " 'rq_thumb': StrictRedis<ConnectionPool<Connection<host=10.0.2.183,port=6379,db=1>>>,\n",
       " 'rq_cache': StrictRedis<ConnectionPool<Connection<host=10.0.2.183,port=6379,db=2>>>,\n",
       " 'cache_xxhash': StrictRedis<ConnectionPool<Connection<host=10.0.2.183,port=6379,db=10>>>,\n",
       " 'cache_xxhash_': StrictRedis<ConnectionPool<Connection<host=10.0.2.183,port=6379,db=11>>>,\n",
       " 'cache_exif': StrictRedis<ConnectionPool<Connection<host=10.0.2.183,port=6379,db=12>>>,\n",
       " 'cache_sha512': StrictRedis<ConnectionPool<Connection<host=10.0.2.183,port=6379,db=13>>>,\n",
       " 'cache_sha512_': StrictRedis<ConnectionPool<Connection<host=10.0.2.183,port=6379,db=13>>>,\n",
       " 'cache_image_128x128': StrictRedis<ConnectionPool<Connection<host=10.0.2.183,port=6379,db=20>>>,\n",
       " 'cache_image_608x608': StrictRedis<ConnectionPool<Connection<host=10.0.2.183,port=6379,db=21>>>,\n",
       " 'cache_image_2048x2048': StrictRedis<ConnectionPool<Connection<host=10.0.2.183,port=6379,db=22>>>,\n",
       " 'cache_image_3': StrictRedis<ConnectionPool<Connection<host=10.0.2.183,port=6379,db=23>>>,\n",
       " 'cache_image_4': StrictRedis<ConnectionPool<Connection<host=10.0.2.183,port=6379,db=24>>>,\n",
       " 'cache_image_5': StrictRedis<ConnectionPool<Connection<host=10.0.2.183,port=6379,db=25>>>,\n",
       " 'cache_image_6': StrictRedis<ConnectionPool<Connection<host=10.0.2.183,port=6379,db=26>>>,\n",
       " 'cache_image_7': StrictRedis<ConnectionPool<Connection<host=10.0.2.183,port=6379,db=27>>>,\n",
       " 'cache_image_8': StrictRedis<ConnectionPool<Connection<host=10.0.2.183,port=6379,db=28>>>,\n",
       " 'cache_image_9': StrictRedis<ConnectionPool<Connection<host=10.0.2.183,port=6379,db=29>>>}"
      ]
     },
     "execution_count": 3,
     "metadata": {},
     "output_type": "execute_result"
    }
   ],
   "source": [
    "databases = MediaIndexer.redis_utils.load_databases(\"../cfg_network.ini\")\n",
    "databases\n"
   ]
  },
  {
   "cell_type": "code",
   "execution_count": 4,
   "metadata": {},
   "outputs": [
    {
     "name": "stdout",
     "output_type": "stream",
     "text": [
      "rq: 181598\n",
      "rq_thumb: 0\n",
      "rq_cache: 0\n",
      "cache_xxhash: 370030\n",
      "cache_xxhash_: 201601\n",
      "cache_exif: 201601\n",
      "cache_sha512: 0\n",
      "cache_sha512_: 0\n",
      "cache_image_128x128: 107233\n",
      "cache_image_608x608: 107232\n",
      "cache_image_2048x2048: 107191\n",
      "cache_image_3: 0\n",
      "cache_image_4: 0\n",
      "cache_image_5: 0\n",
      "cache_image_6: 0\n",
      "cache_image_7: 0\n",
      "cache_image_8: 0\n",
      "cache_image_9: 0\n"
     ]
    }
   ],
   "source": [
    "for db_name, database in databases.items():\n",
    "    print(\"{}: {}\".format(db_name, database.dbsize()))\n"
   ]
  },
  {
   "cell_type": "code",
   "execution_count": 11,
   "metadata": {},
   "outputs": [],
   "source": [
    "db = databases[\"cache_image_2048x2048\"]\n"
   ]
  },
  {
   "cell_type": "code",
   "execution_count": 12,
   "metadata": {},
   "outputs": [],
   "source": [
    "for key in db.keys():\n",
    "    break\n"
   ]
  },
  {
   "cell_type": "code",
   "execution_count": 13,
   "metadata": {},
   "outputs": [],
   "source": [
    "tn_ = db.get(key)\n"
   ]
  },
  {
   "cell_type": "code",
   "execution_count": 19,
   "metadata": {},
   "outputs": [],
   "source": [
    "if not os.path.exists(\"cache\"):\n",
    "    os.makedirs(\"cache\")\n"
   ]
  },
  {
   "cell_type": "code",
   "execution_count": null,
   "metadata": {},
   "outputs": [],
   "source": [
    "for key in db.keys():\n",
    "    tn_ = db.get(key)\n",
    "    out = os.path.join(\"cache\", \"{}.jpg\".format(key))\n",
    "    MediaIndexer.utils.pil_thumbnail(tn_).save(out)\n"
   ]
  }
 ],
 "metadata": {
  "kernelspec": {
   "display_name": "Python 3",
   "language": "python",
   "name": "python3"
  },
  "language_info": {
   "codemirror_mode": {
    "name": "ipython",
    "version": 3
   },
   "file_extension": ".py",
   "mimetype": "text/x-python",
   "name": "python",
   "nbconvert_exporter": "python",
   "pygments_lexer": "ipython3",
   "version": "3.6.6"
  }
 },
 "nbformat": 4,
 "nbformat_minor": 2
}
