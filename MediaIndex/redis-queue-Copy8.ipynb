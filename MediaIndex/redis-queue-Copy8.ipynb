{
 "cells": [
  {
   "cell_type": "code",
   "execution_count": 7,
   "metadata": {},
   "outputs": [],
   "source": [
    "import redis\n",
    "import rq\n",
    "import configparser\n",
    "import redis\n",
    "import rq\n",
    "import configparser\n",
    "import get_files\n",
    "import utils\n",
    "\n",
    "config = configparser.ConfigParser()\n",
    "config.read('config.ini')\n",
    "r = redis.StrictRedis(\n",
    "    host=config[\"redis\"][\"host\"],\n",
    "    port=config[\"redis\"][\"port\"],\n",
    "    db=config[\"redis\"][\"rq\"],\n",
    ")"
   ]
  },
  {
   "cell_type": "code",
   "execution_count": 1,
   "metadata": {},
   "outputs": [],
   "source": [
    "q = rq.Queue(connection=r)"
   ]
  },
  {
   "cell_type": "code",
   "execution_count": 2,
   "metadata": {},
   "outputs": [],
   "source": [
    "import_dir = \"/net/8600k.local/mnt/vault/pictures/\""
   ]
  },
  {
   "cell_type": "code",
   "execution_count": 3,
   "metadata": {},
   "outputs": [],
   "source": [
    "media_files = get_files.get_files(import_dir)\n",
    "for media_file in media_files:\n",
    "    if \".zfs\" in media_file:\n",
    "        continue\n",
    "    q.enqueue(utils.get_exif, media_file)"
   ]
  },
  {
   "cell_type": "code",
   "execution_count": null,
   "metadata": {},
   "outputs": [],
   "source": []
  }
 ],
 "metadata": {
  "kernelspec": {
   "display_name": "Python 3",
   "language": "python",
   "name": "python3"
  },
  "language_info": {
   "codemirror_mode": {
    "name": "ipython",
    "version": 3
   },
   "file_extension": ".py",
   "mimetype": "text/x-python",
   "name": "python",
   "nbconvert_exporter": "python",
   "pygments_lexer": "ipython3",
   "version": "3.6.5"
  }
 },
 "nbformat": 4,
 "nbformat_minor": 2
}
