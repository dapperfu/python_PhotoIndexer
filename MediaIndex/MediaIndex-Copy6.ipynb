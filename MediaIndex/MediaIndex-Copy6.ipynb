{
 "cells": [
  {
   "cell_type": "code",
   "execution_count": 1,
   "metadata": {},
   "outputs": [],
   "source": [
    "from pony.orm import *\n",
    "import os\n",
    "import json\n",
    "import redis\n",
    "import rq\n",
    "import configparser\n",
    "import utils\n",
    "\n",
    "from utils import get_xxhash\n",
    "import os \n",
    "import exiftool\n",
    "import get_files\n",
    "import xxhash\n",
    "import py.path"
   ]
  },
  {
   "cell_type": "code",
   "execution_count": 2,
   "metadata": {},
   "outputs": [],
   "source": [
    "db = Database(provider=\"mysql\",\n",
    "                 host=\"172.16.0.73\",\n",
    "                 user=\"media\",\n",
    "                 passwd=\"aterinee\",\n",
    "                 db=\"media\")\n",
    "\n",
    "class Media(db.Entity):\n",
    "    xxhash = Required(str, unique=True)\n",
    "    size = Required(int)\n",
    "    exif = Optional(LongStr, lazy=True)\n",
    "    _table_options_ = {\n",
    "        'ENGINE': 'InnoDB',\n",
    "        'ENCRYPTION': \"'N'\",\n",
    "        'AUTO_INCREMENT': 10\n",
    "    }\n",
    "db.generate_mapping()"
   ]
  },
  {
   "cell_type": "code",
   "execution_count": 4,
   "metadata": {},
   "outputs": [],
   "source": [
    "config = configparser.ConfigParser()\n",
    "config.read('config.ini')\n",
    "\n",
    "exif_cache = redis.StrictRedis(\n",
    "    host=config[\"redis\"][\"host\"],\n",
    "    port=config[\"redis\"][\"port\"],\n",
    "    db=2,\n",
    ")\n",
    "hash_cache = redis.StrictRedis(\n",
    "    host=config[\"redis\"][\"host\"],\n",
    "    port=config[\"redis\"][\"port\"],\n",
    "    db=3,\n",
    ")"
   ]
  },
  {
   "cell_type": "code",
   "execution_count": 5,
   "metadata": {},
   "outputs": [],
   "source": [
    "\n",
    "import_dir = \"/pictures\""
   ]
  },
  {
   "cell_type": "code",
   "execution_count": 6,
   "metadata": {},
   "outputs": [],
   "source": [
    "IMAGE_EXT = [\".cr2\", \".dng\", \".jpg\"]\n",
    "VIDEO_EXT = [\".mp4\"]"
   ]
  },
  {
   "cell_type": "code",
   "execution_count": 7,
   "metadata": {},
   "outputs": [],
   "source": [
    "media_files = get_files.get_files(import_dir, decorate=py.path.local)"
   ]
  },
  {
   "cell_type": "code",
   "execution_count": 14,
   "metadata": {},
   "outputs": [],
   "source": [
    "for media_file in media_files:\n",
    "    xxhash = get_xxhash(str(media_file))\n",
    "    if exif_cache.get(xxhash) is not None:\n",
    "        break"
   ]
  },
  {
   "cell_type": "code",
   "execution_count": 15,
   "metadata": {},
   "outputs": [
    {
     "data": {
      "text/plain": [
       "b'{\"File:FileModifyDate\": \"2017:06:29 00:43:44-04:00\", \"SourceFile\": \"/pictures/2018-03-02T15:03:25-05:00/Android/obb/.nomedia\", \"ExifTool:ExifToolVersion\": 10.1, \"File:FilePermissions\": 777, \"File:Directory\": \"/pictures/2018-03-02T15:03:25-05:00/Android/obb\", \"ExifTool:Error\": \"Unknown file type\", \"File:FileInodeChangeDate\": \"2018:03:09 03:30:01-05:00\", \"File:FileAccessDate\": \"2018:03:09 03:41:04-05:00\", \"File:FileSize\": 0, \"File:FileName\": \".nomedia\"}'"
      ]
     },
     "execution_count": 15,
     "metadata": {},
     "output_type": "execute_result"
    }
   ],
   "source": [
    "exif_cache.get(xxhash)"
   ]
  },
  {
   "cell_type": "code",
   "execution_count": 12,
   "metadata": {},
   "outputs": [
    {
     "data": {
      "text/plain": [
       "'98451ade525cd544'"
      ]
     },
     "execution_count": 12,
     "metadata": {},
     "output_type": "execute_result"
    }
   ],
   "source": [
    "xxhash = get_xxhash(str(media_file))\n",
    "xxhash"
   ]
  },
  {
   "cell_type": "code",
   "execution_count": 13,
   "metadata": {},
   "outputs": [],
   "source": [
    "exif_cache.get(xxhash)"
   ]
  },
  {
   "cell_type": "code",
   "execution_count": null,
   "metadata": {},
   "outputs": [],
   "source": [
    "a\n",
    "try:\n",
    "        EXIF = et.get_metadata(str(media_file))\n",
    "        m = Media(\n",
    "            xxhash=str(media_file),\n",
    "            size=media_file.size(),\n",
    "            exif=json.dumps(EXIF)\n",
    "        )\n",
    "    \n",
    "        db.commit()\n",
    "    except CacheIndexError:\n",
    "        db.flush()"
   ]
  },
  {
   "cell_type": "code",
   "execution_count": null,
   "metadata": {},
   "outputs": [],
   "source": []
  },
  {
   "cell_type": "code",
   "execution_count": null,
   "metadata": {},
   "outputs": [],
   "source": [
    "for media_file in media_files:\n",
    "    xxhash = utils.get_xxhash(str(media_file))\n",
    "    if hash_cache.get(str(media_file)) is None:\n",
    "        hash_cache.set(str(media_file), xxhash)\n",
    "    if exif_cache.get(xxhash) is None:\n",
    "        EXIF = et.get_metadata(str(media_file))\n",
    "        exif_cache.set(xxhash, json.dumps(EXIF))"
   ]
  }
 ],
 "metadata": {
  "kernelspec": {
   "display_name": "Python 3",
   "language": "python",
   "name": "python3"
  },
  "language_info": {
   "codemirror_mode": {
    "name": "ipython",
    "version": 3
   },
   "file_extension": ".py",
   "mimetype": "text/x-python",
   "name": "python",
   "nbconvert_exporter": "python",
   "pygments_lexer": "ipython3",
   "version": "3.5.2"
  }
 },
 "nbformat": 4,
 "nbformat_minor": 2
}
