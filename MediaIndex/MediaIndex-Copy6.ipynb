{
 "cells": [
  {
   "cell_type": "code",
   "execution_count": 10,
   "metadata": {},
   "outputs": [],
   "source": [
    "from pony.orm import *\n",
    "import os\n",
    "import json\n",
    "import redis\n",
    "import rq\n",
    "import configparser\n",
    "import utils\n",
    "\n",
    "from utils import get_xxhash, get_exif\n",
    "import os \n",
    "import get_files\n",
    "import py.path"
   ]
  },
  {
   "cell_type": "code",
   "execution_count": 11,
   "metadata": {},
   "outputs": [],
   "source": [
    "config = configparser.ConfigParser()\n",
    "config.read('config.ini')\n",
    "\n",
    "exif_cache = redis.StrictRedis(\n",
    "    host=config[\"redis\"][\"host\"],\n",
    "    port=config[\"redis\"][\"port\"],\n",
    "    db=config[\"redis\"][\"exif\"],\n",
    ")\n",
    "xxhash_cache = redis.StrictRedis(\n",
    "    host=config[\"redis\"][\"host\"],\n",
    "    port=config[\"redis\"][\"port\"],\n",
    "    db=config[\"redis\"][\"xxhash\"],\n",
    ")"
   ]
  },
  {
   "cell_type": "code",
   "execution_count": 12,
   "metadata": {},
   "outputs": [],
   "source": [
    "import_dir = \"/vault/Pictures/2002\"\n",
    "\n",
    "IMAGE_EXT = [\".cr2\", \".dng\", \".jpg\"]\n",
    "VIDEO_EXT = [\".mp4\"]\n",
    "\n",
    "media_files = get_files.get_files(import_dir)"
   ]
  },
  {
   "cell_type": "code",
   "execution_count": 21,
   "metadata": {},
   "outputs": [],
   "source": [
    "for media_file in media_files:\n",
    "    xxhash=xxhash_cache.get(media_file)\n",
    "    break"
   ]
  },
  {
   "cell_type": "code",
   "execution_count": 22,
   "metadata": {},
   "outputs": [
    {
     "data": {
      "text/plain": [
       "True"
      ]
     },
     "execution_count": 22,
     "metadata": {},
     "output_type": "execute_result"
    }
   ],
   "source": [
    "xxhash is None"
   ]
  },
  {
   "cell_type": "code",
   "execution_count": 23,
   "metadata": {},
   "outputs": [
    {
     "data": {
      "text/plain": [
       "'496c8cbe4c0c73ea'"
      ]
     },
     "execution_count": 23,
     "metadata": {},
     "output_type": "execute_result"
    }
   ],
   "source": [
    "xxhash = get_xxhash(media_file)\n",
    "xxhash"
   ]
  },
  {
   "cell_type": "code",
   "execution_count": 24,
   "metadata": {},
   "outputs": [
    {
     "data": {
      "text/plain": [
       "True"
      ]
     },
     "execution_count": 24,
     "metadata": {},
     "output_type": "execute_result"
    }
   ],
   "source": [
    "xxhash_cache.set(media_file, xxhash)"
   ]
  },
  {
   "cell_type": "code",
   "execution_count": 25,
   "metadata": {
    "scrolled": true
   },
   "outputs": [
    {
     "data": {
      "text/plain": [
       "b'496c8cbe4c0c73ea'"
      ]
     },
     "execution_count": 25,
     "metadata": {},
     "output_type": "execute_result"
    }
   ],
   "source": [
    "xxhash_cache.get(media_file)"
   ]
  },
  {
   "cell_type": "code",
   "execution_count": 39,
   "metadata": {},
   "outputs": [],
   "source": [
    "def cache_xxhash(media_file):\n",
    "    if xxhash_cache.get(str(media_file)) is None:\n",
    "        xxhash = get_xxhash(str(media_file))\n",
    "        xxhash_cache.set(str(media_file), xxhash)\n",
    "        print(\"Caching hash: {}\".format(media_file))\n",
    "    else:\n",
    "        print(\"Cached hash : {}\".format(media_file))        \n",
    "def cache_exif(media_file):\n",
    "    if exif_cache.get(xxhash) is None:\n",
    "        EXIF = et.get_metadata(str(media_file))\n",
    "        exif_cache.set(xxhash, json.dumps(EXIF))\n",
    "        print(\"Caching EXIF: {}\".format(media_file))\n",
    "    else:\n",
    "        print(\"Cached EXIF : {}\".format(media_file))"
   ]
  },
  {
   "cell_type": "code",
   "execution_count": 37,
   "metadata": {},
   "outputs": [
    {
     "name": "stdout",
     "output_type": "stream",
     "text": [
      "Cached : /vault/Pictures/2002/Thanksgiving 02/021128-142824.jpg\n"
     ]
    }
   ],
   "source": [
    "cache_xxhash(media_file)"
   ]
  },
  {
   "cell_type": "code",
   "execution_count": 30,
   "metadata": {},
   "outputs": [
    {
     "name": "stdout",
     "output_type": "stream",
     "text": [
      "Caching: /vault/Pictures/2002/Thanksgiving 02/021128-142824.jpg\n"
     ]
    }
   ],
   "source": [
    "for media_file in media_files:\n",
    "    xxhash = utils.get_xxhash(str(media_file))\n",
    "    if xxhash_cache.get(str(media_file)) is None:\n",
    "        xxhash_cache.set(str(media_file), xxhash)\n",
    "        print(\"Caching: {}\".format(media_file))\n",
    "    else:\n",
    "        print(\"Cached : {}\".format(media_file))\n",
    "    break"
   ]
  },
  {
   "cell_type": "code",
   "execution_count": null,
   "metadata": {},
   "outputs": [],
   "source": []
  }
 ],
 "metadata": {
  "kernelspec": {
   "display_name": "Python 3",
   "language": "python",
   "name": "python3"
  },
  "language_info": {
   "codemirror_mode": {
    "name": "ipython",
    "version": 3
   },
   "file_extension": ".py",
   "mimetype": "text/x-python",
   "name": "python",
   "nbconvert_exporter": "python",
   "pygments_lexer": "ipython3",
   "version": "3.5.2"
  }
 },
 "nbformat": 4,
 "nbformat_minor": 2
}
