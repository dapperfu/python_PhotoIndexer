{
 "cells": [
  {
   "cell_type": "code",
   "execution_count": 15,
   "metadata": {},
   "outputs": [],
   "source": [
    "import glob\n",
    "import os\n",
    "\n",
    "import get_files\n",
    "import requests\n",
    "from flask_restful import Api, Resource, reqparse\n",
    "\n",
    "import MediaIndexer"
   ]
  },
  {
   "cell_type": "markdown",
   "metadata": {},
   "source": [
    "# MediaIndexer Flask API\n",
    "\n",
    "> *Flask-RESTful is an extension for Flask that adds support for quickly building REST APIs. It is a lightweight abstraction that works with your existing ORM/libraries*. - https://flask-restful.readthedocs.io/en/latest/"
   ]
  },
  {
   "cell_type": "code",
   "execution_count": 16,
   "metadata": {},
   "outputs": [],
   "source": [
    "# Get the xxhash of a file path.\n",
    "base_url = \"http://127.0.0.1:5000\"\n",
    "urls = {\n",
    "    \"thumbnails\": base_url + \"/thumbnails\",\n",
    "    \"xxhash\": base_url + \"/api/xxhash\",\n",
    "    \"exif\": base_url + \"/api/exif\",\n",
    "}\n"
   ]
  },
  {
   "cell_type": "code",
   "execution_count": 17,
   "metadata": {},
   "outputs": [],
   "source": [
    "import pydarknet2"
   ]
  },
  {
   "cell_type": "code",
   "execution_count": 18,
   "metadata": {},
   "outputs": [],
   "source": [
    "darknet_cfg = {\n",
    "    \"root\": \"/tmp/darknet\",\n",
    "    \"weight_dir\": \"/opt/weights\",    \n",
    "}\n",
    "dn = pydarknet2.Darknet(**darknet_cfg)"
   ]
  },
  {
   "cell_type": "code",
   "execution_count": 55,
   "metadata": {},
   "outputs": [
    {
     "data": {
      "text/plain": [
       "Darknet<dir='True', bin='False'>"
      ]
     },
     "execution_count": 55,
     "metadata": {},
     "output_type": "execute_result"
    }
   ],
   "source": [
    "dn"
   ]
  },
  {
   "cell_type": "code",
   "execution_count": 56,
   "metadata": {},
   "outputs": [],
   "source": [
    "try:\n",
    "    dn.clone()\n",
    "except:\n",
    "    pass"
   ]
  },
  {
   "cell_type": "code",
   "execution_count": 57,
   "metadata": {},
   "outputs": [],
   "source": [
    "root = os.path.join(dn.root, \"data\")"
   ]
  },
  {
   "cell_type": "code",
   "execution_count": 58,
   "metadata": {},
   "outputs": [
    {
     "data": {
      "text/plain": [
       "'/tmp/darknet/data/horses.jpg'"
      ]
     },
     "execution_count": 58,
     "metadata": {},
     "output_type": "execute_result"
    }
   ],
   "source": [
    "for image in get_files.get_files(directory=root, extensions=\".jpg\"):\n",
    "    break\n",
    "image\n"
   ]
  },
  {
   "cell_type": "code",
   "execution_count": 23,
   "metadata": {},
   "outputs": [],
   "source": [
    "payload = {\"path\": image}\n",
    "for _, url in urls.items():\n",
    "    r = requests.get(url=url, params=payload)"
   ]
  },
  {
   "cell_type": "code",
   "execution_count": 25,
   "metadata": {},
   "outputs": [],
   "source": [
    "for image in get_files.get_files(directory=root, extensions=\".jpg\"):\n",
    "    payload = {\"path\": image}\n",
    "    for _, url in urls.items():\n",
    "        r = requests.get(url=url, params=payload)\n"
   ]
  },
  {
   "cell_type": "code",
   "execution_count": 26,
   "metadata": {},
   "outputs": [],
   "source": [
    "for image in get_files.get_files(directory=root, extensions=\".jpg\"):\n",
    "    break"
   ]
  },
  {
   "cell_type": "code",
   "execution_count": 27,
   "metadata": {},
   "outputs": [],
   "source": [
    "payload = {\"path\": image}"
   ]
  },
  {
   "cell_type": "code",
   "execution_count": 28,
   "metadata": {},
   "outputs": [],
   "source": [
    "url=urls[\"xxhash\"]"
   ]
  },
  {
   "cell_type": "code",
   "execution_count": 29,
   "metadata": {},
   "outputs": [],
   "source": [
    "r = requests.get(url=url, params=payload)"
   ]
  },
  {
   "cell_type": "code",
   "execution_count": 31,
   "metadata": {},
   "outputs": [
    {
     "data": {
      "text/plain": [
       "{'path': '/tmp/darknet/data/horses.jpg', 'xxhash': '7b05a249329cf220'}"
      ]
     },
     "execution_count": 31,
     "metadata": {},
     "output_type": "execute_result"
    }
   ],
   "source": [
    "r.json()"
   ]
  },
  {
   "cell_type": "code",
   "execution_count": 32,
   "metadata": {},
   "outputs": [
    {
     "name": "stdout",
     "output_type": "stream",
     "text": [
      "path: /tmp/darknet/data/horses.jpg\n",
      "xxhash: 7b05a249329cf220\n",
      "path: /tmp/darknet/data/eagle.jpg\n",
      "xxhash: ce53dac1870a9aa3\n",
      "path: /tmp/darknet/data/giraffe.jpg\n",
      "xxhash: 4901661b1a9c69e0\n",
      "path: /tmp/darknet/data/dog.jpg\n",
      "xxhash: 7a4ee943299372fb\n",
      "path: /tmp/darknet/data/kite.jpg\n",
      "xxhash: a818cb79311e1a7f\n",
      "path: /tmp/darknet/data/person.jpg\n",
      "xxhash: 5e3736c667aa5c4d\n",
      "path: /tmp/darknet/data/scream.jpg\n",
      "xxhash: e52c4e53be563af0\n"
     ]
    }
   ],
   "source": [
    "url=urls[\"xxhash\"]\n",
    "for image in get_files.get_files(directory=root, extensions=\".jpg\"):\n",
    "    payload = {\"path\": image}\n",
    "    r = requests.get(url=url, params=payload)\n",
    "    for key, value in r.json().items():\n",
    "        print(\"{}: {}\".format(key, value))"
   ]
  },
  {
   "cell_type": "code",
   "execution_count": 33,
   "metadata": {},
   "outputs": [],
   "source": [
    "hashes=list()\n",
    "url=urls[\"xxhash\"]\n",
    "for image in get_files.get_files(directory=root, extensions=\".jpg\"):\n",
    "    payload = {\"path\": image}\n",
    "    r = requests.get(url=url, params=payload)\n",
    "    hashes.append(r.json()[\"xxhash\"])"
   ]
  },
  {
   "cell_type": "code",
   "execution_count": 35,
   "metadata": {},
   "outputs": [
    {
     "data": {
      "text/plain": [
       "['7b05a249329cf220',\n",
       " 'ce53dac1870a9aa3',\n",
       " '4901661b1a9c69e0',\n",
       " '7a4ee943299372fb',\n",
       " 'a818cb79311e1a7f',\n",
       " '5e3736c667aa5c4d',\n",
       " 'e52c4e53be563af0']"
      ]
     },
     "execution_count": 35,
     "metadata": {},
     "output_type": "execute_result"
    }
   ],
   "source": [
    "hashes"
   ]
  },
  {
   "cell_type": "code",
   "execution_count": 36,
   "metadata": {},
   "outputs": [],
   "source": [
    "for h in hashes:\n",
    "    break"
   ]
  },
  {
   "cell_type": "code",
   "execution_count": 38,
   "metadata": {},
   "outputs": [
    {
     "data": {
      "text/plain": [
       "'http://127.0.0.1:5000/exif/7b05a249329cf220.json'"
      ]
     },
     "execution_count": 38,
     "metadata": {},
     "output_type": "execute_result"
    }
   ],
   "source": [
    "base_url = \"http://127.0.0.1:5000/exif/{}.json\".format(h)\n",
    "base_url"
   ]
  },
  {
   "cell_type": "code",
   "execution_count": 39,
   "metadata": {},
   "outputs": [],
   "source": [
    "r = requests.get(url=base_url)"
   ]
  },
  {
   "cell_type": "code",
   "execution_count": 40,
   "metadata": {},
   "outputs": [
    {
     "data": {
      "text/plain": [
       "200"
      ]
     },
     "execution_count": 40,
     "metadata": {},
     "output_type": "execute_result"
    }
   ],
   "source": [
    "r.status_code"
   ]
  },
  {
   "cell_type": "code",
   "execution_count": 41,
   "metadata": {},
   "outputs": [
    {
     "data": {
      "text/plain": [
       "{'SourceFile': '/tmp/darknet/data/horses.jpg',\n",
       " 'ExifTool:ExifToolVersion': 10.8,\n",
       " 'File:FileName': 'horses.jpg',\n",
       " 'File:Directory': '/tmp/darknet/data',\n",
       " 'File:FileSize': 133495,\n",
       " 'File:FileModifyDate': '2018:10:10 13:12:43-04:00',\n",
       " 'File:FileAccessDate': '2018:10:10 13:22:20-04:00',\n",
       " 'File:FileInodeChangeDate': '2018:10:10 13:12:43-04:00',\n",
       " 'File:FilePermissions': 664,\n",
       " 'File:FileType': 'JPEG',\n",
       " 'File:FileTypeExtension': 'JPG',\n",
       " 'File:MIMEType': 'image/jpeg',\n",
       " 'File:ExifByteOrder': 'MM',\n",
       " 'File:CurrentIPTCDigest': '4fb664d66f7cda64af1ea663a4eeb297',\n",
       " 'File:ImageWidth': 773,\n",
       " 'File:ImageHeight': 512,\n",
       " 'File:EncodingProcess': 0,\n",
       " 'File:BitsPerSample': 8,\n",
       " 'File:ColorComponents': 3,\n",
       " 'File:YCbCrSubSampling': '1 2',\n",
       " 'JFIF:JFIFVersion': '1 1',\n",
       " 'JFIF:ResolutionUnit': 1,\n",
       " 'JFIF:XResolution': 72,\n",
       " 'JFIF:YResolution': 72,\n",
       " 'EXIF:Make': 'PENTAX',\n",
       " 'EXIF:Model': 'PENTAX K-5',\n",
       " 'EXIF:Orientation': 1,\n",
       " 'EXIF:XResolution': 72,\n",
       " 'EXIF:YResolution': 72,\n",
       " 'EXIF:ResolutionUnit': 2,\n",
       " 'EXIF:Software': 'Photos 1.0',\n",
       " 'EXIF:ModifyDate': '2013:04:13 15:02:50',\n",
       " 'EXIF:ExposureTime': 0.005,\n",
       " 'EXIF:FNumber': 14,\n",
       " 'EXIF:ExposureProgram': 3,\n",
       " 'EXIF:ISO': 200,\n",
       " 'EXIF:ExifVersion': '0221',\n",
       " 'EXIF:DateTimeOriginal': '2013:04:13 15:02:50',\n",
       " 'EXIF:CreateDate': '2013:04:13 15:02:50',\n",
       " 'EXIF:ComponentsConfiguration': '1 2 3 0',\n",
       " 'EXIF:ExposureCompensation': 0,\n",
       " 'EXIF:MaxApertureValue': 1.43608072276587,\n",
       " 'EXIF:MeteringMode': 5,\n",
       " 'EXIF:Flash': 16,\n",
       " 'EXIF:FocalLength': 50,\n",
       " 'EXIF:FlashpixVersion': '0100',\n",
       " 'EXIF:ColorSpace': 1,\n",
       " 'EXIF:ExifImageWidth': 773,\n",
       " 'EXIF:ExifImageHeight': 512,\n",
       " 'EXIF:SensingMethod': 2,\n",
       " 'EXIF:FileSource': 3,\n",
       " 'EXIF:SceneType': 1,\n",
       " 'EXIF:CustomRendered': 0,\n",
       " 'EXIF:ExposureMode': 0,\n",
       " 'EXIF:WhiteBalance': 0,\n",
       " 'EXIF:FocalLengthIn35mmFormat': 75,\n",
       " 'EXIF:SceneCaptureType': 0,\n",
       " 'EXIF:Contrast': 2,\n",
       " 'EXIF:Saturation': 0,\n",
       " 'EXIF:Sharpness': 2,\n",
       " 'EXIF:SubjectDistanceRange': 3,\n",
       " 'XMP:XMPToolkit': 'XMP Core 5.4.0',\n",
       " 'XMP:LensID': 2289,\n",
       " 'XMP:Lens': 'smc PENTAX-DA* 50-135mm F2.8 ED [IF] SDM',\n",
       " 'XMP:SerialNumber': 7009380,\n",
       " 'XMP:CreateDate': '2013:04:13 15:02:50',\n",
       " 'XMP:ModifyDate': '2013:04:13 15:02:50',\n",
       " 'XMP:CreatorTool': 'Photos 1.0',\n",
       " 'XMP:DateCreated': '2013:04:13 15:02:50',\n",
       " 'XMP:Creator': '',\n",
       " 'XMP:Rights': '',\n",
       " 'IPTC:CodedCharacterSet': '\\x1b%G',\n",
       " 'IPTC:ApplicationRecordVersion': 2,\n",
       " 'IPTC:DigitalCreationDate': '2013:04:13',\n",
       " 'IPTC:DigitalCreationTime': '15:02:50',\n",
       " 'IPTC:DateCreated': '2013:04:13',\n",
       " 'IPTC:TimeCreated': '15:02:50',\n",
       " 'Photoshop:IPTCDigest': '4fb664d66f7cda64af1ea663a4eeb297',\n",
       " 'ICC_Profile:ProfileCMMType': 'Lino',\n",
       " 'ICC_Profile:ProfileVersion': 528,\n",
       " 'ICC_Profile:ProfileClass': 'mntr',\n",
       " 'ICC_Profile:ColorSpaceData': 'RGB ',\n",
       " 'ICC_Profile:ProfileConnectionSpace': 'XYZ ',\n",
       " 'ICC_Profile:ProfileDateTime': '1998:02:09 06:49:00',\n",
       " 'ICC_Profile:ProfileFileSignature': 'acsp',\n",
       " 'ICC_Profile:PrimaryPlatform': 'MSFT',\n",
       " 'ICC_Profile:CMMFlags': 0,\n",
       " 'ICC_Profile:DeviceManufacturer': 'IEC ',\n",
       " 'ICC_Profile:DeviceModel': 'sRGB',\n",
       " 'ICC_Profile:DeviceAttributes': '0 0',\n",
       " 'ICC_Profile:RenderingIntent': 0,\n",
       " 'ICC_Profile:ConnectionSpaceIlluminant': '0.9642 1 0.82491',\n",
       " 'ICC_Profile:ProfileCreator': 'HP  ',\n",
       " 'ICC_Profile:ProfileID': '0 0 0 0 0 0 0 0 0 0 0 0 0 0 0 0',\n",
       " 'ICC_Profile:ProfileCopyright': 'Copyright (c) 1998 Hewlett-Packard Company',\n",
       " 'ICC_Profile:ProfileDescription': 'sRGB IEC61966-2.1',\n",
       " 'ICC_Profile:MediaWhitePoint': '0.95045 1 1.08905',\n",
       " 'ICC_Profile:MediaBlackPoint': '0 0 0',\n",
       " 'ICC_Profile:RedMatrixColumn': '0.43607 0.22249 0.01392',\n",
       " 'ICC_Profile:GreenMatrixColumn': '0.38515 0.71687 0.09708',\n",
       " 'ICC_Profile:BlueMatrixColumn': '0.14307 0.06061 0.7141',\n",
       " 'ICC_Profile:DeviceMfgDesc': 'IEC http://www.iec.ch',\n",
       " 'ICC_Profile:DeviceModelDesc': 'IEC 61966-2.1 Default RGB colour space - sRGB',\n",
       " 'ICC_Profile:ViewingCondDesc': 'Reference Viewing Condition in IEC61966-2.1',\n",
       " 'ICC_Profile:ViewingCondIlluminant': '19.6445 20.3718 16.8089',\n",
       " 'ICC_Profile:ViewingCondSurround': '3.92889 4.07439 3.36179',\n",
       " 'ICC_Profile:ViewingCondIlluminantType': 1,\n",
       " 'ICC_Profile:Luminance': '76.03647 80 87.12462',\n",
       " 'ICC_Profile:MeasurementObserver': 1,\n",
       " 'ICC_Profile:MeasurementBacking': '0 0 0',\n",
       " 'ICC_Profile:MeasurementGeometry': 0,\n",
       " 'ICC_Profile:MeasurementFlare': 0.00999,\n",
       " 'ICC_Profile:MeasurementIlluminant': 2,\n",
       " 'ICC_Profile:Technology': 'CRT ',\n",
       " 'ICC_Profile:RedTRC': '(Binary data 2060 bytes, use -b option to extract)',\n",
       " 'ICC_Profile:GreenTRC': '(Binary data 2060 bytes, use -b option to extract)',\n",
       " 'ICC_Profile:BlueTRC': '(Binary data 2060 bytes, use -b option to extract)',\n",
       " 'Composite:Aperture': 14,\n",
       " 'Composite:DateTimeCreated': '2013:04:13 15:02:50',\n",
       " 'Composite:DigitalCreationDateTime': '2013:04:13 15:02:50',\n",
       " 'Composite:ImageSize': '773x512',\n",
       " 'Composite:Megapixels': 0.395776,\n",
       " 'Composite:ScaleFactor35efl': 1.5,\n",
       " 'Composite:ShutterSpeed': 0.005,\n",
       " 'Composite:CircleOfConfusion': 0.0200308404192444,\n",
       " 'Composite:FOV': 26.9914893603273,\n",
       " 'Composite:FocalLength35efl': 75,\n",
       " 'Composite:HyperfocalDistance': 8.91482458219117,\n",
       " 'Composite:LensID': 2289,\n",
       " 'Composite:LightValue': 14.2585660338899}"
      ]
     },
     "execution_count": 41,
     "metadata": {},
     "output_type": "execute_result"
    }
   ],
   "source": [
    "r.json()"
   ]
  },
  {
   "cell_type": "code",
   "execution_count": 42,
   "metadata": {},
   "outputs": [
    {
     "data": {
      "text/plain": [
       "0.395776"
      ]
     },
     "execution_count": 42,
     "metadata": {},
     "output_type": "execute_result"
    }
   ],
   "source": [
    "r.json()[\"Composite:Megapixels\"]"
   ]
  },
  {
   "cell_type": "code",
   "execution_count": 50,
   "metadata": {},
   "outputs": [
    {
     "data": {
      "text/plain": [
       "\"<img src='http://http://10.0.2.183:5000/thumbnails/7b05a249329cf220.jpg'>\""
      ]
     },
     "execution_count": 50,
     "metadata": {},
     "output_type": "execute_result"
    }
   ],
   "source": [
    "\"<img src='http://http://10.0.2.183:5000/thumbnails/{}.jpg'>\".format(h)"
   ]
  },
  {
   "cell_type": "code",
   "execution_count": 44,
   "metadata": {},
   "outputs": [],
   "source": [
    "import IPython.display"
   ]
  },
  {
   "cell_type": "code",
   "execution_count": 45,
   "metadata": {},
   "outputs": [],
   "source": [
    "IPython.display.HTML?"
   ]
  },
  {
   "cell_type": "code",
   "execution_count": 53,
   "metadata": {},
   "outputs": [],
   "source": [
    "d = \"<img src='http://10.0.2.183:5000/thumbnails/{}.jpg'>\".format(h).format(h)"
   ]
  },
  {
   "cell_type": "code",
   "execution_count": 54,
   "metadata": {},
   "outputs": [
    {
     "data": {
      "text/html": [
       "<img src='http://10.0.2.183:5000/thumbnails/7b05a249329cf220.jpg'>"
      ],
      "text/plain": [
       "<IPython.core.display.HTML object>"
      ]
     },
     "execution_count": 54,
     "metadata": {},
     "output_type": "execute_result"
    }
   ],
   "source": [
    "IPython.display.HTML(d)"
   ]
  },
  {
   "cell_type": "code",
   "execution_count": null,
   "metadata": {},
   "outputs": [],
   "source": []
  }
 ],
 "metadata": {
  "kernelspec": {
   "display_name": "Python 3",
   "language": "python",
   "name": "python3"
  },
  "language_info": {
   "codemirror_mode": {
    "name": "ipython",
    "version": 3
   },
   "file_extension": ".py",
   "mimetype": "text/x-python",
   "name": "python",
   "nbconvert_exporter": "python",
   "pygments_lexer": "ipython3",
   "version": "3.6.6"
  }
 },
 "nbformat": 4,
 "nbformat_minor": 2
}
