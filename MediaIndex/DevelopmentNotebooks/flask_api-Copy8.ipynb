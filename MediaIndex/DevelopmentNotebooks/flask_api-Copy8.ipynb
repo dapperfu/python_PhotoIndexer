{
 "cells": [
  {
   "cell_type": "code",
   "execution_count": null,
   "metadata": {},
   "outputs": [],
   "source": [
    "import glob\n",
    "import os\n",
    "\n",
    "import get_files\n",
    "import requests\n",
    "from flask_restful import Api, Resource, reqparse\n",
    "\n",
    "import MediaIndexer"
   ]
  },
  {
   "cell_type": "markdown",
   "metadata": {},
   "source": [
    "# MediaIndexer Flask API\n",
    "\n",
    "> *Flask-RESTful is an extension for Flask that adds support for quickly building REST APIs. It is a lightweight abstraction that works with your existing ORM/libraries*. - https://flask-restful.readthedocs.io/en/latest/"
   ]
  },
  {
   "cell_type": "code",
   "execution_count": 14,
   "metadata": {},
   "outputs": [],
   "source": [
    "# Get the xxhash of a file path.\n",
    "base_url = \"http://127.0.0.1:5000\"\n",
    "urls = {\n",
    "    \"thumbnails\": base_url + \"/thumbnails\",\n",
    "    \"xxhash\": base_url + \"/api/xxhash\",\n",
    "    \"exif\": base_url + \"/api/exif\",\n",
    "}\n"
   ]
  },
  {
   "cell_type": "code",
   "execution_count": 15,
   "metadata": {},
   "outputs": [],
   "source": [
    "root = \"/vault/pictures/2002/Christmas 2002/\"\n"
   ]
  },
  {
   "cell_type": "code",
   "execution_count": 16,
   "metadata": {},
   "outputs": [
    {
     "data": {
      "text/plain": [
       "'/vault/pictures/2002/Christmas 2002/DVD player.JPG'"
      ]
     },
     "execution_count": 16,
     "metadata": {},
     "output_type": "execute_result"
    }
   ],
   "source": [
    "for image in get_files.get_files(directory=root, extensions=\".jpg\"):\n",
    "    break\n",
    "image\n"
   ]
  },
  {
   "cell_type": "code",
   "execution_count": 17,
   "metadata": {},
   "outputs": [],
   "source": [
    "payload = {\"path\": image}\n",
    "for _, url in urls.items():\n",
    "    r = requests.get(url=url, params=payload)\n"
   ]
  },
  {
   "cell_type": "code",
   "execution_count": 15,
   "metadata": {},
   "outputs": [],
   "source": [
    "for image in get_files.get_files(directory=root, extensions=\".jpg\"):\n",
    "    payload = {\"path\": image}\n",
    "    for _, url in urls.items():\n",
    "        r = requests.get(url=url, params=payload)\n"
   ]
  },
  {
   "cell_type": "code",
   "execution_count": 13,
   "metadata": {},
   "outputs": [],
   "source": [
    "api = Api(app=None)\n"
   ]
  },
  {
   "cell_type": "code",
   "execution_count": null,
   "metadata": {},
   "outputs": [],
   "source": [
    "api.app="
   ]
  }
 ],
 "metadata": {
  "kernelspec": {
   "display_name": "Python 3",
   "language": "python",
   "name": "python3"
  },
  "language_info": {
   "codemirror_mode": {
    "name": "ipython",
    "version": 3
   },
   "file_extension": ".py",
   "mimetype": "text/x-python",
   "name": "python",
   "nbconvert_exporter": "python",
   "pygments_lexer": "ipython3",
   "version": "3.6.6"
  }
 },
 "nbformat": 4,
 "nbformat_minor": 2
}
