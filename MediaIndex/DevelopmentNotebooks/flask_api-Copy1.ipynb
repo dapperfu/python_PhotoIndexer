{
 "cells": [
  {
   "cell_type": "code",
   "execution_count": 9,
   "metadata": {},
   "outputs": [],
   "source": [
    "import requests\n",
    "import glob"
   ]
  },
  {
   "cell_type": "markdown",
   "metadata": {},
   "source": [
    "# MediaIndexer Flask API\n",
    "\n",
    "> *Flask-RESTful is an extension for Flask that adds support for quickly building REST APIs. It is a lightweight abstraction that works with your existing ORM/libraries*. - https://flask-restful.readthedocs.io/en/latest/"
   ]
  },
  {
   "cell_type": "code",
   "execution_count": 10,
   "metadata": {},
   "outputs": [],
   "source": [
    "# Get the xxhash of a file path.\n",
    "url = 'http://127.0.0.1:5000/api/xxhash'"
   ]
  },
  {
   "cell_type": "code",
   "execution_count": 11,
   "metadata": {},
   "outputs": [],
   "source": [
    "test_images = glob.glob(\"/tmp/darknet/data/*.jpg\")"
   ]
  },
  {
   "cell_type": "code",
   "execution_count": 12,
   "metadata": {},
   "outputs": [
    {
     "name": "stdout",
     "output_type": "stream",
     "text": [
      "/tmp/darknet/data/giraffe.jpg\n"
     ]
    }
   ],
   "source": [
    "for test_image in test_images:\n",
    "    break\n",
    "print(test_image)"
   ]
  },
  {
   "cell_type": "code",
   "execution_count": 13,
   "metadata": {},
   "outputs": [
    {
     "name": "stdout",
     "output_type": "stream",
     "text": [
      "4901661b1a9c69e0\n"
     ]
    }
   ],
   "source": [
    "payload = {'path': test_image}\n",
    "r = requests.get(url=url, params=payload)\n",
    "print(r.json()[\"xxhash\"])"
   ]
  },
  {
   "cell_type": "code",
   "execution_count": 15,
   "metadata": {},
   "outputs": [
    {
     "name": "stdout",
     "output_type": "stream",
     "text": [
      "/tmp/darknet/data/giraffe.jpg: 4901661b1a9c69e0\n",
      "/tmp/darknet/data/person.jpg: 5e3736c667aa5c4d\n",
      "/tmp/darknet/data/eagle.jpg: ce53dac1870a9aa3\n",
      "/tmp/darknet/data/scream.jpg: e52c4e53be563af0\n",
      "/tmp/darknet/data/kite.jpg: a818cb79311e1a7f\n",
      "/tmp/darknet/data/dog.jpg: 7a4ee943299372fb\n",
      "/tmp/darknet/data/horses.jpg: 7b05a249329cf220\n"
     ]
    }
   ],
   "source": [
    "for test_image in test_images:\n",
    "    payload = {'path': test_image}\n",
    "    r = requests.get(url=url, params=payload)\n",
    "    print(\"{}: {}\".format(test_image, r.json()[\"xxhash\"]))"
   ]
  },
  {
   "cell_type": "code",
   "execution_count": null,
   "metadata": {},
   "outputs": [],
   "source": []
  }
 ],
 "metadata": {
  "kernelspec": {
   "display_name": "Python 3",
   "language": "python",
   "name": "python3"
  },
  "language_info": {
   "codemirror_mode": {
    "name": "ipython",
    "version": 3
   },
   "file_extension": ".py",
   "mimetype": "text/x-python",
   "name": "python",
   "nbconvert_exporter": "python",
   "pygments_lexer": "ipython3",
   "version": "3.6.6"
  }
 },
 "nbformat": 4,
 "nbformat_minor": 2
}
