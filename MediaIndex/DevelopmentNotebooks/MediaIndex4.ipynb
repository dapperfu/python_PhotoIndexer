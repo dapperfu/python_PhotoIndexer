{
 "cells": [
  {
   "cell_type": "code",
   "execution_count": 13,
   "metadata": {},
   "outputs": [],
   "source": [
    "from datetime import datetime\n",
    "from pony.orm import *\n",
    "import json\n",
    "set_sql_debug(True)"
   ]
  },
  {
   "cell_type": "code",
   "execution_count": 14,
   "metadata": {},
   "outputs": [
    {
     "data": {
      "text/plain": [
       "['config.ini']"
      ]
     },
     "execution_count": 14,
     "metadata": {},
     "output_type": "execute_result"
    }
   ],
   "source": [
    "import configparser\n",
    "import get_files\n",
    "\n",
    "config = configparser.ConfigParser()\n",
    "config.read('config.ini')"
   ]
  },
  {
   "cell_type": "code",
   "execution_count": 16,
   "metadata": {},
   "outputs": [
    {
     "name": "stdout",
     "output_type": "stream",
     "text": [
      "GET NEW CONNECTION\n",
      "RELEASE CONNECTION\n",
      "GET CONNECTION FROM THE LOCAL POOL\n",
      "SET foreign_key_checks = 0\n",
      "CREATE TABLE `media` (\n",
      "  `id` INTEGER PRIMARY KEY AUTO_INCREMENT,\n",
      "  `xxhash` VARCHAR(16) UNIQUE NOT NULL,\n",
      "  `size` DOUBLE,\n",
      "  `exif` JSON\n",
      ")\n",
      "\n",
      "SELECT `media`.`id`, `media`.`xxhash`, `media`.`size`, `media`.`exif`\n",
      "FROM `media` `media`\n",
      "WHERE 0 = 1\n",
      "\n",
      "COMMIT\n",
      "SET foreign_key_checks = 1\n",
      "CLOSE CONNECTION\n"
     ]
    }
   ],
   "source": [
    "db = Database()\n",
    "provider= \"mysql\"\n",
    "class Media(db.Entity):\n",
    "    id = PrimaryKey(int, auto=True)\n",
    "    xxhash = Required(str, 16, unique=True)\n",
    "    size = Optional(float)\n",
    "    exif = Optional(Json)\n",
    "    \n",
    "db.bind(\n",
    "    provider=provider, \n",
    "    host=\n",
    "config[provider][\"host\"],\n",
    "    user=config[provider][\"user\"],\n",
    "    passwd=config[provider][\"pass\"],\n",
    "    db=\"media_index4\",\n",
    ")\n",
    "db.generate_mapping(create_tables=True)"
   ]
  },
  {
   "cell_type": "code",
   "execution_count": 17,
   "metadata": {},
   "outputs": [],
   "source": [
    "import redis"
   ]
  },
  {
   "cell_type": "code",
   "execution_count": 18,
   "metadata": {},
   "outputs": [],
   "source": [
    "config = configparser.ConfigParser()\n",
    "config.read('config.ini')\n",
    "exif_cache = redis.StrictRedis(\n",
    "    host=config[\"redis\"][\"host\"],\n",
    "    port=config[\"redis\"][\"port\"],\n",
    "    db=config[\"redis\"][\"exif\"],\n",
    ")\n",
    "xxhash_cache = redis.StrictRedis(\n",
    "    host=config[\"redis\"][\"host\"],\n",
    "    port=config[\"redis\"][\"port\"],\n",
    "    db=config[\"redis\"][\"xxhash\"],\n",
    ")\n"
   ]
  },
  {
   "cell_type": "code",
   "execution_count": 20,
   "metadata": {},
   "outputs": [
    {
     "data": {
      "text/plain": [
       "0"
      ]
     },
     "execution_count": 20,
     "metadata": {},
     "output_type": "execute_result"
    }
   ],
   "source": [
    "len(xxhash_cache.keys())"
   ]
  },
  {
   "cell_type": "code",
   "execution_count": 21,
   "metadata": {},
   "outputs": [],
   "source": [
    "for key in xxhash_cache.keys():\n",
    "    break"
   ]
  },
  {
   "cell_type": "code",
   "execution_count": 22,
   "metadata": {},
   "outputs": [
    {
     "ename": "NameError",
     "evalue": "name 'key' is not defined",
     "output_type": "error",
     "traceback": [
      "\u001b[0;31m---------------------------------------------------------------------------\u001b[0m",
      "\u001b[0;31mNameError\u001b[0m                                 Traceback (most recent call last)",
      "\u001b[0;32m<ipython-input-22-0f12f025fe60>\u001b[0m in \u001b[0;36m<module>\u001b[0;34m\u001b[0m\n\u001b[0;32m----> 1\u001b[0;31m \u001b[0mxxhash_cache\u001b[0m\u001b[0;34m.\u001b[0m\u001b[0mget\u001b[0m\u001b[0;34m(\u001b[0m\u001b[0mkey\u001b[0m\u001b[0;34m)\u001b[0m\u001b[0;34m\u001b[0m\u001b[0m\n\u001b[0m",
      "\u001b[0;31mNameError\u001b[0m: name 'key' is not defined"
     ]
    }
   ],
   "source": [
    "xxhash_cache.get(key)"
   ]
  },
  {
   "cell_type": "code",
   "execution_count": 23,
   "metadata": {},
   "outputs": [],
   "source": [
    "from pony.orm.core import EntityMeta\n",
    "from pony import orm\n",
    "\n",
    "def upsert(cls, get, set=None):\n",
    "    \"\"\"\n",
    "    Interacting with Pony entities.\n",
    "\n",
    "    :param cls: The actual entity class\n",
    "    :param get: Identify the object (e.g. row) with this dictionary\n",
    "    :param set: \n",
    "    :return:\n",
    "    \"\"\"\n",
    "    # does the object exist\n",
    "    assert isinstance(cls, EntityMeta), \"{cls} is not a database entity\".format(cls=cls)\n",
    "\n",
    "    # if no set dictionary has been specified\n",
    "    set = set or {}\n",
    "\n",
    "    if not cls.exists(**get):\n",
    "        # make new object\n",
    "        return cls(**set, **get)\n",
    "    else:\n",
    "        # get the existing object\n",
    "        obj = cls.get(**get)\n",
    "        for key, value in set.items():\n",
    "            obj.__setattr__(key, value)\n",
    "        return obj"
   ]
  },
  {
   "cell_type": "code",
   "execution_count": 24,
   "metadata": {},
   "outputs": [],
   "source": [
    "set_sql_debug(False)\n",
    "M=list()\n",
    "for i, key in enumerate(exif_cache.keys()):\n",
    "    if i%10==0:\n",
    "        print(i)\n",
    "        db.commit()\n",
    "    EXIF=exif_cache.get(key).decode()\n",
    "    EXIF_=json.loads(EXIF)\n",
    "    g = {\n",
    "    \"xxhash\": key.decode()\n",
    "    }\n",
    "    s = {\n",
    "        \"exif\": EXIF_\n",
    "    }\n",
    "    M.append(upsert(Media, g, s))"
   ]
  },
  {
   "cell_type": "code",
   "execution_count": 25,
   "metadata": {},
   "outputs": [],
   "source": [
    "M = select(c for c in Media if c.exif[\"EXIF:ISO\"] == \"250\")"
   ]
  },
  {
   "cell_type": "code",
   "execution_count": 26,
   "metadata": {},
   "outputs": [],
   "source": [
    "for m in M:\n",
    "    break"
   ]
  },
  {
   "cell_type": "code",
   "execution_count": 27,
   "metadata": {},
   "outputs": [
    {
     "ename": "NameError",
     "evalue": "name 'm' is not defined",
     "output_type": "error",
     "traceback": [
      "\u001b[0;31m---------------------------------------------------------------------------\u001b[0m",
      "\u001b[0;31mNameError\u001b[0m                                 Traceback (most recent call last)",
      "\u001b[0;32m<ipython-input-27-9a40b379906c>\u001b[0m in \u001b[0;36m<module>\u001b[0;34m\u001b[0m\n\u001b[0;32m----> 1\u001b[0;31m \u001b[0mm\u001b[0m\u001b[0;34m\u001b[0m\u001b[0m\n\u001b[0m",
      "\u001b[0;31mNameError\u001b[0m: name 'm' is not defined"
     ]
    }
   ],
   "source": [
    "m"
   ]
  }
 ],
 "metadata": {
  "kernelspec": {
   "display_name": "Python 3",
   "language": "python",
   "name": "python3"
  },
  "language_info": {
   "codemirror_mode": {
    "name": "ipython",
    "version": 3
   },
   "file_extension": ".py",
   "mimetype": "text/x-python",
   "name": "python",
   "nbconvert_exporter": "python",
   "pygments_lexer": "ipython3",
   "version": "3.6.5"
  }
 },
 "nbformat": 4,
 "nbformat_minor": 2
}
