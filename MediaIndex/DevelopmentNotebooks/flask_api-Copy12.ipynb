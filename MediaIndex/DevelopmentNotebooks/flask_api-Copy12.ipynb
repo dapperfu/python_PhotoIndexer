{
 "cells": [
  {
   "cell_type": "code",
   "execution_count": 1,
   "metadata": {},
   "outputs": [],
   "source": [
    "import glob\n",
    "import os\n",
    "\n",
    "import get_files\n",
    "import requests\n",
    "from flask_restful import Api, Resource, reqparse\n",
    "\n",
    "import MediaIndexer"
   ]
  },
  {
   "cell_type": "markdown",
   "metadata": {},
   "source": [
    "# MediaIndexer Flask API\n",
    "\n",
    "> *Flask-RESTful is an extension for Flask that adds support for quickly building REST APIs. It is a lightweight abstraction that works with your existing ORM/libraries*. - https://flask-restful.readthedocs.io/en/latest/"
   ]
  },
  {
   "cell_type": "code",
   "execution_count": 2,
   "metadata": {},
   "outputs": [],
   "source": [
    "# Get the xxhash of a file path.\n",
    "base_url = \"http://127.0.0.1:5000\"\n",
    "urls = {\n",
    "    \"thumbnails\": base_url + \"/thumbnails\",\n",
    "    \"xxhash\": base_url + \"/api/xxhash\",\n",
    "    \"exif\": base_url + \"/api/exif\",\n",
    "}\n"
   ]
  },
  {
   "cell_type": "code",
   "execution_count": 3,
   "metadata": {},
   "outputs": [],
   "source": [
    "import pydarknet2"
   ]
  },
  {
   "cell_type": "code",
   "execution_count": 4,
   "metadata": {},
   "outputs": [],
   "source": [
    "import get_files"
   ]
  },
  {
   "cell_type": "code",
   "execution_count": 5,
   "metadata": {},
   "outputs": [],
   "source": [
    "for image in get_files.get_files(\"/pictures/2018-10-12T02_03_47-04_00/\", extensions=\".jpg\"):\n",
    "    break"
   ]
  },
  {
   "cell_type": "code",
   "execution_count": 6,
   "metadata": {},
   "outputs": [],
   "source": [
    "payload = {\"path\": image}\n",
    "for _, url in urls.items():\n",
    "    r = requests.get(url=url, params=payload)"
   ]
  },
  {
   "cell_type": "code",
   "execution_count": 15,
   "metadata": {},
   "outputs": [],
   "source": [
    "for image in get_files.get_files(directory=root, extensions=\".jpg\"):\n",
    "    payload = {\"path\": image}\n",
    "    for _, url in urls.items():\n",
    "        r = requests.get(url=url, params=payload)"
   ]
  },
  {
   "cell_type": "code",
   "execution_count": 7,
   "metadata": {},
   "outputs": [
    {
     "data": {
      "text/plain": [
       "{'path': '/pictures/2018-10-12T02_03_47-04_00/DCIM/100MEDIA/IMAG0060.JPG',\n",
       " 'exif': {'SourceFile': '/pictures/2018-10-12T02_03_47-04_00/DCIM/100MEDIA/IMAG0060.JPG',\n",
       "  'ExifTool:ExifToolVersion': 10.8,\n",
       "  'File:FileName': 'IMAG0060.JPG',\n",
       "  'File:Directory': '/pictures/2018-10-12T02_03_47-04_00/DCIM/100MEDIA',\n",
       "  'File:FileSize': 3075476,\n",
       "  'File:FileModifyDate': '2015:03:21 21:37:42-04:00',\n",
       "  'File:FileAccessDate': '2018:10:12 02:36:48-04:00',\n",
       "  'File:FileInodeChangeDate': '2018:10:12 02:03:58-04:00',\n",
       "  'File:FilePermissions': 755,\n",
       "  'File:FileType': 'JPEG',\n",
       "  'File:FileTypeExtension': 'JPG',\n",
       "  'File:MIMEType': 'image/jpeg',\n",
       "  'File:ExifByteOrder': 'II',\n",
       "  'File:ImageWidth': 6368,\n",
       "  'File:ImageHeight': 9984,\n",
       "  'File:EncodingProcess': 0,\n",
       "  'File:BitsPerSample': 8,\n",
       "  'File:ColorComponents': 3,\n",
       "  'File:YCbCrSubSampling': '2 2',\n",
       "  'EXIF:ImageDescription': '              ',\n",
       "  'EXIF:Make': 'VuPoint Solutions',\n",
       "  'EXIF:Model': 'PDS-ST470-VP',\n",
       "  'EXIF:Orientation': 1,\n",
       "  'EXIF:XResolution': 1200,\n",
       "  'EXIF:YResolution': 1200,\n",
       "  'EXIF:ResolutionUnit': 2,\n",
       "  'EXIF:Software': 'V1.0.00.004_3VP',\n",
       "  'EXIF:ModifyDate': '2015:03:22 01:37:43',\n",
       "  'EXIF:YCbCrPositioning': 2,\n",
       "  'EXIF:ExifVersion': '0220',\n",
       "  'EXIF:ExifImageWidth': 6368,\n",
       "  'EXIF:ExifImageHeight': 9984,\n",
       "  'EXIF:InteropIndex': 'R98',\n",
       "  'EXIF:InteropVersion': '0100',\n",
       "  'EXIF:Compression': 6,\n",
       "  'EXIF:ThumbnailOffset': 1636,\n",
       "  'EXIF:ThumbnailLength': 5960,\n",
       "  'EXIF:ThumbnailImage': '(Binary data 5960 bytes, use -b option to extract)',\n",
       "  'Composite:ImageSize': '6368x9984',\n",
       "  'Composite:Megapixels': 63.578112}}"
      ]
     },
     "execution_count": 7,
     "metadata": {},
     "output_type": "execute_result"
    }
   ],
   "source": [
    "r.json()"
   ]
  },
  {
   "cell_type": "code",
   "execution_count": 13,
   "metadata": {},
   "outputs": [],
   "source": [
    "config_file = \"../network.ini\"\n",
    "indexer = MediaIndexer.MediaIndexer(config_file=config_file)"
   ]
  },
  {
   "cell_type": "code",
   "execution_count": null,
   "metadata": {},
   "outputs": [],
   "source": [
    "MediaIndexer.IndexedMedia(indexer=indexer, fi)"
   ]
  }
 ],
 "metadata": {
  "kernelspec": {
   "display_name": "Python 3",
   "language": "python",
   "name": "python3"
  },
  "language_info": {
   "codemirror_mode": {
    "name": "ipython",
    "version": 3
   },
   "file_extension": ".py",
   "mimetype": "text/x-python",
   "name": "python",
   "nbconvert_exporter": "python",
   "pygments_lexer": "ipython3",
   "version": "3.6.6"
  }
 },
 "nbformat": 4,
 "nbformat_minor": 2
}
