{
 "cells": [
  {
   "cell_type": "code",
   "execution_count": null,
   "metadata": {},
   "outputs": [],
   "source": [
    "import glob\n",
    "import os\n",
    "\n",
    "import get_files\n",
    "import pydarknet2\n",
    "import requests\n",
    "from flask import Blueprint\n",
    "from flask_restful import Api, Resource, reqparse\n",
    "\n",
    "import MediaIndexer"
   ]
  },
  {
   "cell_type": "markdown",
   "metadata": {},
   "source": [
    "# MediaIndexer Flask API\n",
    "\n",
    "> *Flask-RESTful is an extension for Flask that adds support for quickly building REST APIs. It is a lightweight abstraction that works with your existing ORM/libraries*. - https://flask-restful.readthedocs.io/en/latest/"
   ]
  },
  {
   "cell_type": "code",
   "execution_count": 13,
   "metadata": {},
   "outputs": [],
   "source": [
    "# Get the xxhash of a file path.\n",
    "base_url = \"http://127.0.0.1:5000\"\n",
    "urls = {\n",
    "    \"thumbnails\": base_url + \"/thumbnails\",\n",
    "    \"exif\": base_url + \"/api/exif\",\n",
    "    \"xxhash\": base_url + \"/api/xxhash\",\n",
    "}\n"
   ]
  },
  {
   "cell_type": "code",
   "execution_count": 23,
   "metadata": {},
   "outputs": [],
   "source": [
    "Blueprint?"
   ]
  },
  {
   "cell_type": "code",
   "execution_count": 16,
   "metadata": {},
   "outputs": [],
   "source": [
    "for image in get_files.get_files(\n",
    "    \"/pictures/2018-10-12T02_03_47-04_00/\", extensions=\".jpg\"\n",
    "):\n",
    "    break\n"
   ]
  },
  {
   "cell_type": "code",
   "execution_count": 17,
   "metadata": {},
   "outputs": [],
   "source": [
    "payload = {\"path\": image}\n",
    "for _, url in urls.items():\n",
    "    r = requests.get(url=url, params=payload)\n"
   ]
  },
  {
   "cell_type": "code",
   "execution_count": 18,
   "metadata": {},
   "outputs": [
    {
     "data": {
      "text/plain": [
       "<Response [200]>"
      ]
     },
     "execution_count": 18,
     "metadata": {},
     "output_type": "execute_result"
    }
   ],
   "source": [
    "r\n"
   ]
  },
  {
   "cell_type": "code",
   "execution_count": 19,
   "metadata": {},
   "outputs": [
    {
     "data": {
      "text/plain": [
       "{'path': '/pictures/2018-10-12T02_03_47-04_00/DCIM/100MEDIA/IMAG0060.JPG',\n",
       " 'xxhash': 'dc5edefbc3432434'}"
      ]
     },
     "execution_count": 19,
     "metadata": {},
     "output_type": "execute_result"
    }
   ],
   "source": [
    "r.json()\n"
   ]
  },
  {
   "cell_type": "code",
   "execution_count": 20,
   "metadata": {},
   "outputs": [
    {
     "data": {
      "text/plain": [
       "'dc5edefbc3432434'"
      ]
     },
     "execution_count": 20,
     "metadata": {},
     "output_type": "execute_result"
    }
   ],
   "source": [
    "r.json()[\"xxhash\"]\n"
   ]
  },
  {
   "cell_type": "code",
   "execution_count": 11,
   "metadata": {
    "scrolled": true
   },
   "outputs": [
    {
     "ename": "NameError",
     "evalue": "name 'root' is not defined",
     "output_type": "error",
     "traceback": [
      "\u001b[0;31m---------------------------------------------------------------------------\u001b[0m",
      "\u001b[0;31mNameError\u001b[0m                                 Traceback (most recent call last)",
      "\u001b[0;32m<ipython-input-11-de3ee0c88846>\u001b[0m in \u001b[0;36m<module>\u001b[0;34m\u001b[0m\n\u001b[0;32m----> 1\u001b[0;31m \u001b[0;32mfor\u001b[0m \u001b[0mimage\u001b[0m \u001b[0;32min\u001b[0m \u001b[0mget_files\u001b[0m\u001b[0;34m.\u001b[0m\u001b[0mget_files\u001b[0m\u001b[0;34m(\u001b[0m\u001b[0mdirectory\u001b[0m\u001b[0;34m=\u001b[0m\u001b[0mroot\u001b[0m\u001b[0;34m,\u001b[0m \u001b[0mextensions\u001b[0m\u001b[0;34m=\u001b[0m\u001b[0;34m\".jpg\"\u001b[0m\u001b[0;34m)\u001b[0m\u001b[0;34m:\u001b[0m\u001b[0;34m\u001b[0m\u001b[0m\n\u001b[0m\u001b[1;32m      2\u001b[0m     \u001b[0mpayload\u001b[0m \u001b[0;34m=\u001b[0m \u001b[0;34m{\u001b[0m\u001b[0;34m\"path\"\u001b[0m\u001b[0;34m:\u001b[0m \u001b[0mimage\u001b[0m\u001b[0;34m}\u001b[0m\u001b[0;34m\u001b[0m\u001b[0m\n\u001b[1;32m      3\u001b[0m     \u001b[0;32mfor\u001b[0m \u001b[0m_\u001b[0m\u001b[0;34m,\u001b[0m \u001b[0murl\u001b[0m \u001b[0;32min\u001b[0m \u001b[0murls\u001b[0m\u001b[0;34m.\u001b[0m\u001b[0mitems\u001b[0m\u001b[0;34m(\u001b[0m\u001b[0;34m)\u001b[0m\u001b[0;34m:\u001b[0m\u001b[0;34m\u001b[0m\u001b[0m\n\u001b[1;32m      4\u001b[0m         \u001b[0mr\u001b[0m \u001b[0;34m=\u001b[0m \u001b[0mrequests\u001b[0m\u001b[0;34m.\u001b[0m\u001b[0mget\u001b[0m\u001b[0;34m(\u001b[0m\u001b[0murl\u001b[0m\u001b[0;34m=\u001b[0m\u001b[0murl\u001b[0m\u001b[0;34m,\u001b[0m \u001b[0mparams\u001b[0m\u001b[0;34m=\u001b[0m\u001b[0mpayload\u001b[0m\u001b[0;34m)\u001b[0m\u001b[0;34m\u001b[0m\u001b[0m\n",
      "\u001b[0;31mNameError\u001b[0m: name 'root' is not defined"
     ]
    }
   ],
   "source": [
    "for image in get_files.get_files(directory=root, extensions=\".jpg\"):\n",
    "    payload = {\"path\": image}\n",
    "    for _, url in urls.items():\n",
    "        r = requests.get(url=url, params=payload)\n"
   ]
  },
  {
   "cell_type": "code",
   "execution_count": 7,
   "metadata": {},
   "outputs": [
    {
     "data": {
      "text/plain": [
       "{'path': '/pictures/2018-10-12T02_03_47-04_00/DCIM/100MEDIA/IMAG0060.JPG',\n",
       " 'exif': {'SourceFile': '/pictures/2018-10-12T02_03_47-04_00/DCIM/100MEDIA/IMAG0060.JPG',\n",
       "  'ExifTool:ExifToolVersion': 10.8,\n",
       "  'File:FileName': 'IMAG0060.JPG',\n",
       "  'File:Directory': '/pictures/2018-10-12T02_03_47-04_00/DCIM/100MEDIA',\n",
       "  'File:FileSize': 3075476,\n",
       "  'File:FileModifyDate': '2015:03:21 21:37:42-04:00',\n",
       "  'File:FileAccessDate': '2018:10:12 02:36:48-04:00',\n",
       "  'File:FileInodeChangeDate': '2018:10:12 02:03:58-04:00',\n",
       "  'File:FilePermissions': 755,\n",
       "  'File:FileType': 'JPEG',\n",
       "  'File:FileTypeExtension': 'JPG',\n",
       "  'File:MIMEType': 'image/jpeg',\n",
       "  'File:ExifByteOrder': 'II',\n",
       "  'File:ImageWidth': 6368,\n",
       "  'File:ImageHeight': 9984,\n",
       "  'File:EncodingProcess': 0,\n",
       "  'File:BitsPerSample': 8,\n",
       "  'File:ColorComponents': 3,\n",
       "  'File:YCbCrSubSampling': '2 2',\n",
       "  'EXIF:ImageDescription': '              ',\n",
       "  'EXIF:Make': 'VuPoint Solutions',\n",
       "  'EXIF:Model': 'PDS-ST470-VP',\n",
       "  'EXIF:Orientation': 1,\n",
       "  'EXIF:XResolution': 1200,\n",
       "  'EXIF:YResolution': 1200,\n",
       "  'EXIF:ResolutionUnit': 2,\n",
       "  'EXIF:Software': 'V1.0.00.004_3VP',\n",
       "  'EXIF:ModifyDate': '2015:03:22 01:37:43',\n",
       "  'EXIF:YCbCrPositioning': 2,\n",
       "  'EXIF:ExifVersion': '0220',\n",
       "  'EXIF:ExifImageWidth': 6368,\n",
       "  'EXIF:ExifImageHeight': 9984,\n",
       "  'EXIF:InteropIndex': 'R98',\n",
       "  'EXIF:InteropVersion': '0100',\n",
       "  'EXIF:Compression': 6,\n",
       "  'EXIF:ThumbnailOffset': 1636,\n",
       "  'EXIF:ThumbnailLength': 5960,\n",
       "  'EXIF:ThumbnailImage': '(Binary data 5960 bytes, use -b option to extract)',\n",
       "  'Composite:ImageSize': '6368x9984',\n",
       "  'Composite:Megapixels': 63.578112}}"
      ]
     },
     "execution_count": 7,
     "metadata": {},
     "output_type": "execute_result"
    }
   ],
   "source": [
    "r.json()\n"
   ]
  },
  {
   "cell_type": "code",
   "execution_count": 13,
   "metadata": {},
   "outputs": [],
   "source": [
    "config_file = \"../network.ini\"\n",
    "indexer = MediaIndexer.MediaIndexer(config_file=config_file)\n"
   ]
  },
  {
   "cell_type": "code",
   "execution_count": null,
   "metadata": {},
   "outputs": [],
   "source": [
    "MediaIndexer.IndexedMedia(indexer=indexer, fi)\n"
   ]
  }
 ],
 "metadata": {
  "kernelspec": {
   "display_name": "Python 3",
   "language": "python",
   "name": "python3"
  },
  "language_info": {
   "codemirror_mode": {
    "name": "ipython",
    "version": 3
   },
   "file_extension": ".py",
   "mimetype": "text/x-python",
   "name": "python",
   "nbconvert_exporter": "python",
   "pygments_lexer": "ipython3",
   "version": "3.6.6"
  }
 },
 "nbformat": 4,
 "nbformat_minor": 2
}
