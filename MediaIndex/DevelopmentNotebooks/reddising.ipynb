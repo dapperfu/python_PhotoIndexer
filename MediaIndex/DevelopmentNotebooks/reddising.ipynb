{
 "cells": [
  {
   "cell_type": "code",
   "execution_count": 1,
   "metadata": {},
   "outputs": [],
   "source": [
    "%load_ext autoreload\n",
    "%autoreload 1"
   ]
  },
  {
   "cell_type": "code",
   "execution_count": 2,
   "metadata": {},
   "outputs": [],
   "source": [
    "%aimport MediaIndexer.local\n",
    "%aimport MediaIndexer.utils"
   ]
  },
  {
   "cell_type": "code",
   "execution_count": 3,
   "metadata": {},
   "outputs": [],
   "source": [
    "import os\n",
    "\n",
    "config_file = os.path.abspath(\"../config.ini\")"
   ]
  },
  {
   "cell_type": "code",
   "execution_count": 4,
   "metadata": {},
   "outputs": [
    {
     "data": {
      "text/plain": [
       "{'rq': StrictRedis<ConnectionPool<Connection<host=127.0.0.1,port=6379,db=0>>>,\n",
       " 'rq_thumb': StrictRedis<ConnectionPool<Connection<host=127.0.0.1,port=6379,db=1>>>,\n",
       " 'rq_cache': StrictRedis<ConnectionPool<Connection<host=127.0.0.1,port=6379,db=2>>>,\n",
       " 'cache_xxhash': StrictRedis<ConnectionPool<Connection<host=127.0.0.1,port=6379,db=10>>>,\n",
       " 'cache_xxhash_': StrictRedis<ConnectionPool<Connection<host=127.0.0.1,port=6379,db=11>>>,\n",
       " 'cache_exif': StrictRedis<ConnectionPool<Connection<host=127.0.0.1,port=6379,db=12>>>,\n",
       " 'cache_image_128x128': StrictRedis<ConnectionPool<Connection<host=127.0.0.1,port=6379,db=13>>>,\n",
       " 'cache_image_608x608': StrictRedis<ConnectionPool<Connection<host=127.0.0.1,port=6379,db=14>>>,\n",
       " 'cache_image_2048x2048': StrictRedis<ConnectionPool<Connection<host=127.0.0.1,port=6379,db=15>>>}"
      ]
     },
     "execution_count": 4,
     "metadata": {},
     "output_type": "execute_result"
    }
   ],
   "source": [
    "databases = MediaIndexer.redis_utils.load_databases(config_file=config_file)\n",
    "databases"
   ]
  },
  {
   "cell_type": "code",
   "execution_count": 9,
   "metadata": {},
   "outputs": [
    {
     "data": {
      "text/plain": [
       "True"
      ]
     },
     "execution_count": 9,
     "metadata": {},
     "output_type": "execute_result"
    }
   ],
   "source": [
    "database.flushdb()"
   ]
  },
  {
   "cell_type": "code",
   "execution_count": null,
   "metadata": {},
   "outputs": [],
   "source": [
    "import MediaIndexer.worker"
   ]
  },
  {
   "cell_type": "code",
   "execution_count": null,
   "metadata": {},
   "outputs": [],
   "source": [
    "config_file"
   ]
  },
  {
   "cell_type": "code",
   "execution_count": null,
   "metadata": {},
   "outputs": [],
   "source": [
    "os.environ[\"MEDIAINDEXER_CFG\"]=config_file"
   ]
  },
  {
   "cell_type": "code",
   "execution_count": null,
   "metadata": {},
   "outputs": [],
   "source": [
    "import glob\n",
    "test_images = glob.glob(\"/tmp/darknet/data/*.jpg\")\n",
    "for test_image in test_images:\n",
    "    break"
   ]
  },
  {
   "cell_type": "code",
   "execution_count": null,
   "metadata": {},
   "outputs": [],
   "source": [
    "MediaIndexer.worker.cache_xxhash(test_image)"
   ]
  },
  {
   "cell_type": "code",
   "execution_count": null,
   "metadata": {},
   "outputs": [],
   "source": [
    "os"
   ]
  },
  {
   "cell_type": "code",
   "execution_count": null,
   "metadata": {},
   "outputs": [],
   "source": [
    "os.pathsep"
   ]
  },
  {
   "cell_type": "code",
   "execution_count": null,
   "metadata": {},
   "outputs": [],
   "source": []
  }
 ],
 "metadata": {
  "kernelspec": {
   "display_name": "Python 3",
   "language": "python",
   "name": "python3"
  },
  "language_info": {
   "codemirror_mode": {
    "name": "ipython",
    "version": 3
   },
   "file_extension": ".py",
   "mimetype": "text/x-python",
   "name": "python",
   "nbconvert_exporter": "python",
   "pygments_lexer": "ipython3",
   "version": "3.6.6"
  }
 },
 "nbformat": 4,
 "nbformat_minor": 2
}
