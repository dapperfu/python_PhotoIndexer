{
 "cells": [
  {
   "cell_type": "code",
   "execution_count": 3,
   "metadata": {},
   "outputs": [],
   "source": [
    "import requests\n",
    "import glob"
   ]
  },
  {
   "cell_type": "markdown",
   "metadata": {},
   "source": [
    "# MediaIndexer Flask API\n",
    "\n",
    "> *Flask-RESTful is an extension for Flask that adds support for quickly building REST APIs. It is a lightweight abstraction that works with your existing ORM/libraries*. - https://flask-restful.readthedocs.io/en/latest/"
   ]
  },
  {
   "cell_type": "code",
   "execution_count": 4,
   "metadata": {},
   "outputs": [],
   "source": [
    "# Get the exif of a file path.\n",
    "url = 'http://127.0.0.1:5000/api/exif'"
   ]
  },
  {
   "cell_type": "code",
   "execution_count": 5,
   "metadata": {},
   "outputs": [],
   "source": [
    "test_images = glob.glob(\"/tmp/darknet/data/*.jpg\")"
   ]
  },
  {
   "cell_type": "code",
   "execution_count": 6,
   "metadata": {},
   "outputs": [
    {
     "name": "stdout",
     "output_type": "stream",
     "text": [
      "/tmp/darknet/data/giraffe.jpg\n"
     ]
    }
   ],
   "source": [
    "for test_image in test_images:\n",
    "    break\n",
    "print(test_image)"
   ]
  },
  {
   "cell_type": "code",
   "execution_count": 13,
   "metadata": {},
   "outputs": [
    {
     "name": "stdout",
     "output_type": "stream",
     "text": [
      "{\n",
      "    \"path\": \"/tmp/darknet/data/giraffe.jpg\",\n",
      "    \"exif\": {\n",
      "        \"SourceFile\": \"/tmp/darknet/data/giraffe.jpg\",\n",
      "        \"ExifTool:ExifToolVersion\": 10.8,\n",
      "        \"File:FileName\": \"giraffe.jpg\",\n",
      "        \"File:Directory\": \"/tmp/darknet/data\",\n",
      "        \"File:FileSize\": 382965,\n",
      "        \"File:FileModifyDate\": \"2018:10:10 00:48:54-04:00\",\n",
      "        \"File:FileAccessDate\": \"2018:10:10 05:43:05-04:00\",\n",
      "        \"File:FileInodeChangeDate\": \"2018:10:10 00:48:54-04:00\",\n",
      "        \"File:FilePermissions\": 664,\n",
      "        \"File:FileType\": \"JPEG\",\n",
      "        \"File:FileTypeExtension\": \"JPG\",\n",
      "        \"File:MIMEType\": \"image/jpeg\",\n",
      "        \"File:ImageWidth\": 500,\n",
      "        \"File:ImageHeight\": 500,\n",
      "        \"File:EncodingProcess\": 0,\n",
      "        \"File:BitsPerSample\": 8,\n",
      "        \"File:ColorComponents\": 3,\n",
      "        \"File:YCbCrSubSampling\": \"1 1\",\n",
      "        \"JFIF:JFIFVersion\": \"1 1\",\n",
      "        \"JFIF:ResolutionUnit\": 1,\n",
      "        \"JFIF:XResolution\": 300,\n",
      "        \"JFIF:YResolution\": 300,\n",
      "        \"ICC_Profile:ProfileCMMType\": \"Lino\",\n",
      "        \"ICC_Profile:ProfileVersion\": 528,\n",
      "        \"ICC_Profile:ProfileClass\": \"mntr\",\n",
      "        \"ICC_Profile:ColorSpaceData\": \"RGB \",\n",
      "        \"ICC_Profile:ProfileConnectionSpace\": \"XYZ \",\n",
      "        \"ICC_Profile:ProfileDateTime\": \"1998:02:09 06:49:00\",\n",
      "        \"ICC_Profile:ProfileFileSignature\": \"acsp\",\n",
      "        \"ICC_Profile:PrimaryPlatform\": \"MSFT\",\n",
      "        \"ICC_Profile:CMMFlags\": 0,\n",
      "        \"ICC_Profile:DeviceManufacturer\": \"IEC \",\n",
      "        \"ICC_Profile:DeviceModel\": \"sRGB\",\n",
      "        \"ICC_Profile:DeviceAttributes\": \"0 0\",\n",
      "        \"ICC_Profile:RenderingIntent\": 0,\n",
      "        \"ICC_Profile:ConnectionSpaceIlluminant\": \"0.9642 1 0.82491\",\n",
      "        \"ICC_Profile:ProfileCreator\": \"HP  \",\n",
      "        \"ICC_Profile:ProfileID\": \"0 0 0 0 0 0 0 0 0 0 0 0 0 0 0 0\",\n",
      "        \"ICC_Profile:ProfileCopyright\": \"Copyright (c) 1998 Hewlett-Packard Company\",\n",
      "        \"ICC_Profile:ProfileDescription\": \"sRGB IEC61966-2.1\",\n",
      "        \"ICC_Profile:MediaWhitePoint\": \"0.95045 1 1.08905\",\n",
      "        \"ICC_Profile:MediaBlackPoint\": \"0 0 0\",\n",
      "        \"ICC_Profile:RedMatrixColumn\": \"0.43607 0.22249 0.01392\",\n",
      "        \"ICC_Profile:GreenMatrixColumn\": \"0.38515 0.71687 0.09708\",\n",
      "        \"ICC_Profile:BlueMatrixColumn\": \"0.14307 0.06061 0.7141\",\n",
      "        \"ICC_Profile:DeviceMfgDesc\": \"IEC http://www.iec.ch\",\n",
      "        \"ICC_Profile:DeviceModelDesc\": \"IEC 61966-2.1 Default RGB colour space - sRGB\",\n",
      "        \"ICC_Profile:ViewingCondDesc\": \"Reference Viewing Condition in IEC61966-2.1\",\n",
      "        \"ICC_Profile:ViewingCondIlluminant\": \"19.6445 20.3718 16.8089\",\n",
      "        \"ICC_Profile:ViewingCondSurround\": \"3.92889 4.07439 3.36179\",\n",
      "        \"ICC_Profile:ViewingCondIlluminantType\": 1,\n",
      "        \"ICC_Profile:Luminance\": \"76.03647 80 87.12462\",\n",
      "        \"ICC_Profile:MeasurementObserver\": 1,\n",
      "        \"ICC_Profile:MeasurementBacking\": \"0 0 0\",\n",
      "        \"ICC_Profile:MeasurementGeometry\": 0,\n",
      "        \"ICC_Profile:MeasurementFlare\": 0.00999,\n",
      "        \"ICC_Profile:MeasurementIlluminant\": 2,\n",
      "        \"ICC_Profile:Technology\": \"CRT \",\n",
      "        \"ICC_Profile:RedTRC\": \"(Binary data 2060 bytes, use -b option to extract)\",\n",
      "        \"ICC_Profile:GreenTRC\": \"(Binary data 2060 bytes, use -b option to extract)\",\n",
      "        \"ICC_Profile:BlueTRC\": \"(Binary data 2060 bytes, use -b option to extract)\",\n",
      "        \"Composite:ImageSize\": \"500x500\",\n",
      "        \"Composite:Megapixels\": 0.25\n",
      "    }\n",
      "}\n",
      "\n"
     ]
    }
   ],
   "source": [
    "payload = {'path': test_image}\n",
    "r = requests.get(url=url, params=payload)\n",
    "print(r.text)"
   ]
  }
 ],
 "metadata": {
  "kernelspec": {
   "display_name": "Python 3",
   "language": "python",
   "name": "python3"
  },
  "language_info": {
   "codemirror_mode": {
    "name": "ipython",
    "version": 3
   },
   "file_extension": ".py",
   "mimetype": "text/x-python",
   "name": "python",
   "nbconvert_exporter": "python",
   "pygments_lexer": "ipython3",
   "version": "3.6.6"
  }
 },
 "nbformat": 4,
 "nbformat_minor": 2
}
