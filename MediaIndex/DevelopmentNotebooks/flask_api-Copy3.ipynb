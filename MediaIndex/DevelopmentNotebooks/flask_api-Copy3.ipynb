{
 "cells": [
  {
   "cell_type": "code",
   "execution_count": 3,
   "metadata": {},
   "outputs": [],
   "source": [
    "import requests\n",
    "import glob"
   ]
  },
  {
   "cell_type": "markdown",
   "metadata": {},
   "source": [
    "# MediaIndexer Flask API\n",
    "\n",
    "> *Flask-RESTful is an extension for Flask that adds support for quickly building REST APIs. It is a lightweight abstraction that works with your existing ORM/libraries*. - https://flask-restful.readthedocs.io/en/latest/"
   ]
  },
  {
   "cell_type": "code",
   "execution_count": 56,
   "metadata": {},
   "outputs": [],
   "source": [
    "# Get the xxhash of a file path.\n",
    "url = 'http://127.0.0.1:5000/thumbnails/'"
   ]
  },
  {
   "cell_type": "code",
   "execution_count": 57,
   "metadata": {},
   "outputs": [],
   "source": [
    "test_images = glob.glob(\"/tmp/darknet/data/*.jpg\")"
   ]
  },
  {
   "cell_type": "code",
   "execution_count": 58,
   "metadata": {},
   "outputs": [
    {
     "name": "stdout",
     "output_type": "stream",
     "text": [
      "/tmp/darknet/data/giraffe.jpg\n"
     ]
    }
   ],
   "source": [
    "for test_image in test_images:\n",
    "    break\n",
    "print(test_image)"
   ]
  },
  {
   "cell_type": "code",
   "execution_count": 59,
   "metadata": {},
   "outputs": [],
   "source": [
    "payload = {'path': test_image}\n",
    "r = requests.get(url=url, params=payload)"
   ]
  },
  {
   "cell_type": "code",
   "execution_count": 60,
   "metadata": {},
   "outputs": [
    {
     "data": {
      "text/plain": [
       "200"
      ]
     },
     "execution_count": 60,
     "metadata": {},
     "output_type": "execute_result"
    }
   ],
   "source": [
    "r.status_code"
   ]
  },
  {
   "cell_type": "code",
   "execution_count": 64,
   "metadata": {},
   "outputs": [
    {
     "name": "stdout",
     "output_type": "stream",
     "text": [
      "/tmp/darknet/data/giraffe.jpg: <Response [200]>\n",
      "/tmp/darknet/data/person.jpg: <Response [200]>\n",
      "/tmp/darknet/data/eagle.jpg: <Response [200]>\n",
      "/tmp/darknet/data/scream.jpg: <Response [200]>\n",
      "/tmp/darknet/data/kite.jpg: <Response [200]>\n",
      "/tmp/darknet/data/dog.jpg: <Response [200]>\n",
      "/tmp/darknet/data/horses.jpg: <Response [200]>\n"
     ]
    }
   ],
   "source": [
    "for test_image in test_images:\n",
    "    payload = {'path': test_image}\n",
    "    r = requests.get(url=url, params=payload)\n",
    "    print(\"{}: {}\".format(test_image, r))"
   ]
  },
  {
   "cell_type": "code",
   "execution_count": null,
   "metadata": {},
   "outputs": [],
   "source": [
    "import MediaIndexer"
   ]
  },
  {
   "cell_type": "code",
   "execution_count": 39,
   "metadata": {},
   "outputs": [
    {
     "data": {
      "text/plain": [
       "False"
      ]
     },
     "execution_count": 39,
     "metadata": {},
     "output_type": "execute_result"
    }
   ],
   "source": [
    "t.closed"
   ]
  },
  {
   "cell_type": "code",
   "execution_count": 41,
   "metadata": {},
   "outputs": [
    {
     "data": {
      "text/plain": [
       "'/tmp/tmpf_45370m.jpg'"
      ]
     },
     "execution_count": 41,
     "metadata": {},
     "output_type": "execute_result"
    }
   ],
   "source": [
    "t.name"
   ]
  },
  {
   "cell_type": "code",
   "execution_count": 44,
   "metadata": {},
   "outputs": [],
   "source": [
    "from flask import make_response"
   ]
  },
  {
   "cell_type": "code",
   "execution_count": 65,
   "metadata": {},
   "outputs": [
    {
     "data": {
      "text/plain": [
       "<tempfile._TemporaryFileWrapper at 0x7f8c57a8ec18>"
      ]
     },
     "execution_count": 65,
     "metadata": {},
     "output_type": "execute_result"
    }
   ],
   "source": [
    "tempfile.NamedTemporaryFile(suffix=\".jpg\")"
   ]
  },
  {
   "cell_type": "code",
   "execution_count": 66,
   "metadata": {},
   "outputs": [],
   "source": [
    "t = tempfile.NamedTemporaryFile(suffix=\".jpg\")"
   ]
  },
  {
   "cell_type": "code",
   "execution_count": 68,
   "metadata": {},
   "outputs": [],
   "source": [
    "import os"
   ]
  },
  {
   "cell_type": "code",
   "execution_count": 69,
   "metadata": {},
   "outputs": [],
   "source": [
    "cfg = os.path.abspath(\"../config_m6700.ini\")\n",
    "assert os.path.exists(cfg)"
   ]
  },
  {
   "cell_type": "code",
   "execution_count": 71,
   "metadata": {},
   "outputs": [],
   "source": [
    "import MediaIndexer"
   ]
  },
  {
   "cell_type": "code",
   "execution_count": 72,
   "metadata": {},
   "outputs": [
    {
     "data": {
      "text/plain": [
       "MediaIndexer<config_m6700.ini>"
      ]
     },
     "execution_count": 72,
     "metadata": {},
     "output_type": "execute_result"
    }
   ],
   "source": [
    "indexer = MediaIndexer.MediaIndexer(config_file=cfg)\n",
    "indexer"
   ]
  },
  {
   "cell_type": "code",
   "execution_count": 73,
   "metadata": {},
   "outputs": [
    {
     "data": {
      "text/plain": [
       "'/tmp/darknet/data/horses.jpg'"
      ]
     },
     "execution_count": 73,
     "metadata": {},
     "output_type": "execute_result"
    }
   ],
   "source": [
    "test_image"
   ]
  },
  {
   "cell_type": "code",
   "execution_count": 74,
   "metadata": {},
   "outputs": [
    {
     "name": "stdout",
     "output_type": "stream",
     "text": [
      "[X] hash : /tmp/darknet/data/horses.jpg\n"
     ]
    },
    {
     "data": {
      "text/plain": [
       "IndexedMedia<7b05a249329cf220>"
      ]
     },
     "execution_count": 74,
     "metadata": {},
     "output_type": "execute_result"
    }
   ],
   "source": [
    "media = MediaIndexer.IndexedMedia(indexer=indexer, file_path=test_image)\n",
    "media"
   ]
  },
  {
   "cell_type": "code",
   "execution_count": 75,
   "metadata": {},
   "outputs": [
    {
     "name": "stdout",
     "output_type": "stream",
     "text": [
      "[X] hash : /tmp/darknet/data/horses.jpg\n",
      "[ ] EXIF: /tmp/darknet/data/horses.jpg\n"
     ]
    },
    {
     "data": {
      "text/plain": [
       "{'SourceFile': '/tmp/darknet/data/horses.jpg',\n",
       " 'ExifTool:ExifToolVersion': 10.8,\n",
       " 'File:FileName': 'horses.jpg',\n",
       " 'File:Directory': '/tmp/darknet/data',\n",
       " 'File:FileSize': 133495,\n",
       " 'File:FileModifyDate': '2018:10:10 00:48:54-04:00',\n",
       " 'File:FileAccessDate': '2018:10:10 07:05:47-04:00',\n",
       " 'File:FileInodeChangeDate': '2018:10:10 00:48:54-04:00',\n",
       " 'File:FilePermissions': 664,\n",
       " 'File:FileType': 'JPEG',\n",
       " 'File:FileTypeExtension': 'JPG',\n",
       " 'File:MIMEType': 'image/jpeg',\n",
       " 'File:ExifByteOrder': 'MM',\n",
       " 'File:CurrentIPTCDigest': '4fb664d66f7cda64af1ea663a4eeb297',\n",
       " 'File:ImageWidth': 773,\n",
       " 'File:ImageHeight': 512,\n",
       " 'File:EncodingProcess': 0,\n",
       " 'File:BitsPerSample': 8,\n",
       " 'File:ColorComponents': 3,\n",
       " 'File:YCbCrSubSampling': '1 2',\n",
       " 'JFIF:JFIFVersion': '1 1',\n",
       " 'JFIF:ResolutionUnit': 1,\n",
       " 'JFIF:XResolution': 72,\n",
       " 'JFIF:YResolution': 72,\n",
       " 'EXIF:Make': 'PENTAX',\n",
       " 'EXIF:Model': 'PENTAX K-5',\n",
       " 'EXIF:Orientation': 1,\n",
       " 'EXIF:XResolution': 72,\n",
       " 'EXIF:YResolution': 72,\n",
       " 'EXIF:ResolutionUnit': 2,\n",
       " 'EXIF:Software': 'Photos 1.0',\n",
       " 'EXIF:ModifyDate': '2013:04:13 15:02:50',\n",
       " 'EXIF:ExposureTime': 0.005,\n",
       " 'EXIF:FNumber': 14,\n",
       " 'EXIF:ExposureProgram': 3,\n",
       " 'EXIF:ISO': 200,\n",
       " 'EXIF:ExifVersion': '0221',\n",
       " 'EXIF:DateTimeOriginal': '2013:04:13 15:02:50',\n",
       " 'EXIF:CreateDate': '2013:04:13 15:02:50',\n",
       " 'EXIF:ComponentsConfiguration': '1 2 3 0',\n",
       " 'EXIF:ExposureCompensation': 0,\n",
       " 'EXIF:MaxApertureValue': 1.43608072276587,\n",
       " 'EXIF:MeteringMode': 5,\n",
       " 'EXIF:Flash': 16,\n",
       " 'EXIF:FocalLength': 50,\n",
       " 'EXIF:FlashpixVersion': '0100',\n",
       " 'EXIF:ColorSpace': 1,\n",
       " 'EXIF:ExifImageWidth': 773,\n",
       " 'EXIF:ExifImageHeight': 512,\n",
       " 'EXIF:SensingMethod': 2,\n",
       " 'EXIF:FileSource': 3,\n",
       " 'EXIF:SceneType': 1,\n",
       " 'EXIF:CustomRendered': 0,\n",
       " 'EXIF:ExposureMode': 0,\n",
       " 'EXIF:WhiteBalance': 0,\n",
       " 'EXIF:FocalLengthIn35mmFormat': 75,\n",
       " 'EXIF:SceneCaptureType': 0,\n",
       " 'EXIF:Contrast': 2,\n",
       " 'EXIF:Saturation': 0,\n",
       " 'EXIF:Sharpness': 2,\n",
       " 'EXIF:SubjectDistanceRange': 3,\n",
       " 'XMP:XMPToolkit': 'XMP Core 5.4.0',\n",
       " 'XMP:LensID': 2289,\n",
       " 'XMP:Lens': 'smc PENTAX-DA* 50-135mm F2.8 ED [IF] SDM',\n",
       " 'XMP:SerialNumber': 7009380,\n",
       " 'XMP:CreateDate': '2013:04:13 15:02:50',\n",
       " 'XMP:ModifyDate': '2013:04:13 15:02:50',\n",
       " 'XMP:CreatorTool': 'Photos 1.0',\n",
       " 'XMP:DateCreated': '2013:04:13 15:02:50',\n",
       " 'XMP:Creator': '',\n",
       " 'XMP:Rights': '',\n",
       " 'IPTC:CodedCharacterSet': '\\x1b%G',\n",
       " 'IPTC:ApplicationRecordVersion': 2,\n",
       " 'IPTC:DigitalCreationDate': '2013:04:13',\n",
       " 'IPTC:DigitalCreationTime': '15:02:50',\n",
       " 'IPTC:DateCreated': '2013:04:13',\n",
       " 'IPTC:TimeCreated': '15:02:50',\n",
       " 'Photoshop:IPTCDigest': '4fb664d66f7cda64af1ea663a4eeb297',\n",
       " 'ICC_Profile:ProfileCMMType': 'Lino',\n",
       " 'ICC_Profile:ProfileVersion': 528,\n",
       " 'ICC_Profile:ProfileClass': 'mntr',\n",
       " 'ICC_Profile:ColorSpaceData': 'RGB ',\n",
       " 'ICC_Profile:ProfileConnectionSpace': 'XYZ ',\n",
       " 'ICC_Profile:ProfileDateTime': '1998:02:09 06:49:00',\n",
       " 'ICC_Profile:ProfileFileSignature': 'acsp',\n",
       " 'ICC_Profile:PrimaryPlatform': 'MSFT',\n",
       " 'ICC_Profile:CMMFlags': 0,\n",
       " 'ICC_Profile:DeviceManufacturer': 'IEC ',\n",
       " 'ICC_Profile:DeviceModel': 'sRGB',\n",
       " 'ICC_Profile:DeviceAttributes': '0 0',\n",
       " 'ICC_Profile:RenderingIntent': 0,\n",
       " 'ICC_Profile:ConnectionSpaceIlluminant': '0.9642 1 0.82491',\n",
       " 'ICC_Profile:ProfileCreator': 'HP  ',\n",
       " 'ICC_Profile:ProfileID': '0 0 0 0 0 0 0 0 0 0 0 0 0 0 0 0',\n",
       " 'ICC_Profile:ProfileCopyright': 'Copyright (c) 1998 Hewlett-Packard Company',\n",
       " 'ICC_Profile:ProfileDescription': 'sRGB IEC61966-2.1',\n",
       " 'ICC_Profile:MediaWhitePoint': '0.95045 1 1.08905',\n",
       " 'ICC_Profile:MediaBlackPoint': '0 0 0',\n",
       " 'ICC_Profile:RedMatrixColumn': '0.43607 0.22249 0.01392',\n",
       " 'ICC_Profile:GreenMatrixColumn': '0.38515 0.71687 0.09708',\n",
       " 'ICC_Profile:BlueMatrixColumn': '0.14307 0.06061 0.7141',\n",
       " 'ICC_Profile:DeviceMfgDesc': 'IEC http://www.iec.ch',\n",
       " 'ICC_Profile:DeviceModelDesc': 'IEC 61966-2.1 Default RGB colour space - sRGB',\n",
       " 'ICC_Profile:ViewingCondDesc': 'Reference Viewing Condition in IEC61966-2.1',\n",
       " 'ICC_Profile:ViewingCondIlluminant': '19.6445 20.3718 16.8089',\n",
       " 'ICC_Profile:ViewingCondSurround': '3.92889 4.07439 3.36179',\n",
       " 'ICC_Profile:ViewingCondIlluminantType': 1,\n",
       " 'ICC_Profile:Luminance': '76.03647 80 87.12462',\n",
       " 'ICC_Profile:MeasurementObserver': 1,\n",
       " 'ICC_Profile:MeasurementBacking': '0 0 0',\n",
       " 'ICC_Profile:MeasurementGeometry': 0,\n",
       " 'ICC_Profile:MeasurementFlare': 0.00999,\n",
       " 'ICC_Profile:MeasurementIlluminant': 2,\n",
       " 'ICC_Profile:Technology': 'CRT ',\n",
       " 'ICC_Profile:RedTRC': '(Binary data 2060 bytes, use -b option to extract)',\n",
       " 'ICC_Profile:GreenTRC': '(Binary data 2060 bytes, use -b option to extract)',\n",
       " 'ICC_Profile:BlueTRC': '(Binary data 2060 bytes, use -b option to extract)',\n",
       " 'Composite:Aperture': 14,\n",
       " 'Composite:DateTimeCreated': '2013:04:13 15:02:50',\n",
       " 'Composite:DigitalCreationDateTime': '2013:04:13 15:02:50',\n",
       " 'Composite:ImageSize': '773x512',\n",
       " 'Composite:Megapixels': 0.395776,\n",
       " 'Composite:ScaleFactor35efl': 1.5,\n",
       " 'Composite:ShutterSpeed': 0.005,\n",
       " 'Composite:CircleOfConfusion': 0.0200308404192444,\n",
       " 'Composite:FOV': 26.9914893603273,\n",
       " 'Composite:FocalLength35efl': 75,\n",
       " 'Composite:HyperfocalDistance': 8.91482458219117,\n",
       " 'Composite:LensID': 2289,\n",
       " 'Composite:LightValue': 14.2585660338899}"
      ]
     },
     "execution_count": 75,
     "metadata": {},
     "output_type": "execute_result"
    }
   ],
   "source": [
    "media.exif"
   ]
  },
  {
   "cell_type": "code",
   "execution_count": 76,
   "metadata": {},
   "outputs": [
    {
     "name": "stdout",
     "output_type": "stream",
     "text": [
      "[X] hash : /tmp/darknet/data/horses.jpg\n",
      "[X] thumb : /tmp/darknet/data/horses.jpg\n"
     ]
    },
    {
     "data": {
      "image/png": "[encoded data removed]",
      "text/plain": [
       "<PIL.JpegImagePlugin.JpegImageFile image mode=RGB size=255x168 at 0x7F8C41FE9908>"
      ]
     },
     "execution_count": 76,
     "metadata": {},
     "output_type": "execute_result"
    }
   ],
   "source": [
    "media.thumbnail"
   ]
  },
  {
   "cell_type": "code",
   "execution_count": 77,
   "metadata": {},
   "outputs": [
    {
     "name": "stdout",
     "output_type": "stream",
     "text": [
      "Loading darknet classifier, one minute.\n",
      "Loading network......Done\n",
      "Loading metadata......Done\n"
     ]
    },
    {
     "data": {
      "text/plain": [
       "[Classified<horse, (14.26995849609375, 192.13685607910156, 322.9382629394531, 413.9668426513672)>,\n",
       " Classified<horse, (432.5987243652344, 211.7016372680664, 605.0351867675781, 349.9322738647461)>,\n",
       " Classified<horse, (-1.3235397338867188, 183.55876922607422, 176.38422393798828, 398.4044876098633)>,\n",
       " Classified<horse, (234.91242218017578, 195.80825805664062, 441.6796188354492, 370.2369689941406)>]"
      ]
     },
     "execution_count": 77,
     "metadata": {},
     "output_type": "execute_result"
    }
   ],
   "source": [
    "media.objects"
   ]
  },
  {
   "cell_type": "code",
   "execution_count": 78,
   "metadata": {},
   "outputs": [
    {
     "data": {
      "text/plain": [
       "[Classified<horse, (14.26995849609375, 192.13685607910156, 322.9382629394531, 413.9668426513672)>,\n",
       " Classified<horse, (432.5987243652344, 211.7016372680664, 605.0351867675781, 349.9322738647461)>,\n",
       " Classified<horse, (-1.3235397338867188, 183.55876922607422, 176.38422393798828, 398.4044876098633)>,\n",
       " Classified<horse, (234.91242218017578, 195.80825805664062, 441.6796188354492, 370.2369689941406)>]"
      ]
     },
     "execution_count": 78,
     "metadata": {},
     "output_type": "execute_result"
    }
   ],
   "source": [
    "media.objects"
   ]
  },
  {
   "cell_type": "code",
   "execution_count": null,
   "metadata": {},
   "outputs": [],
   "source": [
    "media."
   ]
  }
 ],
 "metadata": {
  "kernelspec": {
   "display_name": "Python 3",
   "language": "python",
   "name": "python3"
  },
  "language_info": {
   "codemirror_mode": {
    "name": "ipython",
    "version": 3
   },
   "file_extension": ".py",
   "mimetype": "text/x-python",
   "name": "python",
   "nbconvert_exporter": "python",
   "pygments_lexer": "ipython3",
   "version": "3.6.6"
  }
 },
 "nbformat": 4,
 "nbformat_minor": 2
}
