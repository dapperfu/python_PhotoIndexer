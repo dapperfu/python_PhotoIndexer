{
 "cells": [
  {
   "cell_type": "code",
   "execution_count": 1,
   "metadata": {},
   "outputs": [],
   "source": [
    "%load_ext autoreload\n",
    "%autoreload 1"
   ]
  },
  {
   "cell_type": "code",
   "execution_count": 2,
   "metadata": {},
   "outputs": [],
   "source": [
    "%aimport MediaIndexer\n",
    "%aimport MediaIndexer.utils"
   ]
  },
  {
   "cell_type": "code",
   "execution_count": 3,
   "metadata": {},
   "outputs": [],
   "source": [
    "import os"
   ]
  },
  {
   "cell_type": "code",
   "execution_count": 5,
   "metadata": {},
   "outputs": [],
   "source": [
    "cfg = os.path.abspath(\"../config_m6700.ini\")\n",
    "assert os.path.exists(cfg)"
   ]
  },
  {
   "cell_type": "code",
   "execution_count": 6,
   "metadata": {},
   "outputs": [
    {
     "data": {
      "text/plain": [
       "MediaIndexer<config_m6700.ini>"
      ]
     },
     "execution_count": 6,
     "metadata": {},
     "output_type": "execute_result"
    }
   ],
   "source": [
    "indexer = MediaIndexer.MediaIndexer(config_file=cfg)\n",
    "indexer"
   ]
  },
  {
   "cell_type": "code",
   "execution_count": 7,
   "metadata": {},
   "outputs": [],
   "source": [
    "import glob\n",
    "test_images = glob.glob(\"/tmp/darknet/data/*.jpg\")"
   ]
  },
  {
   "cell_type": "code",
   "execution_count": 8,
   "metadata": {},
   "outputs": [],
   "source": [
    "for test_image in test_images:\n",
    "    break"
   ]
  },
  {
   "cell_type": "code",
   "execution_count": 12,
   "metadata": {
    "scrolled": true
   },
   "outputs": [
    {
     "name": "stdout",
     "output_type": "stream",
     "text": [
      "[X] hash : /tmp/darknet/data/giraffe.jpg\n",
      "[X] EXIF : /tmp/darknet/data/giraffe.jpg\n"
     ]
    },
    {
     "data": {
      "text/plain": [
       "{'SourceFile': '/tmp/darknet/data/giraffe.jpg',\n",
       " 'ExifTool:ExifToolVersion': 10.8,\n",
       " 'File:FileName': 'giraffe.jpg',\n",
       " 'File:Directory': '/tmp/darknet/data',\n",
       " 'File:FileSize': 382965,\n",
       " 'File:FileModifyDate': '2018:10:10 00:48:54-04:00',\n",
       " 'File:FileAccessDate': '2018:10:10 05:43:05-04:00',\n",
       " 'File:FileInodeChangeDate': '2018:10:10 00:48:54-04:00',\n",
       " 'File:FilePermissions': 664,\n",
       " 'File:FileType': 'JPEG',\n",
       " 'File:FileTypeExtension': 'JPG',\n",
       " 'File:MIMEType': 'image/jpeg',\n",
       " 'File:ImageWidth': 500,\n",
       " 'File:ImageHeight': 500,\n",
       " 'File:EncodingProcess': 0,\n",
       " 'File:BitsPerSample': 8,\n",
       " 'File:ColorComponents': 3,\n",
       " 'File:YCbCrSubSampling': '1 1',\n",
       " 'JFIF:JFIFVersion': '1 1',\n",
       " 'JFIF:ResolutionUnit': 1,\n",
       " 'JFIF:XResolution': 300,\n",
       " 'JFIF:YResolution': 300,\n",
       " 'ICC_Profile:ProfileCMMType': 'Lino',\n",
       " 'ICC_Profile:ProfileVersion': 528,\n",
       " 'ICC_Profile:ProfileClass': 'mntr',\n",
       " 'ICC_Profile:ColorSpaceData': 'RGB ',\n",
       " 'ICC_Profile:ProfileConnectionSpace': 'XYZ ',\n",
       " 'ICC_Profile:ProfileDateTime': '1998:02:09 06:49:00',\n",
       " 'ICC_Profile:ProfileFileSignature': 'acsp',\n",
       " 'ICC_Profile:PrimaryPlatform': 'MSFT',\n",
       " 'ICC_Profile:CMMFlags': 0,\n",
       " 'ICC_Profile:DeviceManufacturer': 'IEC ',\n",
       " 'ICC_Profile:DeviceModel': 'sRGB',\n",
       " 'ICC_Profile:DeviceAttributes': '0 0',\n",
       " 'ICC_Profile:RenderingIntent': 0,\n",
       " 'ICC_Profile:ConnectionSpaceIlluminant': '0.9642 1 0.82491',\n",
       " 'ICC_Profile:ProfileCreator': 'HP  ',\n",
       " 'ICC_Profile:ProfileID': '0 0 0 0 0 0 0 0 0 0 0 0 0 0 0 0',\n",
       " 'ICC_Profile:ProfileCopyright': 'Copyright (c) 1998 Hewlett-Packard Company',\n",
       " 'ICC_Profile:ProfileDescription': 'sRGB IEC61966-2.1',\n",
       " 'ICC_Profile:MediaWhitePoint': '0.95045 1 1.08905',\n",
       " 'ICC_Profile:MediaBlackPoint': '0 0 0',\n",
       " 'ICC_Profile:RedMatrixColumn': '0.43607 0.22249 0.01392',\n",
       " 'ICC_Profile:GreenMatrixColumn': '0.38515 0.71687 0.09708',\n",
       " 'ICC_Profile:BlueMatrixColumn': '0.14307 0.06061 0.7141',\n",
       " 'ICC_Profile:DeviceMfgDesc': 'IEC http://www.iec.ch',\n",
       " 'ICC_Profile:DeviceModelDesc': 'IEC 61966-2.1 Default RGB colour space - sRGB',\n",
       " 'ICC_Profile:ViewingCondDesc': 'Reference Viewing Condition in IEC61966-2.1',\n",
       " 'ICC_Profile:ViewingCondIlluminant': '19.6445 20.3718 16.8089',\n",
       " 'ICC_Profile:ViewingCondSurround': '3.92889 4.07439 3.36179',\n",
       " 'ICC_Profile:ViewingCondIlluminantType': 1,\n",
       " 'ICC_Profile:Luminance': '76.03647 80 87.12462',\n",
       " 'ICC_Profile:MeasurementObserver': 1,\n",
       " 'ICC_Profile:MeasurementBacking': '0 0 0',\n",
       " 'ICC_Profile:MeasurementGeometry': 0,\n",
       " 'ICC_Profile:MeasurementFlare': 0.00999,\n",
       " 'ICC_Profile:MeasurementIlluminant': 2,\n",
       " 'ICC_Profile:Technology': 'CRT ',\n",
       " 'ICC_Profile:RedTRC': '(Binary data 2060 bytes, use -b option to extract)',\n",
       " 'ICC_Profile:GreenTRC': '(Binary data 2060 bytes, use -b option to extract)',\n",
       " 'ICC_Profile:BlueTRC': '(Binary data 2060 bytes, use -b option to extract)',\n",
       " 'Composite:ImageSize': '500x500',\n",
       " 'Composite:Megapixels': 0.25}"
      ]
     },
     "execution_count": 12,
     "metadata": {},
     "output_type": "execute_result"
    }
   ],
   "source": [
    "indexer.get_exif(test_image)"
   ]
  },
  {
   "cell_type": "code",
   "execution_count": null,
   "metadata": {},
   "outputs": [],
   "source": [
    "thu"
   ]
  }
 ],
 "metadata": {
  "kernelspec": {
   "display_name": "Python 3",
   "language": "python",
   "name": "python3"
  },
  "language_info": {
   "codemirror_mode": {
    "name": "ipython",
    "version": 3
   },
   "file_extension": ".py",
   "mimetype": "text/x-python",
   "name": "python",
   "nbconvert_exporter": "python",
   "pygments_lexer": "ipython3",
   "version": "3.6.6"
  }
 },
 "nbformat": 4,
 "nbformat_minor": 2
}
