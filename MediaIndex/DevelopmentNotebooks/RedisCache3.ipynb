{
 "cells": [
  {
   "cell_type": "code",
   "execution_count": 2,
   "metadata": {},
   "outputs": [],
   "source": [
    "%load_ext autoreload\n",
    "%autoreload 1"
   ]
  },
  {
   "cell_type": "code",
   "execution_count": 3,
   "metadata": {},
   "outputs": [],
   "source": [
    "%aimport MediaIndexer\n",
    "%aimport MediaIndexer.utils\n",
    "%aimport MediaIndexer.redis_cache\n",
    "%aimport MediaIndexer.redis_utils"
   ]
  },
  {
   "cell_type": "code",
   "execution_count": 4,
   "metadata": {},
   "outputs": [
    {
     "data": {
      "text/plain": [
       "{'rq': StrictRedis<ConnectionPool<Connection<host=127.0.0.1,port=6379,db=0>>>,\n",
       " 'rq_thumb': StrictRedis<ConnectionPool<Connection<host=127.0.0.1,port=6379,db=1>>>,\n",
       " 'rq_cache': StrictRedis<ConnectionPool<Connection<host=127.0.0.1,port=6379,db=2>>>,\n",
       " 'cache_xxhash': StrictRedis<ConnectionPool<Connection<host=127.0.0.1,port=6379,db=10>>>,\n",
       " 'cache_xxhash_': StrictRedis<ConnectionPool<Connection<host=127.0.0.1,port=6379,db=11>>>,\n",
       " 'cache_exif': StrictRedis<ConnectionPool<Connection<host=127.0.0.1,port=6379,db=12>>>,\n",
       " 'cache_sha512': StrictRedis<ConnectionPool<Connection<host=127.0.0.1,port=6379,db=13>>>,\n",
       " 'cache_sha512_': StrictRedis<ConnectionPool<Connection<host=127.0.0.1,port=6379,db=13>>>,\n",
       " 'cache_image_0': StrictRedis<ConnectionPool<Connection<host=127.0.0.1,port=6379,db=20>>>,\n",
       " 'cache_image_1': StrictRedis<ConnectionPool<Connection<host=127.0.0.1,port=6379,db=21>>>,\n",
       " 'cache_image_2': StrictRedis<ConnectionPool<Connection<host=127.0.0.1,port=6379,db=22>>>,\n",
       " 'cache_image_3': StrictRedis<ConnectionPool<Connection<host=127.0.0.1,port=6379,db=23>>>,\n",
       " 'cache_image_4': StrictRedis<ConnectionPool<Connection<host=127.0.0.1,port=6379,db=24>>>,\n",
       " 'cache_image_5': StrictRedis<ConnectionPool<Connection<host=127.0.0.1,port=6379,db=25>>>,\n",
       " 'cache_image_6': StrictRedis<ConnectionPool<Connection<host=127.0.0.1,port=6379,db=26>>>,\n",
       " 'cache_image_7': StrictRedis<ConnectionPool<Connection<host=127.0.0.1,port=6379,db=27>>>,\n",
       " 'cache_image_8': StrictRedis<ConnectionPool<Connection<host=127.0.0.1,port=6379,db=28>>>,\n",
       " 'cache_image_9': StrictRedis<ConnectionPool<Connection<host=127.0.0.1,port=6379,db=29>>>}"
      ]
     },
     "execution_count": 4,
     "metadata": {},
     "output_type": "execute_result"
    }
   ],
   "source": [
    "databases = MediaIndexer.redis_utils.load_databases(\"../cfg_local.ini\")\n",
    "databases"
   ]
  },
  {
   "cell_type": "code",
   "execution_count": 5,
   "metadata": {},
   "outputs": [],
   "source": [
    "import glob\n",
    "test_images = glob.glob(\"/tmp/darknet/data/*.jpg\")\n",
    "for image in test_images:\n",
    "    break"
   ]
  },
  {
   "cell_type": "code",
   "execution_count": 6,
   "metadata": {},
   "outputs": [
    {
     "name": "stdout",
     "output_type": "stream",
     "text": [
      "[X] hash : /tmp/darknet/data/giraffe.jpg\n",
      "[X] EXIF : /tmp/darknet/data/giraffe.jpg\n"
     ]
    },
    {
     "data": {
      "text/plain": [
       "{'SourceFile': '/tmp/darknet/data/giraffe.jpg',\n",
       " 'ExifTool:ExifToolVersion': 10.8,\n",
       " 'File:FileName': 'giraffe.jpg',\n",
       " 'File:Directory': '/tmp/darknet/data',\n",
       " 'File:FileSize': 382965,\n",
       " 'File:FileModifyDate': '2018:10:12 03:50:00-04:00',\n",
       " 'File:FileAccessDate': '2018:10:12 03:50:11-04:00',\n",
       " 'File:FileInodeChangeDate': '2018:10:12 03:50:00-04:00',\n",
       " 'File:FilePermissions': 664,\n",
       " 'File:FileType': 'JPEG',\n",
       " 'File:FileTypeExtension': 'JPG',\n",
       " 'File:MIMEType': 'image/jpeg',\n",
       " 'File:ImageWidth': 500,\n",
       " 'File:ImageHeight': 500,\n",
       " 'File:EncodingProcess': 0,\n",
       " 'File:BitsPerSample': 8,\n",
       " 'File:ColorComponents': 3,\n",
       " 'File:YCbCrSubSampling': '1 1',\n",
       " 'JFIF:JFIFVersion': '1 1',\n",
       " 'JFIF:ResolutionUnit': 1,\n",
       " 'JFIF:XResolution': 300,\n",
       " 'JFIF:YResolution': 300,\n",
       " 'ICC_Profile:ProfileCMMType': 'Lino',\n",
       " 'ICC_Profile:ProfileVersion': 528,\n",
       " 'ICC_Profile:ProfileClass': 'mntr',\n",
       " 'ICC_Profile:ColorSpaceData': 'RGB ',\n",
       " 'ICC_Profile:ProfileConnectionSpace': 'XYZ ',\n",
       " 'ICC_Profile:ProfileDateTime': '1998:02:09 06:49:00',\n",
       " 'ICC_Profile:ProfileFileSignature': 'acsp',\n",
       " 'ICC_Profile:PrimaryPlatform': 'MSFT',\n",
       " 'ICC_Profile:CMMFlags': 0,\n",
       " 'ICC_Profile:DeviceManufacturer': 'IEC ',\n",
       " 'ICC_Profile:DeviceModel': 'sRGB',\n",
       " 'ICC_Profile:DeviceAttributes': '0 0',\n",
       " 'ICC_Profile:RenderingIntent': 0,\n",
       " 'ICC_Profile:ConnectionSpaceIlluminant': '0.9642 1 0.82491',\n",
       " 'ICC_Profile:ProfileCreator': 'HP  ',\n",
       " 'ICC_Profile:ProfileID': '0 0 0 0 0 0 0 0 0 0 0 0 0 0 0 0',\n",
       " 'ICC_Profile:ProfileCopyright': 'Copyright (c) 1998 Hewlett-Packard Company',\n",
       " 'ICC_Profile:ProfileDescription': 'sRGB IEC61966-2.1',\n",
       " 'ICC_Profile:MediaWhitePoint': '0.95045 1 1.08905',\n",
       " 'ICC_Profile:MediaBlackPoint': '0 0 0',\n",
       " 'ICC_Profile:RedMatrixColumn': '0.43607 0.22249 0.01392',\n",
       " 'ICC_Profile:GreenMatrixColumn': '0.38515 0.71687 0.09708',\n",
       " 'ICC_Profile:BlueMatrixColumn': '0.14307 0.06061 0.7141',\n",
       " 'ICC_Profile:DeviceMfgDesc': 'IEC http://www.iec.ch',\n",
       " 'ICC_Profile:DeviceModelDesc': 'IEC 61966-2.1 Default RGB colour space - sRGB',\n",
       " 'ICC_Profile:ViewingCondDesc': 'Reference Viewing Condition in IEC61966-2.1',\n",
       " 'ICC_Profile:ViewingCondIlluminant': '19.6445 20.3718 16.8089',\n",
       " 'ICC_Profile:ViewingCondSurround': '3.92889 4.07439 3.36179',\n",
       " 'ICC_Profile:ViewingCondIlluminantType': 1,\n",
       " 'ICC_Profile:Luminance': '76.03647 80 87.12462',\n",
       " 'ICC_Profile:MeasurementObserver': 1,\n",
       " 'ICC_Profile:MeasurementBacking': '0 0 0',\n",
       " 'ICC_Profile:MeasurementGeometry': 0,\n",
       " 'ICC_Profile:MeasurementFlare': 0.00999,\n",
       " 'ICC_Profile:MeasurementIlluminant': 2,\n",
       " 'ICC_Profile:Technology': 'CRT ',\n",
       " 'ICC_Profile:RedTRC': '(Binary data 2060 bytes, use -b option to extract)',\n",
       " 'ICC_Profile:GreenTRC': '(Binary data 2060 bytes, use -b option to extract)',\n",
       " 'ICC_Profile:BlueTRC': '(Binary data 2060 bytes, use -b option to extract)',\n",
       " 'Composite:ImageSize': '500x500',\n",
       " 'Composite:Megapixels': 0.25}"
      ]
     },
     "execution_count": 6,
     "metadata": {},
     "output_type": "execute_result"
    }
   ],
   "source": [
    "MediaIndexer.redis_cache._get_exif(file_path=image, databases=databases)"
   ]
  },
  {
   "cell_type": "code",
   "execution_count": 7,
   "metadata": {},
   "outputs": [
    {
     "name": "stdout",
     "output_type": "stream",
     "text": [
      "[X] hash : /tmp/darknet/data/giraffe.jpg\n",
      "** KWARGS DEBUG\n",
      "**\n"
     ]
    },
    {
     "ename": "AssertionError",
     "evalue": "cache_image_128x128",
     "output_type": "error",
     "traceback": [
      "\u001b[0;31m---------------------------------------------------------------------------\u001b[0m",
      "\u001b[0;31mAssertionError\u001b[0m                            Traceback (most recent call last)",
      "\u001b[0;32m<ipython-input-7-ef41f27654f8>\u001b[0m in \u001b[0;36m<module>\u001b[0;34m\u001b[0m\n\u001b[0;32m----> 1\u001b[0;31m \u001b[0mMediaIndexer\u001b[0m\u001b[0;34m.\u001b[0m\u001b[0mredis_cache\u001b[0m\u001b[0;34m.\u001b[0m\u001b[0m_get_thumbnail\u001b[0m\u001b[0;34m(\u001b[0m\u001b[0mfile_path\u001b[0m\u001b[0;34m=\u001b[0m\u001b[0mimage\u001b[0m\u001b[0;34m,\u001b[0m \u001b[0mdatabases\u001b[0m\u001b[0;34m=\u001b[0m\u001b[0mdatabases\u001b[0m\u001b[0;34m)\u001b[0m\u001b[0;34m\u001b[0m\u001b[0m\n\u001b[0m",
      "\u001b[0;32m/projects/python_PhotoIndexer/MediaIndex/MediaIndexer/redis_cache.py\u001b[0m in \u001b[0;36mwrapper\u001b[0;34m(*args, **kwargs)\u001b[0m\n\u001b[1;32m     38\u001b[0m             \u001b[0mkwargs\u001b[0m\u001b[0;34m[\u001b[0m\u001b[0;34m\"file_hash\"\u001b[0m\u001b[0;34m]\u001b[0m \u001b[0;34m=\u001b[0m \u001b[0mfile_hash\u001b[0m\u001b[0;34m\u001b[0m\u001b[0m\n\u001b[1;32m     39\u001b[0m \u001b[0;34m\u001b[0m\u001b[0m\n\u001b[0;32m---> 40\u001b[0;31m         \u001b[0;32mreturn\u001b[0m \u001b[0mf\u001b[0m\u001b[0;34m(\u001b[0m\u001b[0;34m*\u001b[0m\u001b[0margs\u001b[0m\u001b[0;34m,\u001b[0m \u001b[0;34m**\u001b[0m\u001b[0mkwargs\u001b[0m\u001b[0;34m)\u001b[0m\u001b[0;34m\u001b[0m\u001b[0m\n\u001b[0m\u001b[1;32m     41\u001b[0m     \u001b[0;32mreturn\u001b[0m \u001b[0mwrapper\u001b[0m\u001b[0;34m\u001b[0m\u001b[0m\n\u001b[1;32m     42\u001b[0m \u001b[0;34m\u001b[0m\u001b[0m\n",
      "\u001b[0;32m/projects/python_PhotoIndexer/MediaIndex/MediaIndexer/redis_cache.py\u001b[0m in \u001b[0;36m_get_thumbnail\u001b[0;34m(file_path, file_hash, databases, size, **kwargs)\u001b[0m\n\u001b[1;32m     66\u001b[0m     \u001b[0mprint\u001b[0m\u001b[0;34m(\u001b[0m\u001b[0;34m\"**\"\u001b[0m\u001b[0;34m)\u001b[0m\u001b[0;34m\u001b[0m\u001b[0m\n\u001b[1;32m     67\u001b[0m     \u001b[0mdb_name\u001b[0m \u001b[0;34m=\u001b[0m \u001b[0;34m\"cache_image_{size}x{size}\"\u001b[0m\u001b[0;34m.\u001b[0m\u001b[0mformat\u001b[0m\u001b[0;34m(\u001b[0m\u001b[0msize\u001b[0m\u001b[0;34m=\u001b[0m\u001b[0msize\u001b[0m\u001b[0;34m)\u001b[0m\u001b[0;34m\u001b[0m\u001b[0m\n\u001b[0;32m---> 68\u001b[0;31m     \u001b[0;32massert\u001b[0m \u001b[0mdb_name\u001b[0m \u001b[0;32min\u001b[0m \u001b[0mdatabases\u001b[0m\u001b[0;34m,\u001b[0m \u001b[0mdb_name\u001b[0m\u001b[0;34m\u001b[0m\u001b[0m\n\u001b[0m\u001b[1;32m     69\u001b[0m     \u001b[0mdb\u001b[0m \u001b[0;34m=\u001b[0m \u001b[0mdatabases\u001b[0m\u001b[0;34m[\u001b[0m\u001b[0mdb_name\u001b[0m\u001b[0;34m]\u001b[0m\u001b[0;34m\u001b[0m\u001b[0m\n\u001b[1;32m     70\u001b[0m     \u001b[0;32mif\u001b[0m \u001b[0mdb\u001b[0m\u001b[0;34m.\u001b[0m\u001b[0mexists\u001b[0m\u001b[0;34m(\u001b[0m\u001b[0mfile_hash\u001b[0m\u001b[0;34m)\u001b[0m\u001b[0;34m:\u001b[0m\u001b[0;34m\u001b[0m\u001b[0m\n",
      "\u001b[0;31mAssertionError\u001b[0m: cache_image_128x128"
     ]
    }
   ],
   "source": [
    "MediaIndexer.redis_cache._get_thumbnail(file_path=image, databases=databases)"
   ]
  },
  {
   "cell_type": "code",
   "execution_count": null,
   "metadata": {},
   "outputs": [],
   "source": []
  }
 ],
 "metadata": {
  "kernelspec": {
   "display_name": "Python 3",
   "language": "python",
   "name": "python3"
  },
  "language_info": {
   "codemirror_mode": {
    "name": "ipython",
    "version": 3
   },
   "file_extension": ".py",
   "mimetype": "text/x-python",
   "name": "python",
   "nbconvert_exporter": "python",
   "pygments_lexer": "ipython3",
   "version": "3.6.6"
  }
 },
 "nbformat": 4,
 "nbformat_minor": 2
}
