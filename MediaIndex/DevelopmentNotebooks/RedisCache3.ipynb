{
 "cells": [
  {
   "cell_type": "code",
   "execution_count": 1,
   "metadata": {},
   "outputs": [],
   "source": [
    "import MediaIndexer.redis_cache"
   ]
  },
  {
   "cell_type": "code",
   "execution_count": 2,
   "metadata": {},
   "outputs": [],
   "source": [
    "import MediaIndexer.redis_utils"
   ]
  },
  {
   "cell_type": "code",
   "execution_count": 5,
   "metadata": {},
   "outputs": [
    {
     "data": {
      "text/plain": [
       "{'rq': StrictRedis<ConnectionPool<Connection<host=127.0.0.1,port=6379,db=0>>>,\n",
       " 'rq_thumb': StrictRedis<ConnectionPool<Connection<host=127.0.0.1,port=6379,db=1>>>,\n",
       " 'rq_cache': StrictRedis<ConnectionPool<Connection<host=127.0.0.1,port=6379,db=2>>>,\n",
       " 'cache_xxhash': StrictRedis<ConnectionPool<Connection<host=127.0.0.1,port=6379,db=10>>>,\n",
       " 'cache_xxhash_': StrictRedis<ConnectionPool<Connection<host=127.0.0.1,port=6379,db=11>>>,\n",
       " 'cache_exif': StrictRedis<ConnectionPool<Connection<host=127.0.0.1,port=6379,db=12>>>,\n",
       " 'cache_sha512': StrictRedis<ConnectionPool<Connection<host=127.0.0.1,port=6379,db=13>>>,\n",
       " 'cache_sha512_': StrictRedis<ConnectionPool<Connection<host=127.0.0.1,port=6379,db=13>>>,\n",
       " 'cache_image_0': StrictRedis<ConnectionPool<Connection<host=127.0.0.1,port=6379,db=20>>>,\n",
       " 'cache_image_1': StrictRedis<ConnectionPool<Connection<host=127.0.0.1,port=6379,db=21>>>,\n",
       " 'cache_image_2': StrictRedis<ConnectionPool<Connection<host=127.0.0.1,port=6379,db=22>>>,\n",
       " 'cache_image_3': StrictRedis<ConnectionPool<Connection<host=127.0.0.1,port=6379,db=23>>>,\n",
       " 'cache_image_4': StrictRedis<ConnectionPool<Connection<host=127.0.0.1,port=6379,db=24>>>,\n",
       " 'cache_image_5': StrictRedis<ConnectionPool<Connection<host=127.0.0.1,port=6379,db=25>>>,\n",
       " 'cache_image_6': StrictRedis<ConnectionPool<Connection<host=127.0.0.1,port=6379,db=26>>>,\n",
       " 'cache_image_7': StrictRedis<ConnectionPool<Connection<host=127.0.0.1,port=6379,db=27>>>,\n",
       " 'cache_image_8': StrictRedis<ConnectionPool<Connection<host=127.0.0.1,port=6379,db=28>>>,\n",
       " 'cache_image_9': StrictRedis<ConnectionPool<Connection<host=127.0.0.1,port=6379,db=29>>>}"
      ]
     },
     "execution_count": 5,
     "metadata": {},
     "output_type": "execute_result"
    }
   ],
   "source": [
    "databases = MediaIndexer.redis_utils.load_databases(\"../cfg_local.ini\")\n",
    "databases"
   ]
  },
  {
   "cell_type": "code",
   "execution_count": 6,
   "metadata": {},
   "outputs": [
    {
     "ename": "SyntaxError",
     "evalue": "invalid syntax (<ipython-input-6-8a44fad88329>, line 3)",
     "output_type": "error",
     "traceback": [
      "\u001b[0;36m  File \u001b[0;32m\"<ipython-input-6-8a44fad88329>\"\u001b[0;36m, line \u001b[0;32m3\u001b[0m\n\u001b[0;31m    for image in test_images\u001b[0m\n\u001b[0m                            ^\u001b[0m\n\u001b[0;31mSyntaxError\u001b[0m\u001b[0;31m:\u001b[0m invalid syntax\n"
     ]
    }
   ],
   "source": [
    "import glob\n",
    "test_images = glob.glob(\"/tmp/darknet/data/*.jpg\")\n",
    "for image in test_images:\n",
    "    break"
   ]
  },
  {
   "cell_type": "code",
   "execution_count": null,
   "metadata": {},
   "outputs": [],
   "source": []
  }
 ],
 "metadata": {
  "kernelspec": {
   "display_name": "Python 3",
   "language": "python",
   "name": "python3"
  },
  "language_info": {
   "codemirror_mode": {
    "name": "ipython",
    "version": 3
   },
   "file_extension": ".py",
   "mimetype": "text/x-python",
   "name": "python",
   "nbconvert_exporter": "python",
   "pygments_lexer": "ipython3",
   "version": "3.6.6"
  }
 },
 "nbformat": 4,
 "nbformat_minor": 2
}
