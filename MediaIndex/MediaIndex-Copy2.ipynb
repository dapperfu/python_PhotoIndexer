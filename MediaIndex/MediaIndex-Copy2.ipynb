{
 "cells": [
  {
   "cell_type": "code",
   "execution_count": 15,
   "metadata": {},
   "outputs": [],
   "source": [
    "import pony.orm as orm\n",
    "import os\n",
    "import json"
   ]
  },
  {
   "cell_type": "code",
   "execution_count": 16,
   "metadata": {},
   "outputs": [],
   "source": [
    "database=\"media.sqlite\""
   ]
  },
  {
   "cell_type": "code",
   "execution_count": 17,
   "metadata": {},
   "outputs": [],
   "source": [
    "if os.path.exists(database):\n",
    "    os.unlink(database)"
   ]
  },
  {
   "cell_type": "code",
   "execution_count": 18,
   "metadata": {},
   "outputs": [],
   "source": [
    "def get_xxhash(fname):\n",
    "    hash64 = xxhash.xxh64()\n",
    "    with open(fname, \"rb\") as f:\n",
    "        for chunk in iter(lambda: f.read(4096), b\"\"):\n",
    "            hash64.update(chunk)\n",
    "    return hash64.hexdigest()"
   ]
  },
  {
   "cell_type": "code",
   "execution_count": 19,
   "metadata": {},
   "outputs": [],
   "source": [
    "# Database of receipts.\n",
    "filename = os.path.abspath(database)\n",
    "db = orm.Database(\n",
    "    provider='sqlite',\n",
    "    filename=filename,\n",
    "    create_db=True,\n",
    ")\n",
    "class Media(db.Entity):\n",
    "    xxhash = orm.Required(str)\n",
    "    size   = orm.Required(int)\n",
    "    exif = orm.Required(str)\n",
    "\n",
    "class MediaPath(db.Ent):\n",
    "    \n",
    "    \n",
    "db.generate_mapping(create_tables=True)"
   ]
  },
  {
   "cell_type": "code",
   "execution_count": 20,
   "metadata": {},
   "outputs": [],
   "source": [
    "import os \n",
    "import exiftool\n",
    "import get_files\n",
    "import xxhash\n",
    "import py.path\n",
    "import_dir = \"/pictures/2018-03-02T16:00:01-05:00/DCIM\""
   ]
  },
  {
   "cell_type": "code",
   "execution_count": 21,
   "metadata": {},
   "outputs": [],
   "source": [
    "IMAGE_EXT = [\".cr2\", \".dng\", \".jpg\"]\n",
    "VIDEO_EXT = [\".mp4\"]"
   ]
  },
  {
   "cell_type": "code",
   "execution_count": 22,
   "metadata": {},
   "outputs": [],
   "source": [
    "et = exiftool.ExifTool()\n",
    "et.start()"
   ]
  },
  {
   "cell_type": "code",
   "execution_count": 23,
   "metadata": {},
   "outputs": [],
   "source": [
    "media_files = get_files.get_files(import_dir, decorate=py.path.local)\n",
    "for media_file in media_files:\n",
    "    if media_file.ext.lower() in IMAGE_EXT:\n",
    "        EXIF = et.get_metadata(str(media_file))\n",
    "        Media(\n",
    "            path = str(media_file),\n",
    "            exif = json.dumps(EXIF),\n",
    "            xxhash = str(media_file),\n",
    "            size   = media_file.size(),\n",
    "        )\n",
    "        db.commit()"
   ]
  }
 ],
 "metadata": {
  "kernelspec": {
   "display_name": "Python 3",
   "language": "python",
   "name": "python3"
  },
  "language_info": {
   "codemirror_mode": {
    "name": "ipython",
    "version": 3
   },
   "file_extension": ".py",
   "mimetype": "text/x-python",
   "name": "python",
   "nbconvert_exporter": "python",
   "pygments_lexer": "ipython3",
   "version": "3.5.2"
  }
 },
 "nbformat": 4,
 "nbformat_minor": 2
}
