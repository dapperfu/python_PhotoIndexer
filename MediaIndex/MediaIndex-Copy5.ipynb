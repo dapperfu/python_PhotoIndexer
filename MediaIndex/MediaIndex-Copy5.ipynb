{
 "cells": [
  {
   "cell_type": "code",
   "execution_count": null,
   "metadata": {},
   "outputs": [],
   "source": [
    "from pony.orm import *\n",
    "import os\n",
    "import json"
   ]
  },
  {
   "cell_type": "code",
   "execution_count": null,
   "metadata": {},
   "outputs": [],
   "source": [
    "from utils import get_xxhash"
   ]
  },
  {
   "cell_type": "code",
   "execution_count": null,
   "metadata": {},
   "outputs": [],
   "source": [
    "db.drop_all_tables(with_all_data=True)"
   ]
  },
  {
   "cell_type": "code",
   "execution_count": null,
   "metadata": {},
   "outputs": [],
   "source": [
    "db = Database(provider=\"mysql\",\n",
    "                 host=\"172.16.0.73\",\n",
    "                 user=\"media\",\n",
    "                 passwd=\"aterinee\",\n",
    "                 db=\"media\")\n",
    "\n",
    "class Media(db.Entity):\n",
    "    xxhash = Required(str, unique=True)\n",
    "    size = Required(float)\n",
    "    exif = Optional(LongStr, lazy=True)\n",
    "    _table_options_ = {\n",
    "        'ENGINE': 'InnoDB',\n",
    "        'ENCRYPTION': \"'N'\",\n",
    "        'AUTO_INCREMENT': 10\n",
    "    }\n",
    "db.generate_mapping(create_tables=True)"
   ]
  },
  {
   "cell_type": "code",
   "execution_count": null,
   "metadata": {},
   "outputs": [],
   "source": [
    "import os \n",
    "import exiftool\n",
    "import get_files\n",
    "import xxhash\n",
    "import py.path\n",
    "import_dir = \"/pictures\""
   ]
  },
  {
   "cell_type": "code",
   "execution_count": null,
   "metadata": {},
   "outputs": [],
   "source": [
    "IMAGE_EXT = [\".cr2\", \".dng\", \".jpg\"]\n",
    "VIDEO_EXT = [\".mp4\"]"
   ]
  },
  {
   "cell_type": "code",
   "execution_count": null,
   "metadata": {},
   "outputs": [],
   "source": [
    "et = exiftool.ExifTool()\n",
    "et.start()"
   ]
  },
  {
   "cell_type": "code",
   "execution_count": null,
   "metadata": {},
   "outputs": [],
   "source": [
    "media_files = get_files.get_files(import_dir, decorate=py.path.local)\n",
    "for media_file in media_files:\n",
    "    try:\n",
    "        EXIF = et.get_metadata(str(media_file))\n",
    "        m = Media(\n",
    "            xxhash=str(media_file),\n",
    "            size=media_file.size(),\n",
    "            exif=json.dumps(EXIF)\n",
    "        )\n",
    "    \n",
    "        db.commit()\n",
    "    except CacheIndexError:\n",
    "        db.flush()"
   ]
  },
  {
   "cell_type": "code",
   "execution_count": null,
   "metadata": {},
   "outputs": [],
   "source": [
    "import redis\n",
    "import rq\n",
    "import configparser\n",
    "import utils\n",
    "\n",
    "config = configparser.ConfigParser()\n",
    "config.read('config.ini')\n",
    "\n",
    "exif_cache = redis.StrictRedis(\n",
    "    host=config[\"redis\"][\"host\"],\n",
    "    port=config[\"redis\"][\"port\"],\n",
    "    db=2,\n",
    ")\n",
    "hash_cache = redis.StrictRedis(\n",
    "    host=config[\"redis\"][\"host\"],\n",
    "    port=config[\"redis\"][\"port\"],\n",
    "    db=3,\n",
    ")\n",
    "\n",
    "for media_file in media_files:\n",
    "    break\n",
    "    "
   ]
  },
  {
   "cell_type": "code",
   "execution_count": null,
   "metadata": {},
   "outputs": [],
   "source": [
    "for media_file in media_files:\n",
    "    xxhash = utils.get_xxhash(str(media_file))\n",
    "    if hash_cache.get(str(media_file)) is None:\n",
    "        hash_cache.set(str(media_file), xxhash)\n",
    "    if exif_cache.get(xxhash) is None:\n",
    "        EXIF = et.get_metadata(str(media_file))\n",
    "        exif_cache.set(xxhash, json.dumps(EXIF))"
   ]
  },
  {
   "cell_type": "code",
   "execution_count": null,
   "metadata": {},
   "outputs": [],
   "source": [
    "media_files = get_files.get_files(import_dir, decorate=py.path.local)\n",
    "for media_file in media_files:\n",
    "    xxhash_ =hash_cache.get(str(media_file))\n",
    "    if xxhash_ is None:\n",
    "        print(\"\\n\")\n",
    "        xxhash = utils.get_xxhash(str(media_file))\n",
    "        hash_cache.set(str(media_file), xxhash)\n",
    "    else:\n",
    "        print(\".\")\n",
    "        xxhash=xxhash_.decode(\"UTF-8\")\n",
    "\n",
    "    if Media.exists(xxhash=xxhash):\n",
    "        continue\n",
    "\n",
    "    EXIF_ = exif_cache.get(xxhash)\n",
    "    if EXIF_ is None:\n",
    "        print(\"\\n\")\n",
    "        EXIF = et.get_metadata(str(media_file))\n",
    "        \n",
    "        hash_cache.set(str(media_file), xxhash)\n",
    "    else:\n",
    "        print(\".\")\n",
    "        EXIF=json.loEXIF_.decode(\"UTF-8\")\n",
    "\n",
    "    m = Media(\n",
    "        xxhash=xxhash,\n",
    "        size=media_file.size(),\n",
    "        exif=json.dumps(EXIF),\n",
    "    )\n",
    "\n",
    "    db.commit()"
   ]
  },
  {
   "cell_type": "code",
   "execution_count": null,
   "metadata": {},
   "outputs": [],
   "source": [
    "media_file"
   ]
  },
  {
   "cell_type": "code",
   "execution_count": null,
   "metadata": {},
   "outputs": [],
   "source": [
    "xxhash"
   ]
  },
  {
   "cell_type": "code",
   "execution_count": null,
   "metadata": {},
   "outputs": [],
   "source": [
    "!pip install cached_property"
   ]
  },
  {
   "cell_type": "code",
   "execution_count": null,
   "metadata": {},
   "outputs": [],
   "source": [
    "!echo cached_property >> requirements.txt"
   ]
  },
  {
   "cell_type": "code",
   "execution_count": null,
   "metadata": {},
   "outputs": [],
   "source": [
    "from cached_property import cached_property"
   ]
  },
  {
   "cell_type": "code",
   "execution_count": null,
   "metadata": {},
   "outputs": [],
   "source": [
    "from utils import get_xxhash"
   ]
  },
  {
   "cell_type": "code",
   "execution_count": null,
   "metadata": {},
   "outputs": [],
   "source": [
    "class MediaClass(object):\n",
    "    def __init__(self, path):\n",
    "        self.path=path\n",
    "        self.local=py.path.local(path)\n",
    "        \n",
    "    @cached_property\n",
    "    def xxhash(self):\n",
    "        return get_xxhash(str(self.path))\n",
    "    \n",
    "    \n",
    "        \n",
    "    def __repr__(self):\n",
    "        return \"{}<{}>\".format(self.__class__.__name__, self.path)"
   ]
  },
  {
   "cell_type": "code",
   "execution_count": null,
   "metadata": {},
   "outputs": [],
   "source": [
    "MediaClass(media_file)"
   ]
  },
  {
   "cell_type": "code",
   "execution_count": null,
   "metadata": {},
   "outputs": [],
   "source": [
    "MediaClass(media_file).xxhash"
   ]
  },
  {
   "cell_type": "code",
   "execution_count": null,
   "metadata": {},
   "outputs": [],
   "source": [
    "MediaClass(media_file).local.size()"
   ]
  },
  {
   "cell_type": "code",
   "execution_count": null,
   "metadata": {},
   "outputs": [],
   "source": [
    "import random"
   ]
  },
  {
   "cell_type": "code",
   "execution_count": null,
   "metadata": {},
   "outputs": [],
   "source": [
    "media_file = random.choice(list(media_files))"
   ]
  },
  {
   "cell_type": "code",
   "execution_count": null,
   "metadata": {},
   "outputs": [],
   "source": []
  }
 ],
 "metadata": {
  "kernelspec": {
   "display_name": "Python 3",
   "language": "python",
   "name": "python3"
  },
  "language_info": {
   "codemirror_mode": {
    "name": "ipython",
    "version": 3
   },
   "file_extension": ".py",
   "mimetype": "text/x-python",
   "name": "python",
   "nbconvert_exporter": "python",
   "pygments_lexer": "ipython3",
   "version": "3.5.2"
  }
 },
 "nbformat": 4,
 "nbformat_minor": 2
}
