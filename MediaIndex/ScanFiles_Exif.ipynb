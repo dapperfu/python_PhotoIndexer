{
 "cells": [
  {
   "cell_type": "code",
   "execution_count": 2,
   "metadata": {},
   "outputs": [],
   "source": [
    "import exifyay\n",
    "import exiftool\n",
    "import get_files"
   ]
  },
  {
   "cell_type": "code",
   "execution_count": 4,
   "metadata": {},
   "outputs": [],
   "source": [
    "SCAN_ROOT = \"/pictures/\"\n",
    "import_dirs = get_files.get_dirs(SCAN_ROOT)"
   ]
  },
  {
   "cell_type": "code",
   "execution_count": 6,
   "metadata": {},
   "outputs": [],
   "source": [
    "for import_dir in import_dirs:\n",
    "    break"
   ]
  },
  {
   "cell_type": "code",
   "execution_count": 7,
   "metadata": {},
   "outputs": [],
   "source": [
    "media_files = get_files.get_files(import_dir)"
   ]
  },
  {
   "cell_type": "code",
   "execution_count": 8,
   "metadata": {},
   "outputs": [],
   "source": [
    "for media_file in media_files:\n",
    "    break"
   ]
  },
  {
   "cell_type": "code",
   "execution_count": 9,
   "metadata": {},
   "outputs": [
    {
     "data": {
      "text/plain": [
       "'/pictures/2018-03-02T16:00:01-05:00/20170828_114942.mp4'"
      ]
     },
     "execution_count": 9,
     "metadata": {},
     "output_type": "execute_result"
    }
   ],
   "source": [
    "media_file"
   ]
  },
  {
   "cell_type": "code",
   "execution_count": 10,
   "metadata": {},
   "outputs": [],
   "source": [
    "with exiftool.ExifTool() as et:\n",
    "    metadata = et.get_metadata_batch([media_file])\n",
    "for d in metadata:\n",
    "    break"
   ]
  },
  {
   "cell_type": "code",
   "execution_count": 11,
   "metadata": {},
   "outputs": [
    {
     "data": {
      "text/plain": [
       "{'ExifTool:ExifToolVersion': 10.1,\n",
       " 'File:Directory': '/pictures/2018-03-02T16:00:01-05:00',\n",
       " 'File:FileAccessDate': '2018:03:02 16:57:38-05:00',\n",
       " 'File:FileInodeChangeDate': '2018:03:02 16:57:38-05:00',\n",
       " 'File:FileModifyDate': '2018:03:02 16:57:38-05:00',\n",
       " 'File:FileName': '20170828_114942.mp4',\n",
       " 'File:FilePermissions': 755,\n",
       " 'File:FileSize': 12845056,\n",
       " 'File:FileType': 'MP4',\n",
       " 'File:FileTypeExtension': 'MP4',\n",
       " 'File:MIMEType': 'video/mp4',\n",
       " 'QuickTime:CompatibleBrands': ['isom', 'mp42'],\n",
       " 'QuickTime:MajorBrand': 'mp42',\n",
       " 'QuickTime:MinorVersion': '0.0.0',\n",
       " 'QuickTime:MovieDataOffset': 32,\n",
       " 'QuickTime:MovieDataSize': 29206747,\n",
       " 'SourceFile': '/pictures/2018-03-02T16:00:01-05:00/20170828_114942.mp4'}"
      ]
     },
     "execution_count": 11,
     "metadata": {},
     "output_type": "execute_result"
    }
   ],
   "source": [
    "d"
   ]
  },
  {
   "cell_type": "code",
   "execution_count": null,
   "metadata": {},
   "outputs": [],
   "source": []
  }
 ],
 "metadata": {
  "kernelspec": {
   "display_name": "Python 3",
   "language": "python",
   "name": "python3"
  },
  "language_info": {
   "codemirror_mode": {
    "name": "ipython",
    "version": 3
   },
   "file_extension": ".py",
   "mimetype": "text/x-python",
   "name": "python",
   "nbconvert_exporter": "python",
   "pygments_lexer": "ipython3",
   "version": "3.5.2"
  }
 },
 "nbformat": 4,
 "nbformat_minor": 2
}
