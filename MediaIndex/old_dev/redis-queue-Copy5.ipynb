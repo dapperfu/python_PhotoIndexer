{
 "cells": [
  {
   "cell_type": "code",
   "execution_count": 1,
   "metadata": {},
   "outputs": [],
   "source": [
    "import xxhash\n",
    "import exiftool\n",
    "import configparser\n",
    "import redis\n",
    "import json\n",
    "import get_files\n",
    "import utils\n",
    "import rq\n",
    "\n",
    "config = configparser.ConfigParser()\n",
    "config.read('config.ini')\n",
    "r = redis.StrictRedis(\n",
    "    host=config[\"redis\"][\"host\"],\n",
    "    port=config[\"redis\"][\"port\"],\n",
    "    db=config[\"redis\"][\"rq\"],\n",
    ")\n",
    "q = rq.Queue(connection=r)"
   ]
  },
  {
   "cell_type": "code",
   "execution_count": null,
   "metadata": {},
   "outputs": [],
   "source": []
  }
 ],
 "metadata": {
  "kernelspec": {
   "display_name": "Python 3",
   "language": "python",
   "name": "python3"
  },
  "language_info": {
   "codemirror_mode": {
    "name": "ipython",
    "version": 3
   },
   "file_extension": ".py",
   "mimetype": "text/x-python",
   "name": "python",
   "nbconvert_exporter": "python",
   "pygments_lexer": "ipython3",
   "version": "3.6.5"
  }
 },
 "nbformat": 4,
 "nbformat_minor": 2
}
