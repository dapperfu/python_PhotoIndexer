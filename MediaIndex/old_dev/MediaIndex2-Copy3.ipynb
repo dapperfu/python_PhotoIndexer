{
 "cells": [
  {
   "cell_type": "code",
   "execution_count": 5,
   "metadata": {},
   "outputs": [],
   "source": [
    "import get_files\n",
    "from datetime import datetime\n",
    "from pony.orm import *"
   ]
  },
  {
   "cell_type": "code",
   "execution_count": 2,
   "metadata": {},
   "outputs": [],
   "source": [
    "import os"
   ]
  },
  {
   "cell_type": "code",
   "execution_count": null,
   "metadata": {},
   "outputs": [],
   "source": [
    "config = configparser.ConfigParser()\n",
    "config.read('config.ini')"
   ]
  },
  {
   "cell_type": "code",
   "execution_count": 3,
   "metadata": {
    "scrolled": true
   },
   "outputs": [],
   "source": [
    "db = Database(provider=\"mysql\",\n",
    "                 host=os.environ.get(\"MYSQL_HOST\"),\n",
    "                 user=os.environ.get(\"MYSQL_USER\"),\n",
    "                 passwd=os.environ.get(\"MYSQL_PASS\"),\n",
    "                 db=os.environ.get(\"MYSQL_DB\"))\n",
    "db.generate_mapping()\n",
    "db.drop_all_tables()"
   ]
  },
  {
   "cell_type": "code",
   "execution_count": 4,
   "metadata": {},
   "outputs": [],
   "source": [
    "db = Database(provider=\"mysql\",\n",
    "                 host=os.environ.get(\"MYSQL_HOST\"),\n",
    "                 user=os.environ.get(\"MYSQL_USER\"),\n",
    "                 passwd=os.environ.get(\"MYSQL_PASS\"),\n",
    "                 db=os.environ.get(\"MYSQL_DB\"))\n",
    "\n",
    "class Media(db.Entity):\n",
    "    id = PrimaryKey(int, auto=True)\n",
    "    xxhash = Required(str, 16, unique=True)\n",
    "    size = Optional(float)\n",
    "    exif = Optional(Json)\n",
    "\n",
    "db.generate_mapping(create_tables=True)"
   ]
  },
  {
   "cell_type": "code",
   "execution_count": 6,
   "metadata": {},
   "outputs": [],
   "source": [
    "files = get_files.get_files(\"/pictures/\")"
   ]
  },
  {
   "cell_type": "code",
   "execution_count": 7,
   "metadata": {
    "scrolled": true
   },
   "outputs": [],
   "source": [
    "for file in files:\n",
    "    break"
   ]
  },
  {
   "cell_type": "code",
   "execution_count": 8,
   "metadata": {},
   "outputs": [
    {
     "data": {
      "text/plain": [
       "'/pictures/2018-03-02T16_00_01-05_00/20170828_114942.mp4'"
      ]
     },
     "execution_count": 8,
     "metadata": {},
     "output_type": "execute_result"
    }
   ],
   "source": [
    "file"
   ]
  },
  {
   "cell_type": "code",
   "execution_count": 9,
   "metadata": {},
   "outputs": [],
   "source": [
    "import utils"
   ]
  },
  {
   "cell_type": "code",
   "execution_count": 10,
   "metadata": {},
   "outputs": [],
   "source": [
    "XXHASH=utils.get_xxhash(file)"
   ]
  },
  {
   "cell_type": "code",
   "execution_count": 11,
   "metadata": {},
   "outputs": [
    {
     "data": {
      "text/plain": [
       "'98451ade525cd544'"
      ]
     },
     "execution_count": 11,
     "metadata": {},
     "output_type": "execute_result"
    }
   ],
   "source": [
    "XXHASH"
   ]
  },
  {
   "cell_type": "code",
   "execution_count": 12,
   "metadata": {},
   "outputs": [],
   "source": [
    "SIZE=os.stat(file).st_size/1024 ** 2"
   ]
  },
  {
   "cell_type": "code",
   "execution_count": 13,
   "metadata": {},
   "outputs": [
    {
     "data": {
      "text/plain": [
       "12.25"
      ]
     },
     "execution_count": 13,
     "metadata": {},
     "output_type": "execute_result"
    }
   ],
   "source": [
    "SIZE"
   ]
  },
  {
   "cell_type": "code",
   "execution_count": 14,
   "metadata": {},
   "outputs": [],
   "source": [
    "import exiftool\n",
    "et = exiftool.ExifTool()\n",
    "et.start()"
   ]
  },
  {
   "cell_type": "code",
   "execution_count": 15,
   "metadata": {},
   "outputs": [],
   "source": [
    "EXIF = et.get_metadata(str(file))"
   ]
  },
  {
   "cell_type": "code",
   "execution_count": 16,
   "metadata": {},
   "outputs": [],
   "source": [
    "import json"
   ]
  },
  {
   "cell_type": "code",
   "execution_count": 17,
   "metadata": {},
   "outputs": [
    {
     "data": {
      "text/plain": [
       "{'ExifTool:ExifToolVersion': 10.1,\n",
       " 'File:Directory': '/pictures/2018-03-02T16_00_01-05_00',\n",
       " 'File:FileAccessDate': '2018:05:02 01:58:12-04:00',\n",
       " 'File:FileInodeChangeDate': '2018:05:02 01:45:01-04:00',\n",
       " 'File:FileModifyDate': '2018:03:02 16:57:38-05:00',\n",
       " 'File:FileName': '20170828_114942.mp4',\n",
       " 'File:FilePermissions': 755,\n",
       " 'File:FileSize': 12845056,\n",
       " 'File:FileType': 'MP4',\n",
       " 'File:FileTypeExtension': 'MP4',\n",
       " 'File:MIMEType': 'video/mp4',\n",
       " 'QuickTime:CompatibleBrands': ['isom', 'mp42'],\n",
       " 'QuickTime:MajorBrand': 'mp42',\n",
       " 'QuickTime:MinorVersion': '0.0.0',\n",
       " 'QuickTime:MovieDataOffset': 32,\n",
       " 'QuickTime:MovieDataSize': 29206747,\n",
       " 'SourceFile': '/pictures/2018-03-02T16_00_01-05_00/20170828_114942.mp4'}"
      ]
     },
     "execution_count": 17,
     "metadata": {},
     "output_type": "execute_result"
    }
   ],
   "source": [
    "EXIF"
   ]
  },
  {
   "cell_type": "code",
   "execution_count": 18,
   "metadata": {},
   "outputs": [
    {
     "data": {
      "text/plain": [
       "'{\"SourceFile\": \"/pictures/2018-03-02T16_00_01-05_00/20170828_114942.mp4\", \"QuickTime:CompatibleBrands\": [\"isom\", \"mp42\"], \"File:MIMEType\": \"video/mp4\", \"File:Directory\": \"/pictures/2018-03-02T16_00_01-05_00\", \"ExifTool:ExifToolVersion\": 10.1, \"QuickTime:MinorVersion\": \"0.0.0\", \"File:FileInodeChangeDate\": \"2018:05:02 01:45:01-04:00\", \"File:FileSize\": 12845056, \"QuickTime:MajorBrand\": \"mp42\", \"File:FileName\": \"20170828_114942.mp4\", \"File:FileType\": \"MP4\", \"File:FileTypeExtension\": \"MP4\", \"File:FilePermissions\": 755, \"File:FileModifyDate\": \"2018:03:02 16:57:38-05:00\", \"QuickTime:MovieDataOffset\": 32, \"QuickTime:MovieDataSize\": 29206747, \"File:FileAccessDate\": \"2018:05:02 01:58:12-04:00\"}'"
      ]
     },
     "execution_count": 18,
     "metadata": {},
     "output_type": "execute_result"
    }
   ],
   "source": [
    "json.dumps(EXIF)"
   ]
  },
  {
   "cell_type": "code",
   "execution_count": 21,
   "metadata": {},
   "outputs": [
    {
     "data": {
      "text/plain": [
       "Media[new:1]"
      ]
     },
     "execution_count": 21,
     "metadata": {},
     "output_type": "execute_result"
    }
   ],
   "source": [
    "Media(xxhash=XXHASH, size=SIZE, exif=EXIF)"
   ]
  },
  {
   "cell_type": "code",
   "execution_count": 22,
   "metadata": {},
   "outputs": [],
   "source": [
    "db.commit()"
   ]
  },
  {
   "cell_type": "code",
   "execution_count": 23,
   "metadata": {},
   "outputs": [],
   "source": [
    "M = select(c for c in Media if c.id == 1) "
   ]
  },
  {
   "cell_type": "code",
   "execution_count": 24,
   "metadata": {},
   "outputs": [],
   "source": [
    "for m in M:\n",
    "    break"
   ]
  },
  {
   "cell_type": "code",
   "execution_count": 25,
   "metadata": {},
   "outputs": [
    {
     "data": {
      "text/plain": [
       "Media[1]"
      ]
     },
     "execution_count": 25,
     "metadata": {},
     "output_type": "execute_result"
    }
   ],
   "source": [
    "m"
   ]
  },
  {
   "cell_type": "code",
   "execution_count": 26,
   "metadata": {},
   "outputs": [
    {
     "data": {
      "text/plain": [
       "100"
      ]
     },
     "execution_count": 26,
     "metadata": {},
     "output_type": "execute_result"
    }
   ],
   "source": [
    "m.exif[\"EXIF:ISO\"]"
   ]
  },
  {
   "cell_type": "code",
   "execution_count": 27,
   "metadata": {},
   "outputs": [],
   "source": [
    "M = select(c for c in Media if m.exif[\"EXIF:ISO\"] == 100)"
   ]
  },
  {
   "cell_type": "code",
   "execution_count": 28,
   "metadata": {},
   "outputs": [],
   "source": [
    "for m in M:\n",
    "    break"
   ]
  },
  {
   "cell_type": "code",
   "execution_count": 29,
   "metadata": {},
   "outputs": [
    {
     "data": {
      "text/plain": [
       "Media[1]"
      ]
     },
     "execution_count": 29,
     "metadata": {},
     "output_type": "execute_result"
    }
   ],
   "source": [
    "m"
   ]
  },
  {
   "cell_type": "code",
   "execution_count": null,
   "metadata": {},
   "outputs": [],
   "source": []
  }
 ],
 "metadata": {
  "kernelspec": {
   "display_name": "Python 3",
   "language": "python",
   "name": "python3"
  },
  "language_info": {
   "codemirror_mode": {
    "name": "ipython",
    "version": 3
   },
   "file_extension": ".py",
   "mimetype": "text/x-python",
   "name": "python",
   "nbconvert_exporter": "python",
   "pygments_lexer": "ipython3",
   "version": "3.5.2"
  }
 },
 "nbformat": 4,
 "nbformat_minor": 2
}
