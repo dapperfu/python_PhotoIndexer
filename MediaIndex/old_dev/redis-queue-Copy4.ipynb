{
 "cells": [
  {
   "cell_type": "code",
   "execution_count": 5,
   "metadata": {},
   "outputs": [],
   "source": [
    "import redis"
   ]
  },
  {
   "cell_type": "code",
   "execution_count": 6,
   "metadata": {},
   "outputs": [],
   "source": [
    "import rq"
   ]
  },
  {
   "cell_type": "code",
   "execution_count": 7,
   "metadata": {},
   "outputs": [],
   "source": [
    "import configparser\n",
    "import get_files\n",
    "import utils"
   ]
  },
  {
   "cell_type": "code",
   "execution_count": 8,
   "metadata": {},
   "outputs": [
    {
     "data": {
      "text/plain": [
       "['config.ini']"
      ]
     },
     "execution_count": 8,
     "metadata": {},
     "output_type": "execute_result"
    }
   ],
   "source": [
    "config = configparser.ConfigParser()\n",
    "config.read('config.ini')"
   ]
  },
  {
   "cell_type": "code",
   "execution_count": 9,
   "metadata": {},
   "outputs": [],
   "source": [
    "r = redis.StrictRedis(\n",
    "    host=config[\"redis\"][\"host\"],\n",
    "    port=config[\"redis\"][\"port\"],\n",
    "    db=config[\"redis\"][\"rq\"],\n",
    ")"
   ]
  },
  {
   "cell_type": "code",
   "execution_count": 14,
   "metadata": {},
   "outputs": [],
   "source": [
    "import_dir = \"/pictures/\"\n",
    "\n",
    "media_files = get_files.get_files(import_dir)\n",
    "for media_file in media_files:\n",
    "    break"
   ]
  },
  {
   "cell_type": "code",
   "execution_count": 17,
   "metadata": {
    "scrolled": true
   },
   "outputs": [
    {
     "name": "stdout",
     "output_type": "stream",
     "text": [
      "Cached hash : /pictures/2018-03-02T16:00:01-05:00/20170828_114942.mp4\n"
     ]
    },
    {
     "data": {
      "text/plain": [
       "'98451ade525cd544'"
      ]
     },
     "execution_count": 17,
     "metadata": {},
     "output_type": "execute_result"
    }
   ],
   "source": [
    "utils.cache_xxhash(media_file)"
   ]
  },
  {
   "cell_type": "code",
   "execution_count": 18,
   "metadata": {
    "scrolled": true
   },
   "outputs": [
    {
     "name": "stdout",
     "output_type": "stream",
     "text": [
      "Cached hash : /pictures/2018-03-02T16:00:01-05:00/20170828_114942.mp4\n",
      "Cached EXIF : /pictures/2018-03-02T16:00:01-05:00/20170828_114942.mp4\n"
     ]
    },
    {
     "data": {
      "text/plain": [
       "{'ExifTool:ExifToolVersion': 10.1,\n",
       " 'File:Directory': '/pictures/2018-03-02T16:00:01-05:00',\n",
       " 'File:FileAccessDate': '2018:03:11 22:36:18-04:00',\n",
       " 'File:FileInodeChangeDate': '2018:03:11 22:30:01-04:00',\n",
       " 'File:FileModifyDate': '2018:03:02 16:57:38-05:00',\n",
       " 'File:FileName': '20170828_114942.mp4',\n",
       " 'File:FilePermissions': 755,\n",
       " 'File:FileSize': 12845056,\n",
       " 'File:FileType': 'MP4',\n",
       " 'File:FileTypeExtension': 'MP4',\n",
       " 'File:MIMEType': 'video/mp4',\n",
       " 'QuickTime:CompatibleBrands': ['isom', 'mp42'],\n",
       " 'QuickTime:MajorBrand': 'mp42',\n",
       " 'QuickTime:MinorVersion': '0.0.0',\n",
       " 'QuickTime:MovieDataOffset': 32,\n",
       " 'QuickTime:MovieDataSize': 29206747,\n",
       " 'SourceFile': '/pictures/2018-03-02T16:00:01-05:00/20170828_114942.mp4'}"
      ]
     },
     "execution_count": 18,
     "metadata": {},
     "output_type": "execute_result"
    }
   ],
   "source": [
    "utils.cache_exif(media_file)"
   ]
  },
  {
   "cell_type": "code",
   "execution_count": null,
   "metadata": {},
   "outputs": [],
   "source": [
    "q.en"
   ]
  },
  {
   "cell_type": "code",
   "execution_count": null,
   "metadata": {},
   "outputs": [],
   "source": [
    "q = rq.Queue(connection=r)"
   ]
  },
  {
   "cell_type": "code",
   "execution_count": null,
   "metadata": {},
   "outputs": [],
   "source": [
    "import_dir = \"/vault/Pictures/\"\n",
    "\n",
    "media_files = get_files.get_files(import_dir)\n",
    "for media_file in media_files:\n",
    "    q.enqueue(utils.cache_xxhash, media_file)\n",
    "    q.enqueue(utils.cache_exif, media_file)"
   ]
  },
  {
   "cell_type": "code",
   "execution_count": null,
   "metadata": {},
   "outputs": [],
   "source": []
  }
 ],
 "metadata": {
  "kernelspec": {
   "display_name": "Python 3",
   "language": "python",
   "name": "python3"
  },
  "language_info": {
   "codemirror_mode": {
    "name": "ipython",
    "version": 3
   },
   "file_extension": ".py",
   "mimetype": "text/x-python",
   "name": "python",
   "nbconvert_exporter": "python",
   "pygments_lexer": "ipython3",
   "version": "3.5.2"
  }
 },
 "nbformat": 4,
 "nbformat_minor": 2
}
