{
 "cells": [
  {
   "cell_type": "code",
   "execution_count": null,
   "metadata": {},
   "outputs": [],
   "source": [
    "import get_files\n",
    "import pydarknet2\n",
    "\n",
    "import MediaIndexer\n",
    "import MediaIndexer.redis_cache"
   ]
  },
  {
   "cell_type": "code",
   "execution_count": 4,
   "metadata": {},
   "outputs": [],
   "source": [
    "for jpeg in get_files.get_files(\"/vault/pictures/2012/\", extensions=\".jpg\"):\n",
    "    break\n"
   ]
  },
  {
   "cell_type": "code",
   "execution_count": 5,
   "metadata": {},
   "outputs": [
    {
     "name": "stdout",
     "output_type": "stream",
     "text": [
      "[ ] hash: /vault/pictures/2012/01-January/2012Jan07_120359.jpg\n",
      "[ ] thumb : /vault/pictures/2012/01-January/2012Jan07_120359.jpg\n"
     ]
    }
   ],
   "source": [
    "MediaIndexer.redis_cache.cache_thumbnail(jpeg)\n"
   ]
  },
  {
   "cell_type": "code",
   "execution_count": 6,
   "metadata": {},
   "outputs": [
    {
     "name": "stdout",
     "output_type": "stream",
     "text": [
      "[X] hash : /vault/pictures/2012/01-January/2012Jan07_120359.jpg\n",
      "[X] thumb : /vault/pictures/2012/01-January/2012Jan07_120359.jpg\n"
     ]
    }
   ],
   "source": [
    "MediaIndexer.redis_cache.cache_thumbnail(jpeg)\n"
   ]
  },
  {
   "cell_type": "code",
   "execution_count": 8,
   "metadata": {},
   "outputs": [
    {
     "data": {
      "text/plain": [
       "pydarknet2.Classifier"
      ]
     },
     "execution_count": 8,
     "metadata": {},
     "output_type": "execute_result"
    }
   ],
   "source": [
    "pydarknet2.Classifier\n"
   ]
  }
 ],
 "metadata": {
  "kernelspec": {
   "display_name": "Python 3",
   "language": "python",
   "name": "python3"
  },
  "language_info": {
   "codemirror_mode": {
    "name": "ipython",
    "version": 3
   },
   "file_extension": ".py",
   "mimetype": "text/x-python",
   "name": "python",
   "nbconvert_exporter": "python",
   "pygments_lexer": "ipython3",
   "version": "3.6.5"
  }
 },
 "nbformat": 4,
 "nbformat_minor": 2
}
