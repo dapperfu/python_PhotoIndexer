{
 "cells": [
  {
   "cell_type": "code",
   "execution_count": null,
   "metadata": {},
   "outputs": [],
   "source": [
    "import configparser\n",
    "import os\n",
    "\n",
    "import redis\n",
    "import rq"
   ]
  },
  {
   "cell_type": "code",
   "execution_count": 5,
   "metadata": {},
   "outputs": [],
   "source": [
    "cfg_dir = os.path.dirname(os.path.abspath(os.path.curdir))cfg = os.path.join(cfg_dir, \"MediaIndex\", \"config.ini\")config = configparser.ConfigParser()config.read(cfg)r = redis.StrictRedis(    host=config[\"redis\"][\"host\"],    port=config[\"redis\"][\"port\"],    db=config[\"redis\"][\"rq\"],)w = rq.Worker(\"default\", connection=r)"
   ]
  },
  {
   "cell_type": "code",
   "execution_count": 7,
   "metadata": {},
   "outputs": [
    {
     "name": "stdout",
     "output_type": "stream",
     "text": [
      "Help on method work in module rq.worker:\n",
      "\n",
      "work(burst=False, logging_level='INFO') method of rq.worker.Worker instance\n",
      "    Starts the work loop.\n",
      "    \n",
      "    Pops and performs all jobs on the current list of queues.  When all\n",
      "    queues are empty, block and wait for new jobs to arrive on any of the\n",
      "    queues, unless `burst` mode is enabled.\n",
      "    \n",
      "    The return value indicates whether any jobs were processed.\n",
      "\n"
     ]
    }
   ],
   "source": [
    "help(w.work)\n"
   ]
  }
 ],
 "metadata": {
  "kernelspec": {
   "display_name": "Python 3",
   "language": "python",
   "name": "python3"
  },
  "language_info": {
   "codemirror_mode": {
    "name": "ipython",
    "version": 3
   },
   "file_extension": ".py",
   "mimetype": "text/x-python",
   "name": "python",
   "nbconvert_exporter": "python",
   "pygments_lexer": "ipython3",
   "version": "3.6.5"
  }
 },
 "nbformat": 4,
 "nbformat_minor": 2
}
