{
 "cells": [
  {
   "cell_type": "code",
   "execution_count": null,
   "metadata": {},
   "outputs": [],
   "source": [
    "import configparser\n",
    "import io\n",
    "import json\n",
    "import sys\n",
    "from datetime import datetime\n",
    "\n",
    "import redis\n",
    "import xxhash\n",
    "from PIL import Image\n",
    "\n",
    "import redis_db\n",
    "import utils"
   ]
  },
  {
   "cell_type": "markdown",
   "metadata": {},
   "source": [
    "# Cache everything in the Redis!"
   ]
  },
  {
   "cell_type": "code",
   "execution_count": 2,
   "metadata": {},
   "outputs": [
    {
     "data": {
      "text/plain": [
       "['config.ini']"
      ]
     },
     "execution_count": 2,
     "metadata": {},
     "output_type": "execute_result"
    }
   ],
   "source": [
    "config = configparser.ConfigParser()\n",
    "config.read(\"config.ini\")\n"
   ]
  },
  {
   "cell_type": "code",
   "execution_count": 4,
   "metadata": {
    "scrolled": false
   },
   "outputs": [
    {
     "data": {
      "text/plain": [
       "5"
      ]
     },
     "execution_count": 4,
     "metadata": {},
     "output_type": "execute_result"
    }
   ],
   "source": [
    "len(redis_db.thumb.keys())\n"
   ]
  },
  {
   "cell_type": "code",
   "execution_count": 7,
   "metadata": {},
   "outputs": [],
   "source": [
    "redis_db.exif.flushall?"
   ]
  },
  {
   "cell_type": "code",
   "execution_count": 8,
   "metadata": {},
   "outputs": [],
   "source": [
    "redis_db.exif.flushdb?"
   ]
  },
  {
   "cell_type": "code",
   "execution_count": null,
   "metadata": {},
   "outputs": [],
   "source": [
    "def my_decorator(func):\n",
    "    def wrapper():\n",
    "        print(\"Something is happening before the function is called.\")\n",
    "        func()\n",
    "        print(\"Something is happening after the function is called.\")\n",
    "\n",
    "    return wrapper\n"
   ]
  },
  {
   "cell_type": "code",
   "execution_count": 8,
   "metadata": {},
   "outputs": [],
   "source": [
    "def redis_cache(fcn):\n",
    "    def wrapper(fname):\n",
    "        if isinstance(fname, bytes):\n",
    "            fname = fname.decode(\"UTF-8\")\n",
    "\n",
    "        return\n",
    "\n",
    "    return wrapper\n"
   ]
  },
  {
   "cell_type": "code",
   "execution_count": null,
   "metadata": {},
   "outputs": [],
   "source": [
    "@redis_cache"
   ]
  },
  {
   "cell_type": "code",
   "execution_count": 17,
   "metadata": {},
   "outputs": [],
   "source": [
    "def get_xxhash(fname):\n",
    "    \"\"\" Get the xxhash of a given file.\"\"\"\n",
    "\n",
    "    if isinstance(fname, bytes):\n",
    "        fname = fname.decode(\"UTF-8\")\n",
    "\n",
    "    hash64 = xxhash.xxh64()\n",
    "    with open(str(fname), \"rb\") as f:\n",
    "        for chunk in iter(lambda: f.read(4096), b\"\"):\n",
    "            hash64.update(chunk)\n",
    "    return hash64.hexdigest()\n"
   ]
  },
  {
   "cell_type": "code",
   "execution_count": 22,
   "metadata": {},
   "outputs": [],
   "source": [
    "fname = \"/projects/darknet/data/dog.jpg\"\n"
   ]
  },
  {
   "cell_type": "code",
   "execution_count": 18,
   "metadata": {},
   "outputs": [
    {
     "data": {
      "text/plain": [
       "'7a4ee943299372fb'"
      ]
     },
     "execution_count": 18,
     "metadata": {},
     "output_type": "execute_result"
    }
   ],
   "source": [
    "get_xxhash(\"/projects/darknet/data/dog.jpg\")\n"
   ]
  },
  {
   "cell_type": "code",
   "execution_count": 20,
   "metadata": {},
   "outputs": [
    {
     "data": {
      "text/plain": [
       "'xxhash'"
      ]
     },
     "execution_count": 20,
     "metadata": {},
     "output_type": "execute_result"
    }
   ],
   "source": [
    "get_xxhash.__name__.split(\"_\")[1]\n"
   ]
  },
  {
   "cell_type": "code",
   "execution_count": 24,
   "metadata": {},
   "outputs": [
    {
     "data": {
      "text/plain": [
       "True"
      ]
     },
     "execution_count": 24,
     "metadata": {},
     "output_type": "execute_result"
    }
   ],
   "source": [
    "db = get_xxhash.__name__.split(\"_\")[1]\n",
    "redis_db.redis_databases[db].exists(fname)\n"
   ]
  },
  {
   "cell_type": "code",
   "execution_count": null,
   "metadata": {},
   "outputs": [],
   "source": [
    "def get_exif(fname):\n",
    "    \"\"\"Get the exif of a given file.\"\"\"\n",
    "\n",
    "    if isinstance(fname, bytes):\n",
    "        fname = fname.decode(\"UTF-8\")\n",
    "\n",
    "    with exiftool.ExifTool() as et:\n",
    "        return et.get_metadata(str(fname))\n"
   ]
  },
  {
   "cell_type": "code",
   "execution_count": null,
   "metadata": {},
   "outputs": [],
   "source": [
    "redis_databases\n"
   ]
  },
  {
   "cell_type": "code",
   "execution_count": null,
   "metadata": {},
   "outputs": [],
   "source": [
    "thumbnail_cache = redis.StrictRedis(\n",
    "    host=config[\"redis\"][\"host\"],\n",
    "    port=config[\"redis\"][\"port\"],\n",
    "    db=config[\"redis\"][\"thumb\"],\n",
    ")\n",
    "xxhash_cache = redis.StrictRedis(\n",
    "    host=config[\"redis\"][\"host\"],\n",
    "    port=config[\"redis\"][\"port\"],\n",
    "    db=config[\"redis\"][\"xxhash\"],\n",
    ")\n"
   ]
  },
  {
   "cell_type": "code",
   "execution_count": null,
   "metadata": {},
   "outputs": [],
   "source": [
    "def get_thumbnail(img_path, size=(255, 255)):\n",
    "    if isinstance(img_path, bytes):\n",
    "        img_path = img_path.decode(\"UTF-8\")\n",
    "\n",
    "    img = Image.open(img_path)\n",
    "    img.thumbnail(size)\n",
    "    with io.BytesIO() as buffer:\n",
    "        img.save(buffer, format=\"jpeg\")\n",
    "        thumbnail = buffer.getvalue()\n",
    "    return thumbnail\n",
    "\n",
    "\n",
    "def cache_thumbnail_redis(img_path, size=(255, 255)):\n",
    "    if isinstance(img_path, bytes):\n",
    "        img_path = img_path.decode(\"UTF-8\")\n",
    "\n",
    "    xxhash = utils.cache_xxhash(img_path)\n",
    "\n",
    "    if thumbnail_cache.exists(xxhash):\n",
    "        # Do nothing, thumbnail cache already exists.\n",
    "        return None\n",
    "\n",
    "    thumbnail = get_thumbnail(img_path=img_path, size=size)\n",
    "    return thumbnail_cache.set(xxhash, thumbnail)\n"
   ]
  },
  {
   "cell_type": "code",
   "execution_count": null,
   "metadata": {},
   "outputs": [],
   "source": [
    "cache_thumbnail_redis(xxhash_cache.randomkey())\n"
   ]
  }
 ],
 "metadata": {
  "kernelspec": {
   "display_name": "Python 3",
   "language": "python",
   "name": "python3"
  },
  "language_info": {
   "codemirror_mode": {
    "name": "ipython",
    "version": 3
   },
   "file_extension": ".py",
   "mimetype": "text/x-python",
   "name": "python",
   "nbconvert_exporter": "python",
   "pygments_lexer": "ipython3",
   "version": "3.6.5"
  }
 },
 "nbformat": 4,
 "nbformat_minor": 2
}
