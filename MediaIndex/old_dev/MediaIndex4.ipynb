{
 "cells": [
  {
   "cell_type": "code",
   "execution_count": null,
   "metadata": {},
   "outputs": [],
   "source": [
    "import configparser\n",
    "import json\n",
    "from datetime import datetime\n",
    "\n",
    "import get_files\n",
    "import redis\n",
    "\n",
    "from pony import orm\n",
    "from pony.orm import *\n",
    "from pony.orm.core import EntityMeta"
   ]
  },
  {
   "cell_type": "code",
   "execution_count": 13,
   "metadata": {},
   "outputs": [],
   "source": [
    "set_sql_debug(True)"
   ]
  },
  {
   "cell_type": "code",
   "execution_count": 14,
   "metadata": {},
   "outputs": [
    {
     "data": {
      "text/plain": [
       "['config.ini']"
      ]
     },
     "execution_count": 14,
     "metadata": {},
     "output_type": "execute_result"
    }
   ],
   "source": [
    "config = configparser.ConfigParser()config.read(\"config.ini\")"
   ]
  },
  {
   "cell_type": "code",
   "execution_count": 16,
   "metadata": {},
   "outputs": [
    {
     "name": "stdout",
     "output_type": "stream",
     "text": [
      "GET NEW CONNECTION\n",
      "RELEASE CONNECTION\n",
      "GET CONNECTION FROM THE LOCAL POOL\n",
      "SET foreign_key_checks = 0\n",
      "CREATE TABLE `media` (\n",
      "  `id` INTEGER PRIMARY KEY AUTO_INCREMENT,\n",
      "  `xxhash` VARCHAR(16) UNIQUE NOT NULL,\n",
      "  `size` DOUBLE,\n",
      "  `exif` JSON\n",
      ")\n",
      "\n",
      "SELECT `media`.`id`, `media`.`xxhash`, `media`.`size`, `media`.`exif`\n",
      "FROM `media` `media`\n",
      "WHERE 0 = 1\n",
      "\n",
      "COMMIT\n",
      "SET foreign_key_checks = 1\n",
      "CLOSE CONNECTION\n"
     ]
    }
   ],
   "source": [
    "db = Database()\n",
    "provider = \"mysql\"\n",
    "\n",
    "\n",
    "class Media(db.Entity):\n",
    "    id = PrimaryKey(int, auto=True)\n",
    "    xxhash = Required(str, 16, unique=True)\n",
    "    size = Optional(float)\n",
    "    exif = Optional(Json)\n",
    "\n",
    "\n",
    "db.bind(\n",
    "    provider=provider,\n",
    "    host=config[provider][\"host\"],\n",
    "    user=config[provider][\"user\"],\n",
    "    passwd=config[provider][\"pass\"],\n",
    "    db=\"media_index4\",\n",
    ")\n",
    "db.generate_mapping(create_tables=True)\n"
   ]
  },
  {
   "cell_type": "code",
   "execution_count": 18,
   "metadata": {},
   "outputs": [],
   "source": [
    "config = configparser.ConfigParser()\n",
    "config.read(\"config.ini\")\n",
    "exif_cache = redis.StrictRedis(\n",
    "    host=config[\"redis\"][\"host\"],\n",
    "    port=config[\"redis\"][\"port\"],\n",
    "    db=config[\"redis\"][\"exif\"],\n",
    ")\n",
    "xxhash_cache = redis.StrictRedis(\n",
    "    host=config[\"redis\"][\"host\"],\n",
    "    port=config[\"redis\"][\"port\"],\n",
    "    db=config[\"redis\"][\"xxhash\"],\n",
    ")\n"
   ]
  },
  {
   "cell_type": "code",
   "execution_count": 20,
   "metadata": {},
   "outputs": [
    {
     "data": {
      "text/plain": [
       "0"
      ]
     },
     "execution_count": 20,
     "metadata": {},
     "output_type": "execute_result"
    }
   ],
   "source": [
    "len(xxhash_cache.keys())\n"
   ]
  },
  {
   "cell_type": "code",
   "execution_count": 21,
   "metadata": {},
   "outputs": [],
   "source": [
    "for key in xxhash_cache.keys():\n",
    "    break\n"
   ]
  },
  {
   "cell_type": "code",
   "execution_count": 22,
   "metadata": {},
   "outputs": [
    {
     "ename": "NameError",
     "evalue": "name 'key' is not defined",
     "output_type": "error",
     "traceback": [
      "\u001b[0;31m---------------------------------------------------------------------------\u001b[0m",
      "\u001b[0;31mNameError\u001b[0m                                 Traceback (most recent call last)",
      "\u001b[0;32m<ipython-input-22-0f12f025fe60>\u001b[0m in \u001b[0;36m<module>\u001b[0;34m\u001b[0m\n\u001b[0;32m----> 1\u001b[0;31m \u001b[0mxxhash_cache\u001b[0m\u001b[0;34m.\u001b[0m\u001b[0mget\u001b[0m\u001b[0;34m(\u001b[0m\u001b[0mkey\u001b[0m\u001b[0;34m)\u001b[0m\u001b[0;34m\u001b[0m\u001b[0m\n\u001b[0m",
      "\u001b[0;31mNameError\u001b[0m: name 'key' is not defined"
     ]
    }
   ],
   "source": [
    "xxhash_cache.get(key)\n"
   ]
  },
  {
   "cell_type": "code",
   "execution_count": 23,
   "metadata": {},
   "outputs": [],
   "source": [
    "def upsert(cls, get, set=None):    \"\"\"    Interacting with Pony entities.    :param cls: The actual entity class    :param get: Identify the object (e.g. row) with this dictionary    :param set:     :return:    \"\"\"    # does the object exist    assert isinstance(cls, EntityMeta), \"{cls} is not a database entity\".format(        cls=cls    )    # if no set dictionary has been specified    set = set or {}    if not cls.exists(**get):        # make new object        return cls(**set, **get)    else:        # get the existing object        obj = cls.get(**get)        for key, value in set.items():            obj.__setattr__(key, value)        return obj"
   ]
  },
  {
   "cell_type": "code",
   "execution_count": 24,
   "metadata": {},
   "outputs": [],
   "source": [
    "set_sql_debug(False)\n",
    "M = list()\n",
    "for i, key in enumerate(exif_cache.keys()):\n",
    "    if i % 10 == 0:\n",
    "        print(i)\n",
    "        db.commit()\n",
    "    EXIF = exif_cache.get(key).decode()\n",
    "    EXIF_ = json.loads(EXIF)\n",
    "    g = {\"xxhash\": key.decode()}\n",
    "    s = {\"exif\": EXIF_}\n",
    "    M.append(upsert(Media, g, s))\n"
   ]
  },
  {
   "cell_type": "code",
   "execution_count": 25,
   "metadata": {},
   "outputs": [],
   "source": [
    "M = select(c for c in Media if c.exif[\"EXIF:ISO\"] == \"250\")\n"
   ]
  },
  {
   "cell_type": "code",
   "execution_count": 26,
   "metadata": {},
   "outputs": [],
   "source": [
    "for m in M:\n",
    "    break\n"
   ]
  },
  {
   "cell_type": "code",
   "execution_count": 27,
   "metadata": {},
   "outputs": [
    {
     "ename": "NameError",
     "evalue": "name 'm' is not defined",
     "output_type": "error",
     "traceback": [
      "\u001b[0;31m---------------------------------------------------------------------------\u001b[0m",
      "\u001b[0;31mNameError\u001b[0m                                 Traceback (most recent call last)",
      "\u001b[0;32m<ipython-input-27-9a40b379906c>\u001b[0m in \u001b[0;36m<module>\u001b[0;34m\u001b[0m\n\u001b[0;32m----> 1\u001b[0;31m \u001b[0mm\u001b[0m\u001b[0;34m\u001b[0m\u001b[0m\n\u001b[0m",
      "\u001b[0;31mNameError\u001b[0m: name 'm' is not defined"
     ]
    }
   ],
   "source": [
    "m\n"
   ]
  }
 ],
 "metadata": {
  "kernelspec": {
   "display_name": "Python 3",
   "language": "python",
   "name": "python3"
  },
  "language_info": {
   "codemirror_mode": {
    "name": "ipython",
    "version": 3
   },
   "file_extension": ".py",
   "mimetype": "text/x-python",
   "name": "python",
   "nbconvert_exporter": "python",
   "pygments_lexer": "ipython3",
   "version": "3.6.5"
  }
 },
 "nbformat": 4,
 "nbformat_minor": 2
}
