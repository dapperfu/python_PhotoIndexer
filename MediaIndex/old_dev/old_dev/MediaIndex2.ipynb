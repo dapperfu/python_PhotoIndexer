{
 "cells": [
  {
   "cell_type": "code",
   "execution_count": null,
   "metadata": {},
   "outputs": [],
   "source": [
    "import json\n",
    "import os\n",
    "\n",
    "import exiftool\n",
    "from get_files import get_files\n",
    "\n",
    "import utils\n",
    "from pony.orm import *"
   ]
  },
  {
   "cell_type": "code",
   "execution_count": 32,
   "metadata": {
    "scrolled": true
   },
   "outputs": [],
   "source": [
    "db = Database(    provider=\"mysql\",    host=\"172.16.0.73\",    user=\"media\",    passwd=\"aterinee\",    db=\"media\",)"
   ]
  },
  {
   "cell_type": "code",
   "execution_count": 33,
   "metadata": {},
   "outputs": [],
   "source": [
    "class Media(db.Entity):\n",
    "    id = PrimaryKey(int, auto=True)\n",
    "    xxhash = Required(str, 16, unique=True)\n",
    "    size = Optional(float)\n",
    "    exif = Optional(Json)\n",
    "    exif2 = Optional(LongStr, lazy=True)\n",
    "\n",
    "\n",
    "db.generate_mapping(create_tables=True)\n"
   ]
  },
  {
   "cell_type": "code",
   "execution_count": 36,
   "metadata": {},
   "outputs": [],
   "source": [
    "files = get_files(\"/vault/Pictures/2002\")\n"
   ]
  },
  {
   "cell_type": "code",
   "execution_count": 37,
   "metadata": {},
   "outputs": [],
   "source": [
    "for file in files:\n",
    "    break\n"
   ]
  },
  {
   "cell_type": "code",
   "execution_count": 38,
   "metadata": {},
   "outputs": [
    {
     "data": {
      "text/plain": [
       "'/vault/Pictures/2002/Thanksgiving 02/021128-151210.jpg'"
      ]
     },
     "execution_count": 38,
     "metadata": {},
     "output_type": "execute_result"
    }
   ],
   "source": [
    "file\n"
   ]
  },
  {
   "cell_type": "code",
   "execution_count": 53,
   "metadata": {},
   "outputs": [],
   "source": [
    "XXHASH = utils.get_xxhash(file)\n"
   ]
  },
  {
   "cell_type": "code",
   "execution_count": 55,
   "metadata": {},
   "outputs": [],
   "source": [
    "SIZE = os.stat(file).st_size / 1024 ** 2\n"
   ]
  },
  {
   "cell_type": "code",
   "execution_count": 46,
   "metadata": {},
   "outputs": [],
   "source": [
    "et = exiftool.ExifTool()et.start()"
   ]
  },
  {
   "cell_type": "code",
   "execution_count": 56,
   "metadata": {},
   "outputs": [],
   "source": [
    "EXIF = et.get_metadata(str(file))\n"
   ]
  },
  {
   "cell_type": "code",
   "execution_count": 58,
   "metadata": {},
   "outputs": [
    {
     "data": {
      "text/plain": [
       "{'Composite:Aperture': 4,\n",
       " 'Composite:CircleOfConfusion': '0.00613333333333333',\n",
       " 'Composite:FOV': 78.4646272552808,\n",
       " 'Composite:FocalLength35efl': 22.0448107874836,\n",
       " 'Composite:HyperfocalDistance': 0.825407608695653,\n",
       " 'Composite:ImageSize': '1600x1200',\n",
       " 'Composite:LightValue': 8.90689059575279,\n",
       " 'Composite:Megapixels': 1.92,\n",
       " 'Composite:ScaleFactor35efl': 4.89884684166303,\n",
       " 'Composite:ShutterSpeed': 0.03333333333,\n",
       " 'Composite:ThumbnailImage': '(Binary data 4906 bytes, use -b option to extract)',\n",
       " 'EXIF:ColorSpace': 1,\n",
       " 'EXIF:ComponentsConfiguration': '1 2 3 0',\n",
       " 'EXIF:CompressedBitsPerPixel': 2,\n",
       " 'EXIF:Compression': 6,\n",
       " 'EXIF:CreateDate': '2002:11:28 15:12:10',\n",
       " 'EXIF:DateTimeOriginal': '2002:11:28 15:12:10',\n",
       " 'EXIF:ExifImageHeight': 1200,\n",
       " 'EXIF:ExifImageWidth': 1600,\n",
       " 'EXIF:ExifVersion': '0210',\n",
       " 'EXIF:ExposureCompensation': 0,\n",
       " 'EXIF:ExposureProgram': 2,\n",
       " 'EXIF:ExposureTime': 0.03333333333,\n",
       " 'EXIF:FNumber': 4,\n",
       " 'EXIF:FileSource': 3,\n",
       " 'EXIF:Flash': 1,\n",
       " 'EXIF:FlashpixVersion': '0100',\n",
       " 'EXIF:FocalLength': 4.5,\n",
       " 'EXIF:ISO': 100,\n",
       " 'EXIF:ImageDescription': 'OLYMPUS DIGITAL CAMERA         ',\n",
       " 'EXIF:InteropIndex': 'R98',\n",
       " 'EXIF:InteropVersion': '0100',\n",
       " 'EXIF:LightSource': 0,\n",
       " 'EXIF:Make': 'OLYMPUS OPTICAL CO.,LTD',\n",
       " 'EXIF:MaxApertureValue': 4,\n",
       " 'EXIF:MeteringMode': 5,\n",
       " 'EXIF:Model': 'C120,D380',\n",
       " 'EXIF:ModifyDate': '2002:11:28 15:12:10',\n",
       " 'EXIF:Orientation': 1,\n",
       " 'EXIF:ResolutionUnit': 2,\n",
       " 'EXIF:SceneType': 1,\n",
       " 'EXIF:Software': 'v571u-76',\n",
       " 'EXIF:ThumbnailLength': 4906,\n",
       " 'EXIF:ThumbnailOffset': 4096,\n",
       " 'EXIF:UserComment': '',\n",
       " 'EXIF:XResolution': 72,\n",
       " 'EXIF:YCbCrPositioning': 2,\n",
       " 'EXIF:YResolution': 72,\n",
       " 'ExifTool:ExifToolVersion': 10.1,\n",
       " 'File:BitsPerSample': 8,\n",
       " 'File:ColorComponents': 3,\n",
       " 'File:Directory': '/vault/Pictures/2002/Thanksgiving 02',\n",
       " 'File:EncodingProcess': 0,\n",
       " 'File:ExifByteOrder': 'II',\n",
       " 'File:FileAccessDate': '2018:03:10 14:49:31-05:00',\n",
       " 'File:FileInodeChangeDate': '2016:12:17 16:58:00-05:00',\n",
       " 'File:FileModifyDate': '2002:11:28 10:12:10-05:00',\n",
       " 'File:FileName': '021128-151210.jpg',\n",
       " 'File:FilePermissions': 755,\n",
       " 'File:FileSize': 335841,\n",
       " 'File:FileType': 'JPEG',\n",
       " 'File:FileTypeExtension': 'JPG',\n",
       " 'File:ImageHeight': 1200,\n",
       " 'File:ImageWidth': 1600,\n",
       " 'File:MIMEType': 'image/jpeg',\n",
       " 'File:YCbCrSubSampling': '2 1',\n",
       " 'MakerNotes:BWMode': 0,\n",
       " 'MakerNotes:CameraID': 'OLYMPUS DIGITAL CAMERA',\n",
       " 'MakerNotes:CameraType': 'SX571',\n",
       " 'MakerNotes:DataDump': '(Binary data 254 bytes, use -b option to extract)',\n",
       " 'MakerNotes:DigitalZoom': 1,\n",
       " 'MakerNotes:FocalPlaneDiagonal': 8.832,\n",
       " 'MakerNotes:LensDistortionParams': '-192 -332 -356 -192 -332 -356',\n",
       " 'MakerNotes:Macro': 0,\n",
       " 'MakerNotes:OneTouchWB': 0,\n",
       " 'MakerNotes:PreCaptureFrames': 0,\n",
       " 'MakerNotes:Quality': 1,\n",
       " 'MakerNotes:Resolution': 1,\n",
       " 'MakerNotes:SpecialMode': '0 0 0',\n",
       " 'MakerNotes:WhiteBalanceBias': 0,\n",
       " 'MakerNotes:WhiteBalanceBracket': 0,\n",
       " 'MakerNotes:WhiteBoard': 0,\n",
       " 'SourceFile': '/vault/Pictures/2002/Thanksgiving 02/021128-151210.jpg'}"
      ]
     },
     "execution_count": 58,
     "metadata": {},
     "output_type": "execute_result"
    }
   ],
   "source": [
    "EXIF\n"
   ]
  },
  {
   "cell_type": "code",
   "execution_count": 59,
   "metadata": {},
   "outputs": [
    {
     "data": {
      "text/plain": [
       "'{\"EXIF:ModifyDate\": \"2002:11:28 15:12:10\", \"EXIF:Model\": \"C120,D380\", \"File:FileAccessDate\": \"2018:03:10 14:49:31-05:00\", \"EXIF:ExifVersion\": \"0210\", \"EXIF:Compression\": 6, \"File:Directory\": \"/vault/Pictures/2002/Thanksgiving 02\", \"File:FileInodeChangeDate\": \"2016:12:17 16:58:00-05:00\", \"MakerNotes:DigitalZoom\": 1, \"EXIF:Orientation\": 1, \"EXIF:Software\": \"v571u-76\", \"EXIF:ResolutionUnit\": 2, \"EXIF:ExposureTime\": 0.03333333333, \"MakerNotes:WhiteBalanceBias\": 0, \"File:FileModifyDate\": \"2002:11:28 10:12:10-05:00\", \"Composite:LightValue\": 8.90689059575279, \"EXIF:ComponentsConfiguration\": \"1 2 3 0\", \"MakerNotes:Quality\": 1, \"EXIF:CreateDate\": \"2002:11:28 15:12:10\", \"MakerNotes:Macro\": 0, \"File:YCbCrSubSampling\": \"2 1\", \"Composite:ScaleFactor35efl\": 4.89884684166303, \"EXIF:ImageDescription\": \"OLYMPUS DIGITAL CAMERA         \", \"MakerNotes:FocalPlaneDiagonal\": 8.832, \"EXIF:InteropIndex\": \"R98\", \"EXIF:FlashpixVersion\": \"0100\", \"Composite:ShutterSpeed\": 0.03333333333, \"MakerNotes:LensDistortionParams\": \"-192 -332 -356 -192 -332 -356\", \"EXIF:MeteringMode\": 5, \"Composite:Megapixels\": 1.92, \"EXIF:ISO\": 100, \"File:ExifByteOrder\": \"II\", \"EXIF:ExifImageWidth\": 1600, \"EXIF:FileSource\": 3, \"EXIF:YResolution\": 72, \"File:FilePermissions\": 755, \"Composite:Aperture\": 4, \"File:MIMEType\": \"image/jpeg\", \"File:BitsPerSample\": 8, \"MakerNotes:OneTouchWB\": 0, \"EXIF:ExifImageHeight\": 1200, \"EXIF:XResolution\": 72, \"EXIF:ColorSpace\": 1, \"MakerNotes:SpecialMode\": \"0 0 0\", \"Composite:FOV\": 78.4646272552808, \"EXIF:SceneType\": 1, \"EXIF:FocalLength\": 4.5, \"EXIF:MaxApertureValue\": 4, \"EXIF:DateTimeOriginal\": \"2002:11:28 15:12:10\", \"MakerNotes:WhiteBalanceBracket\": 0, \"MakerNotes:BWMode\": 0, \"MakerNotes:CameraType\": \"SX571\", \"Composite:CircleOfConfusion\": \"0.00613333333333333\", \"MakerNotes:WhiteBoard\": 0, \"Composite:ThumbnailImage\": \"(Binary data 4906 bytes, use -b option to extract)\", \"EXIF:CompressedBitsPerPixel\": 2, \"MakerNotes:CameraID\": \"OLYMPUS DIGITAL CAMERA\", \"File:ImageWidth\": 1600, \"SourceFile\": \"/vault/Pictures/2002/Thanksgiving 02/021128-151210.jpg\", \"ExifTool:ExifToolVersion\": 10.1, \"EXIF:ExposureProgram\": 2, \"File:FileTypeExtension\": \"JPG\", \"EXIF:FNumber\": 4, \"EXIF:ThumbnailOffset\": 4096, \"MakerNotes:DataDump\": \"(Binary data 254 bytes, use -b option to extract)\", \"MakerNotes:Resolution\": 1, \"EXIF:ThumbnailLength\": 4906, \"EXIF:Flash\": 1, \"Composite:FocalLength35efl\": 22.0448107874836, \"EXIF:ExposureCompensation\": 0, \"File:FileName\": \"021128-151210.jpg\", \"File:ImageHeight\": 1200, \"EXIF:LightSource\": 0, \"EXIF:UserComment\": \"\", \"File:EncodingProcess\": 0, \"Composite:ImageSize\": \"1600x1200\", \"EXIF:Make\": \"OLYMPUS OPTICAL CO.,LTD\", \"MakerNotes:PreCaptureFrames\": 0, \"EXIF:YCbCrPositioning\": 2, \"EXIF:InteropVersion\": \"0100\", \"Composite:HyperfocalDistance\": 0.825407608695653, \"File:ColorComponents\": 3, \"File:FileType\": \"JPEG\", \"File:FileSize\": 335841}'"
      ]
     },
     "execution_count": 59,
     "metadata": {},
     "output_type": "execute_result"
    }
   ],
   "source": [
    "json.dumps(EXIF)\n"
   ]
  },
  {
   "cell_type": "code",
   "execution_count": 61,
   "metadata": {},
   "outputs": [
    {
     "data": {
      "text/plain": [
       "Media[new:1]"
      ]
     },
     "execution_count": 61,
     "metadata": {},
     "output_type": "execute_result"
    }
   ],
   "source": [
    "Media(xxhash=XXHASH, size=SIZE, exif=EXIF, exif2=json.dumps(EXIF))\n"
   ]
  },
  {
   "cell_type": "code",
   "execution_count": 62,
   "metadata": {},
   "outputs": [],
   "source": [
    "db.commit()\n"
   ]
  },
  {
   "cell_type": "code",
   "execution_count": 68,
   "metadata": {},
   "outputs": [],
   "source": [
    "M = select(c for c in Media if c.id == 1)\n"
   ]
  },
  {
   "cell_type": "code",
   "execution_count": 69,
   "metadata": {},
   "outputs": [],
   "source": [
    "for m in M:\n",
    "    break\n"
   ]
  },
  {
   "cell_type": "code",
   "execution_count": 70,
   "metadata": {},
   "outputs": [
    {
     "data": {
      "text/plain": [
       "Media[1]"
      ]
     },
     "execution_count": 70,
     "metadata": {},
     "output_type": "execute_result"
    }
   ],
   "source": [
    "m\n"
   ]
  },
  {
   "cell_type": "code",
   "execution_count": 72,
   "metadata": {},
   "outputs": [
    {
     "data": {
      "text/plain": [
       "100"
      ]
     },
     "execution_count": 72,
     "metadata": {},
     "output_type": "execute_result"
    }
   ],
   "source": [
    "m.exif[\"EXIF:ISO\"]\n"
   ]
  },
  {
   "cell_type": "code",
   "execution_count": 74,
   "metadata": {},
   "outputs": [],
   "source": [
    "M = select(c for c in Media if m.exif[\"EXIF:ISO\"] == 100)\n"
   ]
  },
  {
   "cell_type": "code",
   "execution_count": 75,
   "metadata": {},
   "outputs": [],
   "source": [
    "for m in M:\n",
    "    break\n"
   ]
  },
  {
   "cell_type": "code",
   "execution_count": 76,
   "metadata": {},
   "outputs": [
    {
     "data": {
      "text/plain": [
       "Media[1]"
      ]
     },
     "execution_count": 76,
     "metadata": {},
     "output_type": "execute_result"
    }
   ],
   "source": [
    "m\n"
   ]
  }
 ],
 "metadata": {
  "kernelspec": {
   "display_name": "Python 3",
   "language": "python",
   "name": "python3"
  },
  "language_info": {
   "codemirror_mode": {
    "name": "ipython",
    "version": 3
   },
   "file_extension": ".py",
   "mimetype": "text/x-python",
   "name": "python",
   "nbconvert_exporter": "python",
   "pygments_lexer": "ipython3",
   "version": "3.5.2"
  }
 },
 "nbformat": 4,
 "nbformat_minor": 2
}
