{
 "cells": [
  {
   "cell_type": "code",
   "execution_count": 54,
   "metadata": {},
   "outputs": [],
   "source": [
    "from datetime import datetime\n",
    "from pony.orm import *"
   ]
  },
  {
   "cell_type": "code",
   "execution_count": 55,
   "metadata": {},
   "outputs": [],
   "source": [
    "import redis\n",
    "import rq\n",
    "import configparser\n",
    "import redis\n",
    "import rq\n",
    "import configparser\n",
    "import get_files\n",
    "import utils\n",
    "\n",
    "config = configparser.ConfigParser()\n",
    "config.read('config.ini')\n",
    "import_dir = \"/net/nas.local/mnt/keg/Pictures/\""
   ]
  },
  {
   "cell_type": "code",
   "execution_count": 61,
   "metadata": {
    "scrolled": true
   },
   "outputs": [],
   "source": [
    "provider=\"mysql\"\n",
    "db = Database(provider=provider,\n",
    "              host=config[provider][\"host\"],\n",
    "              user=config[provider][\"user\"],\n",
    "              passwd=config[provider][\"pass\"],\n",
    "              db=config[provider][\"db\"],\n",
    "              )\n",
    "db.generate_mapping()\n",
    "db.drop_all_tables()"
   ]
  },
  {
   "cell_type": "code",
   "execution_count": 63,
   "metadata": {},
   "outputs": [],
   "source": [
    "db = Database(provider=provider,\n",
    "              host=config[provider][\"host\"],\n",
    "              user=config[provider][\"user\"],\n",
    "              passwd=config[provider][\"pass\"],\n",
    "              db=config[provider][\"db\"],\n",
    "              )\n",
    "class Media(db.Entity):\n",
    "    id = PrimaryKey(int, auto=True)\n",
    "    xxhash = Required(str, 16, unique=True)\n",
    "    size = Optional(float)\n",
    "    exif = Optional(Json)\n",
    "\n",
    "db.generate_mapping(create_tables=True)"
   ]
  },
  {
   "cell_type": "code",
   "execution_count": 64,
   "metadata": {},
   "outputs": [],
   "source": [
    "import get_files"
   ]
  },
  {
   "cell_type": "code",
   "execution_count": 65,
   "metadata": {},
   "outputs": [],
   "source": [
    "files = get_files.get_files(\"/mnt/vault/pictures/sync/\", extensions=[\".jpg\", \".cr2\", \".dng\"])"
   ]
  },
  {
   "cell_type": "code",
   "execution_count": 66,
   "metadata": {
    "scrolled": true
   },
   "outputs": [],
   "source": [
    "for file in files:\n",
    "    break"
   ]
  },
  {
   "cell_type": "code",
   "execution_count": 67,
   "metadata": {},
   "outputs": [
    {
     "data": {
      "text/plain": [
       "'/mnt/vault/pictures/sync/2018-06-30T15_59_35-04_00/DCIM/100CANON/IMG_4159.CR2'"
      ]
     },
     "execution_count": 67,
     "metadata": {},
     "output_type": "execute_result"
    }
   ],
   "source": [
    "file"
   ]
  },
  {
   "cell_type": "code",
   "execution_count": 11,
   "metadata": {},
   "outputs": [],
   "source": [
    "import utils"
   ]
  },
  {
   "cell_type": "code",
   "execution_count": 12,
   "metadata": {},
   "outputs": [],
   "source": [
    "XXHASH=utils.get_xxhash(file)"
   ]
  },
  {
   "cell_type": "code",
   "execution_count": 13,
   "metadata": {},
   "outputs": [],
   "source": [
    "import os"
   ]
  },
  {
   "cell_type": "code",
   "execution_count": 14,
   "metadata": {},
   "outputs": [],
   "source": [
    "SIZE=os.stat(file).st_size/1024 ** 2"
   ]
  },
  {
   "cell_type": "code",
   "execution_count": 15,
   "metadata": {},
   "outputs": [],
   "source": [
    "import exiftool\n",
    "et = exiftool.ExifTool()\n",
    "et.start()"
   ]
  },
  {
   "cell_type": "code",
   "execution_count": 16,
   "metadata": {},
   "outputs": [],
   "source": [
    "EXIF = et.get_metadata(str(file))"
   ]
  },
  {
   "cell_type": "code",
   "execution_count": 17,
   "metadata": {},
   "outputs": [],
   "source": [
    "import json"
   ]
  },
  {
   "cell_type": "code",
   "execution_count": 18,
   "metadata": {},
   "outputs": [
    {
     "data": {
      "text/plain": [
       "{'SourceFile': '/mnt/vault/pictures/sync/2018-06-30T15_59_35-04_00/DCIM/100CANON/IMG_4159.CR2',\n",
       " 'ExifTool:ExifToolVersion': 10.8,\n",
       " 'File:FileName': 'IMG_4159.CR2',\n",
       " 'File:Directory': '/mnt/vault/pictures/sync/2018-06-30T15_59_35-04_00/DCIM/100CANON',\n",
       " 'File:FileSize': 27750520,\n",
       " 'File:FileModifyDate': '2018:06:30 16:00:04-04:00',\n",
       " 'File:FileAccessDate': '2018:07:01 01:07:33-04:00',\n",
       " 'File:FileInodeChangeDate': '2018:06:30 16:29:54-04:00',\n",
       " 'File:FilePermissions': 700,\n",
       " 'File:FileType': 'CR2',\n",
       " 'File:FileTypeExtension': 'CR2',\n",
       " 'File:MIMEType': 'image/x-canon-cr2',\n",
       " 'File:ExifByteOrder': 'II',\n",
       " 'EXIF:ImageWidth': 5472,\n",
       " 'EXIF:ImageHeight': 3648,\n",
       " 'EXIF:BitsPerSample': '8 8 8',\n",
       " 'EXIF:Compression': 6,\n",
       " 'EXIF:Make': 'Canon',\n",
       " 'EXIF:Model': 'Canon EOS 70D',\n",
       " 'EXIF:PreviewImageStart': 92956,\n",
       " 'EXIF:Orientation': 1,\n",
       " 'EXIF:PreviewImageLength': 2844390,\n",
       " 'EXIF:XResolution': 72,\n",
       " 'EXIF:YResolution': 72,\n",
       " 'EXIF:ResolutionUnit': 2,\n",
       " 'EXIF:ModifyDate': '2018:06:28 07:33:29',\n",
       " 'EXIF:Artist': 'Jedediah Frey',\n",
       " 'EXIF:Copyright': 'Jedediah Frey',\n",
       " 'EXIF:ExposureTime': 0.0125,\n",
       " 'EXIF:FNumber': 4,\n",
       " 'EXIF:ExposureProgram': 4,\n",
       " 'EXIF:ISO': 3200,\n",
       " 'EXIF:SensitivityType': 2,\n",
       " 'EXIF:RecommendedExposureIndex': 3200,\n",
       " 'EXIF:ExifVersion': '0230',\n",
       " 'EXIF:DateTimeOriginal': '2018:06:28 07:33:29',\n",
       " 'EXIF:CreateDate': '2018:06:28 07:33:29',\n",
       " 'EXIF:ComponentsConfiguration': '1 2 3 0',\n",
       " 'EXIF:ShutterSpeedValue': 0.0120485220734995,\n",
       " 'EXIF:ApertureValue': 4,\n",
       " 'EXIF:ExposureCompensation': -0.3333333333,\n",
       " 'EXIF:MeteringMode': 2,\n",
       " 'EXIF:Flash': 16,\n",
       " 'EXIF:FocalLength': 24,\n",
       " 'EXIF:UserComment': '',\n",
       " 'EXIF:SubSecTime': 15,\n",
       " 'EXIF:SubSecTimeOriginal': 15,\n",
       " 'EXIF:SubSecTimeDigitized': 15,\n",
       " 'EXIF:FlashpixVersion': '0100',\n",
       " 'EXIF:ColorSpace': 1,\n",
       " 'EXIF:ExifImageWidth': 5472,\n",
       " 'EXIF:ExifImageHeight': 3648,\n",
       " 'EXIF:InteropIndex': 'R98',\n",
       " 'EXIF:InteropVersion': '0100',\n",
       " 'EXIF:FocalPlaneXResolution': 6086.76307,\n",
       " 'EXIF:FocalPlaneYResolution': 6090.15025,\n",
       " 'EXIF:FocalPlaneResolutionUnit': 2,\n",
       " 'EXIF:CustomRendered': 0,\n",
       " 'EXIF:ExposureMode': 0,\n",
       " 'EXIF:WhiteBalance': 0,\n",
       " 'EXIF:SceneCaptureType': 0,\n",
       " 'EXIF:OwnerName': '',\n",
       " 'EXIF:SerialNumber': '042021005931',\n",
       " 'EXIF:LensInfo': '18 135 0 0',\n",
       " 'EXIF:LensModel': 'EF-S18-135mm f/3.5-5.6 IS STM',\n",
       " 'EXIF:LensSerialNumber': '000023d344',\n",
       " 'EXIF:GPSVersionID': '2 3 0 0',\n",
       " 'EXIF:ThumbnailOffset': 80600,\n",
       " 'EXIF:ThumbnailLength': 12355,\n",
       " 'EXIF:PhotometricInterpretation': 2,\n",
       " 'EXIF:SamplesPerPixel': 3,\n",
       " 'EXIF:RowsPerStrip': 309,\n",
       " 'EXIF:PlanarConfiguration': 1,\n",
       " 'EXIF:StripOffsets': 3797604,\n",
       " 'EXIF:StripByteCounts': 23952916,\n",
       " 'EXIF:CR2CFAPattern': '0 1 1 2',\n",
       " 'EXIF:RawImageSegmentation': '1 2784 2784',\n",
       " 'EXIF:SRawType': 1,\n",
       " 'EXIF:PreviewImage': '(Binary data 2844390 bytes, use -b option to extract)',\n",
       " 'EXIF:ThumbnailImage': '(Binary data 12355 bytes, use -b option to extract)',\n",
       " 'XMP:Rating': 0,\n",
       " 'MakerNotes:MacroMode': 2,\n",
       " 'MakerNotes:SelfTimer': 0,\n",
       " 'MakerNotes:Quality': 4,\n",
       " 'MakerNotes:CanonFlashMode': 0,\n",
       " 'MakerNotes:ContinuousDrive': 5,\n",
       " 'MakerNotes:FocusMode': 1,\n",
       " 'MakerNotes:RecordMode': 6,\n",
       " 'MakerNotes:CanonImageSize': -1,\n",
       " 'MakerNotes:EasyMode': 1,\n",
       " 'MakerNotes:DigitalZoom': 0,\n",
       " 'MakerNotes:Contrast': 0,\n",
       " 'MakerNotes:Saturation': 0,\n",
       " 'MakerNotes:MeteringMode': 5,\n",
       " 'MakerNotes:FocusRange': 2,\n",
       " 'MakerNotes:CanonExposureMode': 2,\n",
       " 'MakerNotes:LensType': 4142,\n",
       " 'MakerNotes:MaxFocalLength': 135,\n",
       " 'MakerNotes:MinFocalLength': 18,\n",
       " 'MakerNotes:FocalUnits': 1,\n",
       " 'MakerNotes:MaxAperture': 3.83041312279429,\n",
       " 'MakerNotes:MinAperture': 24.675373206527,\n",
       " 'MakerNotes:FlashActivity': 0,\n",
       " 'MakerNotes:FlashBits': 0,\n",
       " 'MakerNotes:ZoomSourceWidth': 0,\n",
       " 'MakerNotes:ZoomTargetWidth': 0,\n",
       " 'MakerNotes:ManualFlashOutput': 0,\n",
       " 'MakerNotes:ColorTone': 0,\n",
       " 'MakerNotes:SRAWQuality': 0,\n",
       " 'MakerNotes:FocalLength': 24,\n",
       " 'MakerNotes:AutoISO': 100,\n",
       " 'MakerNotes:BaseISO': 3200,\n",
       " 'MakerNotes:MeasuredEV': 3.625,\n",
       " 'MakerNotes:TargetAperture': 4,\n",
       " 'MakerNotes:TargetExposureTime': 0.0124015707185016,\n",
       " 'MakerNotes:ExposureCompensation': -0.333333333333333,\n",
       " 'MakerNotes:WhiteBalance': 0,\n",
       " 'MakerNotes:SlowShutter': 3,\n",
       " 'MakerNotes:SequenceNumber': 0,\n",
       " 'MakerNotes:OpticalZoomCode': 8,\n",
       " 'MakerNotes:CameraTemperature': 23,\n",
       " 'MakerNotes:FlashGuideNumber': 0,\n",
       " 'MakerNotes:FlashExposureComp': 0,\n",
       " 'MakerNotes:AutoExposureBracketing': 0,\n",
       " 'MakerNotes:AEBBracketValue': 0,\n",
       " 'MakerNotes:ControlMode': 1,\n",
       " 'MakerNotes:FNumber': 3.83041312279429,\n",
       " 'MakerNotes:ExposureTime': 0.0124015707185016,\n",
       " 'MakerNotes:MeasuredEV2': 4,\n",
       " 'MakerNotes:BulbDuration': 0,\n",
       " 'MakerNotes:CameraType': 248,\n",
       " 'MakerNotes:NDFilter': -1,\n",
       " 'MakerNotes:CanonImageType': 'Canon EOS 70D',\n",
       " 'MakerNotes:CanonFirmwareVersion': 'Firmware Version 1.1.1',\n",
       " 'MakerNotes:OwnerName': '',\n",
       " 'MakerNotes:ISO': 3200,\n",
       " 'MakerNotes:CameraOrientation': 0,\n",
       " 'MakerNotes:FirmwareVersion': '1.1.1',\n",
       " 'MakerNotes:FileIndex': 4159,\n",
       " 'MakerNotes:DirectoryIndex': 100,\n",
       " 'MakerNotes:ContrastStandard': 0,\n",
       " 'MakerNotes:SharpnessStandard': 3,\n",
       " 'MakerNotes:SaturationStandard': 0,\n",
       " 'MakerNotes:ColorToneStandard': 0,\n",
       " 'MakerNotes:ContrastPortrait': 0,\n",
       " 'MakerNotes:SharpnessPortrait': 2,\n",
       " 'MakerNotes:SaturationPortrait': 0,\n",
       " 'MakerNotes:ColorTonePortrait': 0,\n",
       " 'MakerNotes:ContrastLandscape': 0,\n",
       " 'MakerNotes:SharpnessLandscape': 4,\n",
       " 'MakerNotes:SaturationLandscape': 0,\n",
       " 'MakerNotes:ColorToneLandscape': 0,\n",
       " 'MakerNotes:ContrastNeutral': 0,\n",
       " 'MakerNotes:SharpnessNeutral': 0,\n",
       " 'MakerNotes:SaturationNeutral': 0,\n",
       " 'MakerNotes:ColorToneNeutral': 0,\n",
       " 'MakerNotes:ContrastFaithful': 0,\n",
       " 'MakerNotes:SharpnessFaithful': 0,\n",
       " 'MakerNotes:SaturationFaithful': 0,\n",
       " 'MakerNotes:ColorToneFaithful': 0,\n",
       " 'MakerNotes:ContrastMonochrome': 0,\n",
       " 'MakerNotes:SharpnessMonochrome': 3,\n",
       " 'MakerNotes:FilterEffectMonochrome': 0,\n",
       " 'MakerNotes:ToningEffectMonochrome': 0,\n",
       " 'MakerNotes:ContrastAuto': 0,\n",
       " 'MakerNotes:SharpnessAuto': 3,\n",
       " 'MakerNotes:SaturationAuto': 0,\n",
       " 'MakerNotes:ColorToneAuto': 0,\n",
       " 'MakerNotes:FilterEffectAuto': -559038737,\n",
       " 'MakerNotes:ToningEffectAuto': -559038737,\n",
       " 'MakerNotes:ContrastUserDef1': 0,\n",
       " 'MakerNotes:SharpnessUserDef1': 3,\n",
       " 'MakerNotes:SaturationUserDef1': 0,\n",
       " 'MakerNotes:ColorToneUserDef1': 0,\n",
       " 'MakerNotes:FilterEffectUserDef1': 0,\n",
       " 'MakerNotes:ToningEffectUserDef1': 0,\n",
       " 'MakerNotes:ContrastUserDef2': 0,\n",
       " 'MakerNotes:SharpnessUserDef2': 3,\n",
       " 'MakerNotes:SaturationUserDef2': 0,\n",
       " 'MakerNotes:ColorToneUserDef2': 0,\n",
       " 'MakerNotes:FilterEffectUserDef2': 0,\n",
       " 'MakerNotes:ToningEffectUserDef2': 0,\n",
       " 'MakerNotes:ContrastUserDef3': 0,\n",
       " 'MakerNotes:SharpnessUserDef3': 3,\n",
       " 'MakerNotes:SaturationUserDef3': 0,\n",
       " 'MakerNotes:ColorToneUserDef3': 0,\n",
       " 'MakerNotes:FilterEffectUserDef3': 0,\n",
       " 'MakerNotes:ToningEffectUserDef3': 0,\n",
       " 'MakerNotes:UserDef1PictureStyle': 135,\n",
       " 'MakerNotes:UserDef2PictureStyle': 135,\n",
       " 'MakerNotes:UserDef3PictureStyle': 135,\n",
       " 'MakerNotes:CanonModelID': 2147484453,\n",
       " 'MakerNotes:ThumbnailImageValidArea': '0 159 7 112',\n",
       " 'MakerNotes:AFAreaMode': 7,\n",
       " 'MakerNotes:NumAFPoints': 31,\n",
       " 'MakerNotes:ValidAFPoints': 19,\n",
       " 'MakerNotes:CanonImageWidth': 5472,\n",
       " 'MakerNotes:CanonImageHeight': 3648,\n",
       " 'MakerNotes:AFImageWidth': 5472,\n",
       " 'MakerNotes:AFImageHeight': 3648,\n",
       " 'MakerNotes:AFAreaWidths': '229 229 229 229 229 229 229 229 229 229 229 229 229 229 229 229 229 229 229 0 0 0 0 0 0 0 0 0 0 0 0',\n",
       " 'MakerNotes:AFAreaHeights': '277 277 277 277 277 277 277 277 277 277 277 277 277 277 277 277 277 277 277 0 0 0 0 0 0 0 0 0 0 0 0',\n",
       " 'MakerNotes:AFAreaXPositions': '-1395 -897 -897 -897 -399 -399 -399 0 0 0 0 0 399 399 399 897 897 897 1395 0 0 0 0 0 0 0 0 0 0 0 0',\n",
       " 'MakerNotes:AFAreaYPositions': '0 401 0 -401 401 0 -401 755 401 0 -401 -755 401 0 -401 401 0 -401 0 0 0 0 0 0 0 0 0 0 0 0 0',\n",
       " 'MakerNotes:AFPointsInFocus': '7 0',\n",
       " 'MakerNotes:AFPointsSelected': '15 0',\n",
       " 'MakerNotes:TimeZone': -300,\n",
       " 'MakerNotes:TimeZoneCity': 27,\n",
       " 'MakerNotes:DaylightSavings': 0,\n",
       " 'MakerNotes:BracketMode': 0,\n",
       " 'MakerNotes:BracketValue': 0,\n",
       " 'MakerNotes:BracketShotNumber': 0,\n",
       " 'MakerNotes:RawJpgSize': 0,\n",
       " 'MakerNotes:WBBracketMode': 0,\n",
       " 'MakerNotes:WBBracketValueAB': 0,\n",
       " 'MakerNotes:WBBracketValueGM': 0,\n",
       " 'MakerNotes:LiveViewShooting': 0,\n",
       " 'MakerNotes:FocusDistanceUpper': 0.56,\n",
       " 'MakerNotes:FocusDistanceLower': 0.52,\n",
       " 'MakerNotes:FlashExposureLock': 0,\n",
       " 'MakerNotes:LensModel': 'EF-S18-135mm f/3.5-5.6 IS STM',\n",
       " 'MakerNotes:InternalSerialNumber': 'FA0260474',\n",
       " 'MakerNotes:DustRemovalData': '(Binary data 1024 bytes, use -b option to extract)',\n",
       " 'MakerNotes:CropLeftMargin': 0,\n",
       " 'MakerNotes:CropRightMargin': 0,\n",
       " 'MakerNotes:CropTopMargin': 0,\n",
       " 'MakerNotes:CropBottomMargin': 0,\n",
       " 'MakerNotes:ExposureLevelIncrements': 0,\n",
       " 'MakerNotes:ISOSpeedIncrements': 1,\n",
       " 'MakerNotes:AEBAutoCancel': 0,\n",
       " 'MakerNotes:AEBSequence': 1,\n",
       " 'MakerNotes:AEBShotCount': '2 1',\n",
       " 'MakerNotes:SafetyShift': 0,\n",
       " 'MakerNotes:AIServoTrackingSensitivity': -2,\n",
       " 'MakerNotes:AccelerationTracking': 0,\n",
       " 'MakerNotes:AIServoFirstImagePriority': 2,\n",
       " 'MakerNotes:AIServoSecondImagePriority': 2,\n",
       " 'MakerNotes:AFAssistBeam': 3,\n",
       " 'MakerNotes:LensDriveNoAF': 0,\n",
       " 'MakerNotes:SelectAFAreaSelectMode': '0 7',\n",
       " 'MakerNotes:AFAreaSelectMethod': 0,\n",
       " 'MakerNotes:OrientationLinkedAFPoint': 1,\n",
       " 'MakerNotes:ManualAFPointSelectPattern': 0,\n",
       " 'MakerNotes:AFPointDisplayDuringFocus': 0,\n",
       " 'MakerNotes:SuperimposedDisplay': 1,\n",
       " 'MakerNotes:AFMicroadjustment': '0 0 0 0 0 0 0 0 0 0 0 0 0 0 0 0',\n",
       " 'MakerNotes:DialDirectionTvAv': 0,\n",
       " 'MakerNotes:MultiFunctionLock': '0 2',\n",
       " 'MakerNotes:ViewfinderWarnings': 3,\n",
       " 'MakerNotes:CustomControls': '0 0 0 2 0 0 0 0 0 0 0 2 0 0 0 0 0 1 0',\n",
       " 'MakerNotes:AspectRatio': 0,\n",
       " 'MakerNotes:CroppedImageWidth': 5472,\n",
       " 'MakerNotes:CroppedImageHeight': 3648,\n",
       " 'MakerNotes:CroppedImageLeft': 0,\n",
       " 'MakerNotes:CroppedImageTop': 0,\n",
       " 'MakerNotes:ToneCurve': 0,\n",
       " 'MakerNotes:Sharpness': 0,\n",
       " 'MakerNotes:SharpnessFrequency': 0,\n",
       " 'MakerNotes:SensorRedLevel': 0,\n",
       " 'MakerNotes:SensorBlueLevel': 0,\n",
       " 'MakerNotes:WhiteBalanceRed': 0,\n",
       " 'MakerNotes:WhiteBalanceBlue': 0,\n",
       " 'MakerNotes:ColorTemperature': 3700,\n",
       " 'MakerNotes:PictureStyle': 133,\n",
       " 'MakerNotes:DigitalGain': 0,\n",
       " 'MakerNotes:WBShiftAB': 0,\n",
       " 'MakerNotes:WBShiftGM': 0,\n",
       " 'MakerNotes:MeasuredRGGB': '1029 1024 1024 683',\n",
       " 'MakerNotes:ColorSpace': 1,\n",
       " 'MakerNotes:VRDOffset': 0,\n",
       " 'MakerNotes:SensorWidth': 5568,\n",
       " 'MakerNotes:SensorHeight': 3708,\n",
       " 'MakerNotes:SensorLeftBorder': 84,\n",
       " 'MakerNotes:SensorTopBorder': 50,\n",
       " 'MakerNotes:SensorRightBorder': 5555,\n",
       " 'MakerNotes:SensorBottomBorder': 3697,\n",
       " 'MakerNotes:BlackMaskLeftBorder': 0,\n",
       " 'MakerNotes:BlackMaskTopBorder': 0,\n",
       " 'MakerNotes:BlackMaskRightBorder': 0,\n",
       " 'MakerNotes:BlackMaskBottomBorder': 0,\n",
       " 'MakerNotes:ColorDataVersion': 10,\n",
       " 'MakerNotes:WB_RGGBLevelsAsShot': '1544 1024 1024 2602',\n",
       " 'MakerNotes:ColorTempAsShot': 3195,\n",
       " 'MakerNotes:WB_RGGBLevelsAuto': '1544 1024 1024 2602',\n",
       " 'MakerNotes:ColorTempAuto': 3195,\n",
       " 'MakerNotes:WB_RGGBLevelsMeasured': '1544 1024 1024 2602',\n",
       " 'MakerNotes:ColorTempMeasured': 3195,\n",
       " 'MakerNotes:WB_RGGBLevelsDaylight': '2101 1024 1024 1672',\n",
       " 'MakerNotes:ColorTempDaylight': 5200,\n",
       " 'MakerNotes:WB_RGGBLevelsShade': '2456 1024 1024 1440',\n",
       " 'MakerNotes:ColorTempShade': 7000,\n",
       " 'MakerNotes:WB_RGGBLevelsCloudy': '2270 1024 1024 1547',\n",
       " 'MakerNotes:ColorTempCloudy': 6000,\n",
       " 'MakerNotes:WB_RGGBLevelsTungsten': '1473 1024 1024 2427',\n",
       " 'MakerNotes:ColorTempTungsten': 3200,\n",
       " 'MakerNotes:WB_RGGBLevelsFluorescent': '1805 1024 1024 2315',\n",
       " 'MakerNotes:ColorTempFluorescent': 3733,\n",
       " 'MakerNotes:WB_RGGBLevelsKelvin': '1675 1024 1024 2136',\n",
       " 'MakerNotes:ColorTempKelvin': 3703,\n",
       " 'MakerNotes:WB_RGGBLevelsFlash': '2330 1024 1024 1547',\n",
       " 'MakerNotes:ColorTempFlash': 6166,\n",
       " 'MakerNotes:AverageBlackLevel': '2048 2048 2048 2048',\n",
       " 'MakerNotes:RawMeasuredRGGB': '3363 3348 3469 2315',\n",
       " 'MakerNotes:PerChannelBlackLevel': '2048 2048 2048 2048',\n",
       " 'MakerNotes:NormalWhiteLevel': 14580,\n",
       " 'MakerNotes:SpecularWhiteLevel': 15092,\n",
       " 'MakerNotes:LinearityUpperMargin': 10000,\n",
       " 'MakerNotes:PictureStyleUserDef': '135 135 135',\n",
       " 'MakerNotes:PictureStylePC': '0 0 0',\n",
       " 'MakerNotes:CustomPictureStyleFileName': '',\n",
       " 'MakerNotes:AFMicroAdjMode': 0,\n",
       " 'MakerNotes:AFMicroAdjValue': 0,\n",
       " 'MakerNotes:VignettingCorrVersion': 0,\n",
       " 'MakerNotes:PeripheralLighting': 1,\n",
       " 'MakerNotes:ChromaticAberrationCorr': 1,\n",
       " 'MakerNotes:PeripheralLightingValue': 40,\n",
       " 'MakerNotes:OriginalImageWidth': 5472,\n",
       " 'MakerNotes:OriginalImageHeight': 3648,\n",
       " 'MakerNotes:PeripheralLightingSetting': 1,\n",
       " 'MakerNotes:ChromaticAberrationSetting': 1,\n",
       " 'MakerNotes:PeripheralIlluminationCorr': 0,\n",
       " 'MakerNotes:AutoLightingOptimizer': 2,\n",
       " 'MakerNotes:HighlightTonePriority': 0,\n",
       " 'MakerNotes:LongExposureNoiseReduction': 2,\n",
       " 'MakerNotes:HighISONoiseReduction': 2,\n",
       " 'MakerNotes:LensSerialNumber': '000023d344',\n",
       " 'MakerNotes:AmbienceSelection': 0,\n",
       " 'MakerNotes:MultiExposure': 0,\n",
       " 'MakerNotes:MultiExposureControl': 0,\n",
       " 'MakerNotes:MultiExposureShots': 0,\n",
       " 'MakerNotes:GrainyBWFilter': -1,\n",
       " 'MakerNotes:SoftFocusFilter': -1,\n",
       " 'MakerNotes:ToyCameraFilter': -1,\n",
       " 'MakerNotes:MiniatureFilter': -1,\n",
       " 'MakerNotes:MiniatureFilterOrientation': 0,\n",
       " 'MakerNotes:MiniatureFilterPosition': 0,\n",
       " 'MakerNotes:MiniatureFilterParameter': 0,\n",
       " 'MakerNotes:FisheyeFilter': -1,\n",
       " 'MakerNotes:PaintingFilter': -1,\n",
       " 'MakerNotes:WatercolorFilter': -1,\n",
       " 'MakerNotes:HDR': 0,\n",
       " 'MakerNotes:HDREffect': 0,\n",
       " 'Composite:Aperture': 4,\n",
       " 'Composite:DriveMode': 0,\n",
       " 'Composite:FileNumber': '100-4159',\n",
       " 'Composite:ISO': 3200,\n",
       " 'Composite:ImageSize': '5472x3648',\n",
       " 'Composite:Lens': 18,\n",
       " 'Composite:LensID': 4142,\n",
       " 'Composite:Megapixels': 19.961856,\n",
       " 'Composite:ScaleFactor35efl': 1.57682466779154,\n",
       " 'Composite:ShootingMode': 2,\n",
       " 'Composite:ShutterSpeed': 0.0125,\n",
       " 'Composite:SubSecCreateDate': '2018:06:28 07:33:29.15',\n",
       " 'Composite:SubSecDateTimeOriginal': '2018:06:28 07:33:29.15',\n",
       " 'Composite:SubSecModifyDate': '2018:06:28 07:33:29.15',\n",
       " 'Composite:WB_RGGBLevels': '1544 1024 1024 2602',\n",
       " 'Composite:BlueBalance': 2.541015625,\n",
       " 'Composite:CircleOfConfusion': 0.0190549153895142,\n",
       " 'Composite:DOF': '0.505485399556273 0.57957333294279',\n",
       " 'Composite:FOV': 50.8752496117349,\n",
       " 'Composite:FocalLength35efl': 37.843792026997,\n",
       " 'Composite:HyperfocalDistance': 7.5571051907815,\n",
       " 'Composite:Lens35efl': 28.3828440202477,\n",
       " 'Composite:LightValue': 5.32192809488736,\n",
       " 'Composite:RedBalance': 1.5078125}"
      ]
     },
     "execution_count": 18,
     "metadata": {},
     "output_type": "execute_result"
    }
   ],
   "source": [
    "EXIF"
   ]
  },
  {
   "cell_type": "code",
   "execution_count": 19,
   "metadata": {},
   "outputs": [
    {
     "data": {
      "text/plain": [
       "'{\"SourceFile\": \"/mnt/vault/pictures/sync/2018-06-30T15_59_35-04_00/DCIM/100CANON/IMG_4159.CR2\", \"ExifTool:ExifToolVersion\": 10.8, \"File:FileName\": \"IMG_4159.CR2\", \"File:Directory\": \"/mnt/vault/pictures/sync/2018-06-30T15_59_35-04_00/DCIM/100CANON\", \"File:FileSize\": 27750520, \"File:FileModifyDate\": \"2018:06:30 16:00:04-04:00\", \"File:FileAccessDate\": \"2018:07:01 01:07:33-04:00\", \"File:FileInodeChangeDate\": \"2018:06:30 16:29:54-04:00\", \"File:FilePermissions\": 700, \"File:FileType\": \"CR2\", \"File:FileTypeExtension\": \"CR2\", \"File:MIMEType\": \"image/x-canon-cr2\", \"File:ExifByteOrder\": \"II\", \"EXIF:ImageWidth\": 5472, \"EXIF:ImageHeight\": 3648, \"EXIF:BitsPerSample\": \"8 8 8\", \"EXIF:Compression\": 6, \"EXIF:Make\": \"Canon\", \"EXIF:Model\": \"Canon EOS 70D\", \"EXIF:PreviewImageStart\": 92956, \"EXIF:Orientation\": 1, \"EXIF:PreviewImageLength\": 2844390, \"EXIF:XResolution\": 72, \"EXIF:YResolution\": 72, \"EXIF:ResolutionUnit\": 2, \"EXIF:ModifyDate\": \"2018:06:28 07:33:29\", \"EXIF:Artist\": \"Jedediah Frey\", \"EXIF:Copyright\": \"Jedediah Frey\", \"EXIF:ExposureTime\": 0.0125, \"EXIF:FNumber\": 4, \"EXIF:ExposureProgram\": 4, \"EXIF:ISO\": 3200, \"EXIF:SensitivityType\": 2, \"EXIF:RecommendedExposureIndex\": 3200, \"EXIF:ExifVersion\": \"0230\", \"EXIF:DateTimeOriginal\": \"2018:06:28 07:33:29\", \"EXIF:CreateDate\": \"2018:06:28 07:33:29\", \"EXIF:ComponentsConfiguration\": \"1 2 3 0\", \"EXIF:ShutterSpeedValue\": 0.0120485220734995, \"EXIF:ApertureValue\": 4, \"EXIF:ExposureCompensation\": -0.3333333333, \"EXIF:MeteringMode\": 2, \"EXIF:Flash\": 16, \"EXIF:FocalLength\": 24, \"EXIF:UserComment\": \"\", \"EXIF:SubSecTime\": 15, \"EXIF:SubSecTimeOriginal\": 15, \"EXIF:SubSecTimeDigitized\": 15, \"EXIF:FlashpixVersion\": \"0100\", \"EXIF:ColorSpace\": 1, \"EXIF:ExifImageWidth\": 5472, \"EXIF:ExifImageHeight\": 3648, \"EXIF:InteropIndex\": \"R98\", \"EXIF:InteropVersion\": \"0100\", \"EXIF:FocalPlaneXResolution\": 6086.76307, \"EXIF:FocalPlaneYResolution\": 6090.15025, \"EXIF:FocalPlaneResolutionUnit\": 2, \"EXIF:CustomRendered\": 0, \"EXIF:ExposureMode\": 0, \"EXIF:WhiteBalance\": 0, \"EXIF:SceneCaptureType\": 0, \"EXIF:OwnerName\": \"\", \"EXIF:SerialNumber\": \"042021005931\", \"EXIF:LensInfo\": \"18 135 0 0\", \"EXIF:LensModel\": \"EF-S18-135mm f/3.5-5.6 IS STM\", \"EXIF:LensSerialNumber\": \"000023d344\", \"EXIF:GPSVersionID\": \"2 3 0 0\", \"EXIF:ThumbnailOffset\": 80600, \"EXIF:ThumbnailLength\": 12355, \"EXIF:PhotometricInterpretation\": 2, \"EXIF:SamplesPerPixel\": 3, \"EXIF:RowsPerStrip\": 309, \"EXIF:PlanarConfiguration\": 1, \"EXIF:StripOffsets\": 3797604, \"EXIF:StripByteCounts\": 23952916, \"EXIF:CR2CFAPattern\": \"0 1 1 2\", \"EXIF:RawImageSegmentation\": \"1 2784 2784\", \"EXIF:SRawType\": 1, \"EXIF:PreviewImage\": \"(Binary data 2844390 bytes, use -b option to extract)\", \"EXIF:ThumbnailImage\": \"(Binary data 12355 bytes, use -b option to extract)\", \"XMP:Rating\": 0, \"MakerNotes:MacroMode\": 2, \"MakerNotes:SelfTimer\": 0, \"MakerNotes:Quality\": 4, \"MakerNotes:CanonFlashMode\": 0, \"MakerNotes:ContinuousDrive\": 5, \"MakerNotes:FocusMode\": 1, \"MakerNotes:RecordMode\": 6, \"MakerNotes:CanonImageSize\": -1, \"MakerNotes:EasyMode\": 1, \"MakerNotes:DigitalZoom\": 0, \"MakerNotes:Contrast\": 0, \"MakerNotes:Saturation\": 0, \"MakerNotes:MeteringMode\": 5, \"MakerNotes:FocusRange\": 2, \"MakerNotes:CanonExposureMode\": 2, \"MakerNotes:LensType\": 4142, \"MakerNotes:MaxFocalLength\": 135, \"MakerNotes:MinFocalLength\": 18, \"MakerNotes:FocalUnits\": 1, \"MakerNotes:MaxAperture\": 3.83041312279429, \"MakerNotes:MinAperture\": 24.675373206527, \"MakerNotes:FlashActivity\": 0, \"MakerNotes:FlashBits\": 0, \"MakerNotes:ZoomSourceWidth\": 0, \"MakerNotes:ZoomTargetWidth\": 0, \"MakerNotes:ManualFlashOutput\": 0, \"MakerNotes:ColorTone\": 0, \"MakerNotes:SRAWQuality\": 0, \"MakerNotes:FocalLength\": 24, \"MakerNotes:AutoISO\": 100, \"MakerNotes:BaseISO\": 3200, \"MakerNotes:MeasuredEV\": 3.625, \"MakerNotes:TargetAperture\": 4, \"MakerNotes:TargetExposureTime\": 0.0124015707185016, \"MakerNotes:ExposureCompensation\": -0.333333333333333, \"MakerNotes:WhiteBalance\": 0, \"MakerNotes:SlowShutter\": 3, \"MakerNotes:SequenceNumber\": 0, \"MakerNotes:OpticalZoomCode\": 8, \"MakerNotes:CameraTemperature\": 23, \"MakerNotes:FlashGuideNumber\": 0, \"MakerNotes:FlashExposureComp\": 0, \"MakerNotes:AutoExposureBracketing\": 0, \"MakerNotes:AEBBracketValue\": 0, \"MakerNotes:ControlMode\": 1, \"MakerNotes:FNumber\": 3.83041312279429, \"MakerNotes:ExposureTime\": 0.0124015707185016, \"MakerNotes:MeasuredEV2\": 4, \"MakerNotes:BulbDuration\": 0, \"MakerNotes:CameraType\": 248, \"MakerNotes:NDFilter\": -1, \"MakerNotes:CanonImageType\": \"Canon EOS 70D\", \"MakerNotes:CanonFirmwareVersion\": \"Firmware Version 1.1.1\", \"MakerNotes:OwnerName\": \"\", \"MakerNotes:ISO\": 3200, \"MakerNotes:CameraOrientation\": 0, \"MakerNotes:FirmwareVersion\": \"1.1.1\", \"MakerNotes:FileIndex\": 4159, \"MakerNotes:DirectoryIndex\": 100, \"MakerNotes:ContrastStandard\": 0, \"MakerNotes:SharpnessStandard\": 3, \"MakerNotes:SaturationStandard\": 0, \"MakerNotes:ColorToneStandard\": 0, \"MakerNotes:ContrastPortrait\": 0, \"MakerNotes:SharpnessPortrait\": 2, \"MakerNotes:SaturationPortrait\": 0, \"MakerNotes:ColorTonePortrait\": 0, \"MakerNotes:ContrastLandscape\": 0, \"MakerNotes:SharpnessLandscape\": 4, \"MakerNotes:SaturationLandscape\": 0, \"MakerNotes:ColorToneLandscape\": 0, \"MakerNotes:ContrastNeutral\": 0, \"MakerNotes:SharpnessNeutral\": 0, \"MakerNotes:SaturationNeutral\": 0, \"MakerNotes:ColorToneNeutral\": 0, \"MakerNotes:ContrastFaithful\": 0, \"MakerNotes:SharpnessFaithful\": 0, \"MakerNotes:SaturationFaithful\": 0, \"MakerNotes:ColorToneFaithful\": 0, \"MakerNotes:ContrastMonochrome\": 0, \"MakerNotes:SharpnessMonochrome\": 3, \"MakerNotes:FilterEffectMonochrome\": 0, \"MakerNotes:ToningEffectMonochrome\": 0, \"MakerNotes:ContrastAuto\": 0, \"MakerNotes:SharpnessAuto\": 3, \"MakerNotes:SaturationAuto\": 0, \"MakerNotes:ColorToneAuto\": 0, \"MakerNotes:FilterEffectAuto\": -559038737, \"MakerNotes:ToningEffectAuto\": -559038737, \"MakerNotes:ContrastUserDef1\": 0, \"MakerNotes:SharpnessUserDef1\": 3, \"MakerNotes:SaturationUserDef1\": 0, \"MakerNotes:ColorToneUserDef1\": 0, \"MakerNotes:FilterEffectUserDef1\": 0, \"MakerNotes:ToningEffectUserDef1\": 0, \"MakerNotes:ContrastUserDef2\": 0, \"MakerNotes:SharpnessUserDef2\": 3, \"MakerNotes:SaturationUserDef2\": 0, \"MakerNotes:ColorToneUserDef2\": 0, \"MakerNotes:FilterEffectUserDef2\": 0, \"MakerNotes:ToningEffectUserDef2\": 0, \"MakerNotes:ContrastUserDef3\": 0, \"MakerNotes:SharpnessUserDef3\": 3, \"MakerNotes:SaturationUserDef3\": 0, \"MakerNotes:ColorToneUserDef3\": 0, \"MakerNotes:FilterEffectUserDef3\": 0, \"MakerNotes:ToningEffectUserDef3\": 0, \"MakerNotes:UserDef1PictureStyle\": 135, \"MakerNotes:UserDef2PictureStyle\": 135, \"MakerNotes:UserDef3PictureStyle\": 135, \"MakerNotes:CanonModelID\": 2147484453, \"MakerNotes:ThumbnailImageValidArea\": \"0 159 7 112\", \"MakerNotes:AFAreaMode\": 7, \"MakerNotes:NumAFPoints\": 31, \"MakerNotes:ValidAFPoints\": 19, \"MakerNotes:CanonImageWidth\": 5472, \"MakerNotes:CanonImageHeight\": 3648, \"MakerNotes:AFImageWidth\": 5472, \"MakerNotes:AFImageHeight\": 3648, \"MakerNotes:AFAreaWidths\": \"229 229 229 229 229 229 229 229 229 229 229 229 229 229 229 229 229 229 229 0 0 0 0 0 0 0 0 0 0 0 0\", \"MakerNotes:AFAreaHeights\": \"277 277 277 277 277 277 277 277 277 277 277 277 277 277 277 277 277 277 277 0 0 0 0 0 0 0 0 0 0 0 0\", \"MakerNotes:AFAreaXPositions\": \"-1395 -897 -897 -897 -399 -399 -399 0 0 0 0 0 399 399 399 897 897 897 1395 0 0 0 0 0 0 0 0 0 0 0 0\", \"MakerNotes:AFAreaYPositions\": \"0 401 0 -401 401 0 -401 755 401 0 -401 -755 401 0 -401 401 0 -401 0 0 0 0 0 0 0 0 0 0 0 0 0\", \"MakerNotes:AFPointsInFocus\": \"7 0\", \"MakerNotes:AFPointsSelected\": \"15 0\", \"MakerNotes:TimeZone\": -300, \"MakerNotes:TimeZoneCity\": 27, \"MakerNotes:DaylightSavings\": 0, \"MakerNotes:BracketMode\": 0, \"MakerNotes:BracketValue\": 0, \"MakerNotes:BracketShotNumber\": 0, \"MakerNotes:RawJpgSize\": 0, \"MakerNotes:WBBracketMode\": 0, \"MakerNotes:WBBracketValueAB\": 0, \"MakerNotes:WBBracketValueGM\": 0, \"MakerNotes:LiveViewShooting\": 0, \"MakerNotes:FocusDistanceUpper\": 0.56, \"MakerNotes:FocusDistanceLower\": 0.52, \"MakerNotes:FlashExposureLock\": 0, \"MakerNotes:LensModel\": \"EF-S18-135mm f/3.5-5.6 IS STM\", \"MakerNotes:InternalSerialNumber\": \"FA0260474\", \"MakerNotes:DustRemovalData\": \"(Binary data 1024 bytes, use -b option to extract)\", \"MakerNotes:CropLeftMargin\": 0, \"MakerNotes:CropRightMargin\": 0, \"MakerNotes:CropTopMargin\": 0, \"MakerNotes:CropBottomMargin\": 0, \"MakerNotes:ExposureLevelIncrements\": 0, \"MakerNotes:ISOSpeedIncrements\": 1, \"MakerNotes:AEBAutoCancel\": 0, \"MakerNotes:AEBSequence\": 1, \"MakerNotes:AEBShotCount\": \"2 1\", \"MakerNotes:SafetyShift\": 0, \"MakerNotes:AIServoTrackingSensitivity\": -2, \"MakerNotes:AccelerationTracking\": 0, \"MakerNotes:AIServoFirstImagePriority\": 2, \"MakerNotes:AIServoSecondImagePriority\": 2, \"MakerNotes:AFAssistBeam\": 3, \"MakerNotes:LensDriveNoAF\": 0, \"MakerNotes:SelectAFAreaSelectMode\": \"0 7\", \"MakerNotes:AFAreaSelectMethod\": 0, \"MakerNotes:OrientationLinkedAFPoint\": 1, \"MakerNotes:ManualAFPointSelectPattern\": 0, \"MakerNotes:AFPointDisplayDuringFocus\": 0, \"MakerNotes:SuperimposedDisplay\": 1, \"MakerNotes:AFMicroadjustment\": \"0 0 0 0 0 0 0 0 0 0 0 0 0 0 0 0\", \"MakerNotes:DialDirectionTvAv\": 0, \"MakerNotes:MultiFunctionLock\": \"0 2\", \"MakerNotes:ViewfinderWarnings\": 3, \"MakerNotes:CustomControls\": \"0 0 0 2 0 0 0 0 0 0 0 2 0 0 0 0 0 1 0\", \"MakerNotes:AspectRatio\": 0, \"MakerNotes:CroppedImageWidth\": 5472, \"MakerNotes:CroppedImageHeight\": 3648, \"MakerNotes:CroppedImageLeft\": 0, \"MakerNotes:CroppedImageTop\": 0, \"MakerNotes:ToneCurve\": 0, \"MakerNotes:Sharpness\": 0, \"MakerNotes:SharpnessFrequency\": 0, \"MakerNotes:SensorRedLevel\": 0, \"MakerNotes:SensorBlueLevel\": 0, \"MakerNotes:WhiteBalanceRed\": 0, \"MakerNotes:WhiteBalanceBlue\": 0, \"MakerNotes:ColorTemperature\": 3700, \"MakerNotes:PictureStyle\": 133, \"MakerNotes:DigitalGain\": 0, \"MakerNotes:WBShiftAB\": 0, \"MakerNotes:WBShiftGM\": 0, \"MakerNotes:MeasuredRGGB\": \"1029 1024 1024 683\", \"MakerNotes:ColorSpace\": 1, \"MakerNotes:VRDOffset\": 0, \"MakerNotes:SensorWidth\": 5568, \"MakerNotes:SensorHeight\": 3708, \"MakerNotes:SensorLeftBorder\": 84, \"MakerNotes:SensorTopBorder\": 50, \"MakerNotes:SensorRightBorder\": 5555, \"MakerNotes:SensorBottomBorder\": 3697, \"MakerNotes:BlackMaskLeftBorder\": 0, \"MakerNotes:BlackMaskTopBorder\": 0, \"MakerNotes:BlackMaskRightBorder\": 0, \"MakerNotes:BlackMaskBottomBorder\": 0, \"MakerNotes:ColorDataVersion\": 10, \"MakerNotes:WB_RGGBLevelsAsShot\": \"1544 1024 1024 2602\", \"MakerNotes:ColorTempAsShot\": 3195, \"MakerNotes:WB_RGGBLevelsAuto\": \"1544 1024 1024 2602\", \"MakerNotes:ColorTempAuto\": 3195, \"MakerNotes:WB_RGGBLevelsMeasured\": \"1544 1024 1024 2602\", \"MakerNotes:ColorTempMeasured\": 3195, \"MakerNotes:WB_RGGBLevelsDaylight\": \"2101 1024 1024 1672\", \"MakerNotes:ColorTempDaylight\": 5200, \"MakerNotes:WB_RGGBLevelsShade\": \"2456 1024 1024 1440\", \"MakerNotes:ColorTempShade\": 7000, \"MakerNotes:WB_RGGBLevelsCloudy\": \"2270 1024 1024 1547\", \"MakerNotes:ColorTempCloudy\": 6000, \"MakerNotes:WB_RGGBLevelsTungsten\": \"1473 1024 1024 2427\", \"MakerNotes:ColorTempTungsten\": 3200, \"MakerNotes:WB_RGGBLevelsFluorescent\": \"1805 1024 1024 2315\", \"MakerNotes:ColorTempFluorescent\": 3733, \"MakerNotes:WB_RGGBLevelsKelvin\": \"1675 1024 1024 2136\", \"MakerNotes:ColorTempKelvin\": 3703, \"MakerNotes:WB_RGGBLevelsFlash\": \"2330 1024 1024 1547\", \"MakerNotes:ColorTempFlash\": 6166, \"MakerNotes:AverageBlackLevel\": \"2048 2048 2048 2048\", \"MakerNotes:RawMeasuredRGGB\": \"3363 3348 3469 2315\", \"MakerNotes:PerChannelBlackLevel\": \"2048 2048 2048 2048\", \"MakerNotes:NormalWhiteLevel\": 14580, \"MakerNotes:SpecularWhiteLevel\": 15092, \"MakerNotes:LinearityUpperMargin\": 10000, \"MakerNotes:PictureStyleUserDef\": \"135 135 135\", \"MakerNotes:PictureStylePC\": \"0 0 0\", \"MakerNotes:CustomPictureStyleFileName\": \"\", \"MakerNotes:AFMicroAdjMode\": 0, \"MakerNotes:AFMicroAdjValue\": 0, \"MakerNotes:VignettingCorrVersion\": 0, \"MakerNotes:PeripheralLighting\": 1, \"MakerNotes:ChromaticAberrationCorr\": 1, \"MakerNotes:PeripheralLightingValue\": 40, \"MakerNotes:OriginalImageWidth\": 5472, \"MakerNotes:OriginalImageHeight\": 3648, \"MakerNotes:PeripheralLightingSetting\": 1, \"MakerNotes:ChromaticAberrationSetting\": 1, \"MakerNotes:PeripheralIlluminationCorr\": 0, \"MakerNotes:AutoLightingOptimizer\": 2, \"MakerNotes:HighlightTonePriority\": 0, \"MakerNotes:LongExposureNoiseReduction\": 2, \"MakerNotes:HighISONoiseReduction\": 2, \"MakerNotes:LensSerialNumber\": \"000023d344\", \"MakerNotes:AmbienceSelection\": 0, \"MakerNotes:MultiExposure\": 0, \"MakerNotes:MultiExposureControl\": 0, \"MakerNotes:MultiExposureShots\": 0, \"MakerNotes:GrainyBWFilter\": -1, \"MakerNotes:SoftFocusFilter\": -1, \"MakerNotes:ToyCameraFilter\": -1, \"MakerNotes:MiniatureFilter\": -1, \"MakerNotes:MiniatureFilterOrientation\": 0, \"MakerNotes:MiniatureFilterPosition\": 0, \"MakerNotes:MiniatureFilterParameter\": 0, \"MakerNotes:FisheyeFilter\": -1, \"MakerNotes:PaintingFilter\": -1, \"MakerNotes:WatercolorFilter\": -1, \"MakerNotes:HDR\": 0, \"MakerNotes:HDREffect\": 0, \"Composite:Aperture\": 4, \"Composite:DriveMode\": 0, \"Composite:FileNumber\": \"100-4159\", \"Composite:ISO\": 3200, \"Composite:ImageSize\": \"5472x3648\", \"Composite:Lens\": 18, \"Composite:LensID\": 4142, \"Composite:Megapixels\": 19.961856, \"Composite:ScaleFactor35efl\": 1.57682466779154, \"Composite:ShootingMode\": 2, \"Composite:ShutterSpeed\": 0.0125, \"Composite:SubSecCreateDate\": \"2018:06:28 07:33:29.15\", \"Composite:SubSecDateTimeOriginal\": \"2018:06:28 07:33:29.15\", \"Composite:SubSecModifyDate\": \"2018:06:28 07:33:29.15\", \"Composite:WB_RGGBLevels\": \"1544 1024 1024 2602\", \"Composite:BlueBalance\": 2.541015625, \"Composite:CircleOfConfusion\": 0.0190549153895142, \"Composite:DOF\": \"0.505485399556273 0.57957333294279\", \"Composite:FOV\": 50.8752496117349, \"Composite:FocalLength35efl\": 37.843792026997, \"Composite:HyperfocalDistance\": 7.5571051907815, \"Composite:Lens35efl\": 28.3828440202477, \"Composite:LightValue\": 5.32192809488736, \"Composite:RedBalance\": 1.5078125}'"
      ]
     },
     "execution_count": 19,
     "metadata": {},
     "output_type": "execute_result"
    }
   ],
   "source": [
    "json.dumps(EXIF)"
   ]
  },
  {
   "cell_type": "code",
   "execution_count": 20,
   "metadata": {},
   "outputs": [
    {
     "data": {
      "text/plain": [
       "Media[new:1]"
      ]
     },
     "execution_count": 20,
     "metadata": {},
     "output_type": "execute_result"
    }
   ],
   "source": [
    "Media(xxhash=XXHASH, size=SIZE, exif=EXIF)"
   ]
  },
  {
   "cell_type": "code",
   "execution_count": 21,
   "metadata": {},
   "outputs": [],
   "source": [
    "db.commit()"
   ]
  },
  {
   "cell_type": "code",
   "execution_count": 22,
   "metadata": {},
   "outputs": [],
   "source": [
    "M = select(c for c in Media if c.id == 1) "
   ]
  },
  {
   "cell_type": "code",
   "execution_count": 23,
   "metadata": {},
   "outputs": [],
   "source": [
    "for m in M:\n",
    "    break"
   ]
  },
  {
   "cell_type": "code",
   "execution_count": 24,
   "metadata": {},
   "outputs": [
    {
     "data": {
      "text/plain": [
       "Media[1]"
      ]
     },
     "execution_count": 24,
     "metadata": {},
     "output_type": "execute_result"
    }
   ],
   "source": [
    "m"
   ]
  },
  {
   "cell_type": "code",
   "execution_count": 25,
   "metadata": {},
   "outputs": [
    {
     "data": {
      "text/plain": [
       "100"
      ]
     },
     "execution_count": 25,
     "metadata": {},
     "output_type": "execute_result"
    }
   ],
   "source": [
    "m.exif[\"EXIF:ISO\"]"
   ]
  },
  {
   "cell_type": "code",
   "execution_count": 26,
   "metadata": {},
   "outputs": [],
   "source": [
    "M = select(c for c in Media if m.exif[\"EXIF:ISO\"] == 100)"
   ]
  },
  {
   "cell_type": "code",
   "execution_count": 27,
   "metadata": {},
   "outputs": [],
   "source": [
    "for m in M:\n",
    "    break"
   ]
  },
  {
   "cell_type": "code",
   "execution_count": 28,
   "metadata": {},
   "outputs": [
    {
     "data": {
      "text/plain": [
       "Media[1]"
      ]
     },
     "execution_count": 28,
     "metadata": {},
     "output_type": "execute_result"
    }
   ],
   "source": [
    "m"
   ]
  },
  {
   "cell_type": "code",
   "execution_count": null,
   "metadata": {},
   "outputs": [],
   "source": []
  }
 ],
 "metadata": {
  "kernelspec": {
   "display_name": "Python 3",
   "language": "python",
   "name": "python3"
  },
  "language_info": {
   "codemirror_mode": {
    "name": "ipython",
    "version": 3
   },
   "file_extension": ".py",
   "mimetype": "text/x-python",
   "name": "python",
   "nbconvert_exporter": "python",
   "pygments_lexer": "ipython3",
   "version": "3.6.5"
  }
 },
 "nbformat": 4,
 "nbformat_minor": 2
}
