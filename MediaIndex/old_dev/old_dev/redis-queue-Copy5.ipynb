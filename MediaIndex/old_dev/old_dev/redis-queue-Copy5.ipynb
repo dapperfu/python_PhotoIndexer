{
 "cells": [
  {
   "cell_type": "code",
   "execution_count": null,
   "metadata": {},
   "outputs": [],
   "source": [
    "import configparser\n",
    "import json\n",
    "\n",
    "import exiftool\n",
    "import get_files\n",
    "import redis\n",
    "import rq\n",
    "import xxhash\n",
    "\n",
    "import utils"
   ]
  },
  {
   "cell_type": "code",
   "execution_count": 1,
   "metadata": {},
   "outputs": [],
   "source": [
    "config = configparser.ConfigParser()config.read(\"config.ini\")r = redis.StrictRedis(    host=config[\"redis\"][\"host\"],    port=config[\"redis\"][\"port\"],    db=config[\"redis\"][\"rq\"],)q = rq.Queue(connection=r)"
   ]
  }
 ],
 "metadata": {
  "kernelspec": {
   "display_name": "Python 3",
   "language": "python",
   "name": "python3"
  },
  "language_info": {
   "codemirror_mode": {
    "name": "ipython",
    "version": 3
   },
   "file_extension": ".py",
   "mimetype": "text/x-python",
   "name": "python",
   "nbconvert_exporter": "python",
   "pygments_lexer": "ipython3",
   "version": "3.6.5"
  }
 },
 "nbformat": 4,
 "nbformat_minor": 2
}
