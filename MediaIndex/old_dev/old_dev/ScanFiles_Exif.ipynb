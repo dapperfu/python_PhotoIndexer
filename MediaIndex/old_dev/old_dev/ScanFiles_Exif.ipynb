{
 "cells": [
  {
   "cell_type": "code",
   "execution_count": null,
   "metadata": {},
   "outputs": [],
   "source": [
    "import exiftool\n",
    "import exifyay\n",
    "import get_files\n",
    "import py.path\n",
    "import xxhash\n",
    "\n",
    "import_dirs = get_files.get_dirs(SCAN_ROOT)\n",
    "for import_dir in import_dirs:\n",
    "media_files = get_files.get_files(import_dir)"
   ]
  },
  {
   "cell_type": "code",
   "execution_count": 9,
   "metadata": {},
   "outputs": [
    {
     "data": {
      "text/plain": [
       "'/projects/PhotoStuffs/get_files/get_files/__init__.py'"
      ]
     },
     "execution_count": 9,
     "metadata": {},
     "output_type": "execute_result"
    }
   ],
   "source": [
    "get_files.__file__\n"
   ]
  },
  {
   "cell_type": "code",
   "execution_count": 2,
   "metadata": {},
   "outputs": [],
   "source": [
    "SCAN_ROOT = \"/pictures/\""
   ]
  },
  {
   "cell_type": "code",
   "execution_count": 3,
   "metadata": {},
   "outputs": [],
   "source": [
    "    break"
   ]
  },
  {
   "cell_type": "code",
   "execution_count": 5,
   "metadata": {},
   "outputs": [],
   "source": [
    "for media_file in media_files:\n",
    "    break\n"
   ]
  },
  {
   "cell_type": "code",
   "execution_count": 6,
   "metadata": {},
   "outputs": [
    {
     "data": {
      "text/plain": [
       "'/pictures/2018-03-02T16:00:01-05:00/20170828_114942.mp4'"
      ]
     },
     "execution_count": 6,
     "metadata": {},
     "output_type": "execute_result"
    }
   ],
   "source": [
    "media_file\n"
   ]
  },
  {
   "cell_type": "code",
   "execution_count": 7,
   "metadata": {},
   "outputs": [
    {
     "data": {
      "text/plain": [
       "{'ExifTool:ExifToolVersion': 10.1,\n",
       " 'File:Directory': '/pictures/2018-03-02T16:00:01-05:00',\n",
       " 'File:FileAccessDate': '2018:03:02 17:27:46-05:00',\n",
       " 'File:FileInodeChangeDate': '2018:03:02 16:57:38-05:00',\n",
       " 'File:FileModifyDate': '2018:03:02 16:57:38-05:00',\n",
       " 'File:FileName': '20170828_114942.mp4',\n",
       " 'File:FilePermissions': 755,\n",
       " 'File:FileSize': 12845056,\n",
       " 'File:FileType': 'MP4',\n",
       " 'File:FileTypeExtension': 'MP4',\n",
       " 'File:MIMEType': 'video/mp4',\n",
       " 'QuickTime:CompatibleBrands': ['isom', 'mp42'],\n",
       " 'QuickTime:MajorBrand': 'mp42',\n",
       " 'QuickTime:MinorVersion': '0.0.0',\n",
       " 'QuickTime:MovieDataOffset': 32,\n",
       " 'QuickTime:MovieDataSize': 29206747,\n",
       " 'SourceFile': '/pictures/2018-03-02T16:00:01-05:00/20170828_114942.mp4'}"
      ]
     },
     "execution_count": 7,
     "metadata": {},
     "output_type": "execute_result"
    }
   ],
   "source": [
    "with exiftool.ExifTool() as et:\n",
    "    metadata = et.get_metadata_batch([media_file])\n",
    "for d in metadata:\n",
    "    break\n",
    "d\n"
   ]
  },
  {
   "cell_type": "code",
   "execution_count": 8,
   "metadata": {},
   "outputs": [],
   "source": [
    "media_file_ = py.path.local(media_file)\n"
   ]
  },
  {
   "cell_type": "code",
   "execution_count": null,
   "metadata": {},
   "outputs": [],
   "source": [
    "media_file_.ext\n"
   ]
  },
  {
   "cell_type": "code",
   "execution_count": null,
   "metadata": {},
   "outputs": [],
   "source": [
    "media_file_.check()\n"
   ]
  },
  {
   "cell_type": "code",
   "execution_count": null,
   "metadata": {},
   "outputs": [],
   "source": [
    "?media_file_.computehash()"
   ]
  },
  {
   "cell_type": "code",
   "execution_count": null,
   "metadata": {},
   "outputs": [],
   "source": [
    "media_file_.computehash(hashtype=\"md5\")\n"
   ]
  },
  {
   "cell_type": "code",
   "execution_count": null,
   "metadata": {},
   "outputs": [],
   "source": [
    "media_file_.computehash(hashtype=\"sha1\")\n"
   ]
  },
  {
   "cell_type": "code",
   "execution_count": null,
   "metadata": {},
   "outputs": [],
   "source": [
    "media_file_.computehash(hashtype=\"sha256\")\n"
   ]
  },
  {
   "cell_type": "code",
   "execution_count": null,
   "metadata": {},
   "outputs": [],
   "source": [
    "media_file_.computehash(hashtype=\"sha512\")\n"
   ]
  },
  {
   "cell_type": "code",
   "execution_count": null,
   "metadata": {},
   "outputs": [],
   "source": [
    "with open(media_file, \"rb\") as fid:\n",
    "\n",
    "    block = afile.read(blocksize)\n"
   ]
  },
  {
   "cell_type": "code",
   "execution_count": null,
   "metadata": {},
   "outputs": [],
   "source": [
    "def get_xxhash(fname):\n",
    "    hash64 = xxhash.xxh64()\n",
    "    with open(fname, \"rb\") as f:\n",
    "        for chunk in iter(lambda: f.read(4096), b\"\"):\n",
    "            hash64.update(chunk)\n",
    "    return hash64.hexdigest()\n"
   ]
  },
  {
   "cell_type": "code",
   "execution_count": null,
   "metadata": {},
   "outputs": [],
   "source": [
    "%%timeit\n",
    "get_xxhash(media_file)"
   ]
  },
  {
   "cell_type": "code",
   "execution_count": null,
   "metadata": {},
   "outputs": [],
   "source": [
    "%%timeit\n",
    "media_file_.computehash(hashtype=\"md5\")"
   ]
  },
  {
   "cell_type": "code",
   "execution_count": null,
   "metadata": {},
   "outputs": [],
   "source": [
    "%%timeit\n",
    "media_file_.computehash(hashtype=\"sha1\")"
   ]
  },
  {
   "cell_type": "code",
   "execution_count": null,
   "metadata": {},
   "outputs": [],
   "source": [
    "%%timeit\n",
    "media_file_.computehash(hashtype=\"sha256\")"
   ]
  },
  {
   "cell_type": "code",
   "execution_count": null,
   "metadata": {},
   "outputs": [],
   "source": [
    "%%timeit\n",
    "media_file_.computehash(hashtype=\"sha512\")"
   ]
  }
 ],
 "metadata": {
  "kernelspec": {
   "display_name": "Python 3",
   "language": "python",
   "name": "python3"
  },
  "language_info": {
   "codemirror_mode": {
    "name": "ipython",
    "version": 3
   },
   "file_extension": ".py",
   "mimetype": "text/x-python",
   "name": "python",
   "nbconvert_exporter": "python",
   "pygments_lexer": "ipython3",
   "version": "3.5.2"
  }
 },
 "nbformat": 4,
 "nbformat_minor": 2
}
