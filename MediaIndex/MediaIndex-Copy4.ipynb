{
 "cells": [
  {
   "cell_type": "code",
   "execution_count": 1,
   "metadata": {},
   "outputs": [],
   "source": [
    "from pony.orm import *\n",
    "import os\n",
    "import json"
   ]
  },
  {
   "cell_type": "code",
   "execution_count": 2,
   "metadata": {},
   "outputs": [],
   "source": [
    "from utils import get_xxhash"
   ]
  },
  {
   "cell_type": "code",
   "execution_count": 15,
   "metadata": {},
   "outputs": [],
   "source": [
    "db.drop_all_tables(with_all_data=True)"
   ]
  },
  {
   "cell_type": "code",
   "execution_count": 16,
   "metadata": {},
   "outputs": [],
   "source": [
    "db = Database(provider=\"mysql\",\n",
    "                 host=\"172.16.0.73\",\n",
    "                 user=\"media\",\n",
    "                 passwd=\"aterinee\",\n",
    "                 db=\"media\")\n",
    "\n",
    "class Media(db.Entity):\n",
    "    xxhash = Required(str, unique=True)\n",
    "    size = Required(int)\n",
    "    exif = Optional(LongStr, lazy=True)\n",
    "    _table_options_ = {\n",
    "        'ENGINE': 'InnoDB',\n",
    "        'ENCRYPTION': \"'N'\",\n",
    "        'AUTO_INCREMENT': 10\n",
    "    }\n",
    "\n",
    "\n",
    "db.generate_mapping(create_tables=True)"
   ]
  },
  {
   "cell_type": "code",
   "execution_count": 5,
   "metadata": {},
   "outputs": [],
   "source": [
    "import os \n",
    "import exiftool\n",
    "import get_files\n",
    "import xxhash\n",
    "import py.path\n",
    "import_dir = \"/pictures/2018-03-02T16:00:01-05:00/DCIM\""
   ]
  },
  {
   "cell_type": "code",
   "execution_count": 6,
   "metadata": {},
   "outputs": [],
   "source": [
    "IMAGE_EXT = [\".cr2\", \".dng\", \".jpg\"]\n",
    "VIDEO_EXT = [\".mp4\"]"
   ]
  },
  {
   "cell_type": "code",
   "execution_count": 7,
   "metadata": {},
   "outputs": [],
   "source": [
    "et = exiftool.ExifTool()\n",
    "et.start()"
   ]
  },
  {
   "cell_type": "code",
   "execution_count": 21,
   "metadata": {},
   "outputs": [],
   "source": [
    "media_files = get_files.get_files(import_dir, decorate=py.path.local)\n",
    "for media_file in media_files:\n",
    "    try:\n",
    "        m = Media(\n",
    "            xxhash=str(media_file),\n",
    "            size=media_file.size(),\n",
    "            exif=json.dumps(EXIF)\n",
    "        )\n",
    "    \n",
    "        db.commit()\n",
    "    except CacheIndexError:\n",
    "        db.flush()"
   ]
  },
  {
   "cell_type": "code",
   "execution_count": 23,
   "metadata": {},
   "outputs": [],
   "source": []
  }
 ],
 "metadata": {
  "kernelspec": {
   "display_name": "Python 3",
   "language": "python",
   "name": "python3"
  },
  "language_info": {
   "codemirror_mode": {
    "name": "ipython",
    "version": 3
   },
   "file_extension": ".py",
   "mimetype": "text/x-python",
   "name": "python",
   "nbconvert_exporter": "python",
   "pygments_lexer": "ipython3",
   "version": "3.5.2"
  }
 },
 "nbformat": 4,
 "nbformat_minor": 2
}
