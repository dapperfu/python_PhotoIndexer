{
 "cells": [
  {
   "cell_type": "code",
   "execution_count": 21,
   "metadata": {
    "scrolled": true
   },
   "outputs": [],
   "source": [
    "from datetime import datetime\n",
    "from pony.orm import *\n",
    "db = Database(provider=\"mysql\",\n",
    "                 host=\"172.16.0.73\",\n",
    "                 user=\"media\",\n",
    "                 passwd=\"aterinee\",\n",
    "                 db=\"media\")\n",
    "db.generate_mapping()\n",
    "db.drop_all_tables()\n"
   ]
  },
  {
   "cell_type": "code",
   "execution_count": 24,
   "metadata": {},
   "outputs": [
    {
     "ename": "ERDiagramError",
     "evalue": "Cannot create default primary key attribute for MediaPath because name 'id' is already in use. Please create a PrimaryKey attribute for entity MediaPath or rename the 'id' attribute",
     "output_type": "error",
     "traceback": [
      "\u001b[0;31m---------------------------------------------------------------------------\u001b[0m",
      "\u001b[0;31mERDiagramError\u001b[0m                            Traceback (most recent call last)",
      "\u001b[0;32m<ipython-input-24-82ead3c76cc8>\u001b[0m in \u001b[0;36m<module>\u001b[0;34m()\u001b[0m\n\u001b[1;32m     14\u001b[0m \u001b[0;34m\u001b[0m\u001b[0m\n\u001b[1;32m     15\u001b[0m \u001b[0;34m\u001b[0m\u001b[0m\n\u001b[0;32m---> 16\u001b[0;31m \u001b[0;32mclass\u001b[0m \u001b[0mMediaPath\u001b[0m\u001b[0;34m(\u001b[0m\u001b[0mdb\u001b[0m\u001b[0;34m.\u001b[0m\u001b[0mEntity\u001b[0m\u001b[0;34m)\u001b[0m\u001b[0;34m:\u001b[0m\u001b[0;34m\u001b[0m\u001b[0m\n\u001b[0m\u001b[1;32m     17\u001b[0m     \u001b[0mid\u001b[0m \u001b[0;34m=\u001b[0m \u001b[0mRequired\u001b[0m\u001b[0;34m(\u001b[0m\u001b[0mint\u001b[0m\u001b[0;34m)\u001b[0m\u001b[0;34m\u001b[0m\u001b[0m\n\u001b[1;32m     18\u001b[0m     \u001b[0mpath\u001b[0m \u001b[0;34m=\u001b[0m \u001b[0mRequired\u001b[0m\u001b[0;34m(\u001b[0m\u001b[0mstr\u001b[0m\u001b[0;34m,\u001b[0m \u001b[0munique\u001b[0m\u001b[0;34m=\u001b[0m\u001b[0;32mTrue\u001b[0m\u001b[0;34m)\u001b[0m\u001b[0;34m\u001b[0m\u001b[0m\n",
      "\u001b[0;32m/projects/PhotoStuffs/lib/python3.5/site-packages/pony/orm/core.py\u001b[0m in \u001b[0;36m__init__\u001b[0;34m(entity, name, bases, cls_dict)\u001b[0m\n",
      "\u001b[0;32m/projects/PhotoStuffs/lib/python3.5/site-packages/pony/utils/utils.py\u001b[0m in \u001b[0;36mcut_traceback\u001b[0;34m(func, *args, **kwargs)\u001b[0m\n\u001b[1;32m     74\u001b[0m             \u001b[0mmodule_name\u001b[0m \u001b[0;34m=\u001b[0m \u001b[0mtb\u001b[0m\u001b[0;34m.\u001b[0m\u001b[0mtb_frame\u001b[0m\u001b[0;34m.\u001b[0m\u001b[0mf_globals\u001b[0m\u001b[0;34m.\u001b[0m\u001b[0mget\u001b[0m\u001b[0;34m(\u001b[0m\u001b[0;34m'__name__'\u001b[0m\u001b[0;34m)\u001b[0m \u001b[0;32mor\u001b[0m \u001b[0;34m''\u001b[0m\u001b[0;34m\u001b[0m\u001b[0m\n\u001b[1;32m     75\u001b[0m             \u001b[0;32mif\u001b[0m \u001b[0mmodule_name\u001b[0m\u001b[0;34m.\u001b[0m\u001b[0mstartswith\u001b[0m\u001b[0;34m(\u001b[0m\u001b[0;34m'pony.utils'\u001b[0m\u001b[0;34m)\u001b[0m \u001b[0;32mand\u001b[0m \u001b[0mtb\u001b[0m\u001b[0;34m.\u001b[0m\u001b[0mtb_frame\u001b[0m\u001b[0;34m.\u001b[0m\u001b[0mf_code\u001b[0m\u001b[0;34m.\u001b[0m\u001b[0mco_name\u001b[0m \u001b[0;34m==\u001b[0m \u001b[0;34m'throw'\u001b[0m\u001b[0;34m:\u001b[0m\u001b[0;34m\u001b[0m\u001b[0m\n\u001b[0;32m---> 76\u001b[0;31m                 \u001b[0mreraise\u001b[0m\u001b[0;34m(\u001b[0m\u001b[0mexc_type\u001b[0m\u001b[0;34m,\u001b[0m \u001b[0mexc\u001b[0m\u001b[0;34m,\u001b[0m \u001b[0mlast_pony_tb\u001b[0m\u001b[0;34m)\u001b[0m\u001b[0;34m\u001b[0m\u001b[0m\n\u001b[0m\u001b[1;32m     77\u001b[0m             \u001b[0mreraise\u001b[0m\u001b[0;34m(\u001b[0m\u001b[0mexc_type\u001b[0m\u001b[0;34m,\u001b[0m \u001b[0mexc\u001b[0m\u001b[0;34m,\u001b[0m \u001b[0mfull_tb\u001b[0m\u001b[0;34m)\u001b[0m\u001b[0;34m\u001b[0m\u001b[0m\n\u001b[1;32m     78\u001b[0m         \u001b[0;32mfinally\u001b[0m\u001b[0;34m:\u001b[0m\u001b[0;34m\u001b[0m\u001b[0m\n",
      "\u001b[0;32m/projects/PhotoStuffs/lib/python3.5/site-packages/pony/utils/utils.py\u001b[0m in \u001b[0;36mreraise\u001b[0;34m(***failed resolving arguments***)\u001b[0m\n\u001b[1;32m     85\u001b[0m \u001b[0;32melse\u001b[0m\u001b[0;34m:\u001b[0m\u001b[0;34m\u001b[0m\u001b[0m\n\u001b[1;32m     86\u001b[0m     \u001b[0;32mdef\u001b[0m \u001b[0mreraise\u001b[0m\u001b[0;34m(\u001b[0m\u001b[0mexc_type\u001b[0m\u001b[0;34m,\u001b[0m \u001b[0mexc\u001b[0m\u001b[0;34m,\u001b[0m \u001b[0mtb\u001b[0m\u001b[0;34m)\u001b[0m\u001b[0;34m:\u001b[0m\u001b[0;34m\u001b[0m\u001b[0m\n\u001b[0;32m---> 87\u001b[0;31m         \u001b[0;32mtry\u001b[0m\u001b[0;34m:\u001b[0m \u001b[0;32mraise\u001b[0m \u001b[0mexc\u001b[0m\u001b[0;34m.\u001b[0m\u001b[0mwith_traceback\u001b[0m\u001b[0;34m(\u001b[0m\u001b[0mtb\u001b[0m\u001b[0;34m)\u001b[0m\u001b[0;34m\u001b[0m\u001b[0m\n\u001b[0m\u001b[1;32m     88\u001b[0m         \u001b[0;32mfinally\u001b[0m\u001b[0;34m:\u001b[0m \u001b[0;32mdel\u001b[0m \u001b[0mexc\u001b[0m\u001b[0;34m,\u001b[0m \u001b[0mtb\u001b[0m\u001b[0;34m\u001b[0m\u001b[0m\n\u001b[1;32m     89\u001b[0m \u001b[0;34m\u001b[0m\u001b[0m\n",
      "\u001b[0;32m/projects/PhotoStuffs/lib/python3.5/site-packages/pony/orm/core.py\u001b[0m in \u001b[0;36m__init__\u001b[0;34m(entity, name, bases, cls_dict)\u001b[0m\n\u001b[1;32m   3497\u001b[0m                 \u001b[0;34m\"Cannot create default primary key attribute for %s because name 'id' is already in use.\"\u001b[0m\u001b[0;34m\u001b[0m\u001b[0m\n\u001b[1;32m   3498\u001b[0m                 \u001b[0;34m\" Please create a PrimaryKey attribute for entity %s or rename the 'id' attribute\"\u001b[0m\u001b[0;34m\u001b[0m\u001b[0m\n\u001b[0;32m-> 3499\u001b[0;31m                 % (entity.__name__, entity.__name__))\n\u001b[0m\u001b[1;32m   3500\u001b[0m             \u001b[0mattr\u001b[0m \u001b[0;34m=\u001b[0m \u001b[0mPrimaryKey\u001b[0m\u001b[0;34m(\u001b[0m\u001b[0mint\u001b[0m\u001b[0;34m,\u001b[0m \u001b[0mauto\u001b[0m\u001b[0;34m=\u001b[0m\u001b[0;32mTrue\u001b[0m\u001b[0;34m)\u001b[0m\u001b[0;34m\u001b[0m\u001b[0m\n\u001b[1;32m   3501\u001b[0m             \u001b[0mattr\u001b[0m\u001b[0;34m.\u001b[0m\u001b[0mis_implicit\u001b[0m \u001b[0;34m=\u001b[0m \u001b[0;32mTrue\u001b[0m\u001b[0;34m\u001b[0m\u001b[0m\n",
      "\u001b[0;32m/projects/PhotoStuffs/lib/python3.5/site-packages/pony/utils/utils.py\u001b[0m in \u001b[0;36mthrow\u001b[0;34m(exc_type, *args, **kwargs)\u001b[0m\n\u001b[1;32m     98\u001b[0m             \u001b[0;32mraise\u001b[0m \u001b[0mexc\u001b[0m\u001b[0;34m\u001b[0m\u001b[0m\n\u001b[1;32m     99\u001b[0m         \u001b[0;32melse\u001b[0m\u001b[0;34m:\u001b[0m\u001b[0;34m\u001b[0m\u001b[0m\n\u001b[0;32m--> 100\u001b[0;31m             \u001b[0;32mraise\u001b[0m \u001b[0mexc\u001b[0m  \u001b[0;31m# Set \"pony.options.CUT_TRACEBACK = False\" to see full traceback\u001b[0m\u001b[0;34m\u001b[0m\u001b[0m\n\u001b[0m\u001b[1;32m    101\u001b[0m     \u001b[0;32mfinally\u001b[0m\u001b[0;34m:\u001b[0m \u001b[0;32mdel\u001b[0m \u001b[0mexc\u001b[0m\u001b[0;34m\u001b[0m\u001b[0m\n\u001b[1;32m    102\u001b[0m \u001b[0;34m\u001b[0m\u001b[0m\n",
      "\u001b[0;31mERDiagramError\u001b[0m: Cannot create default primary key attribute for MediaPath because name 'id' is already in use. Please create a PrimaryKey attribute for entity MediaPath or rename the 'id' attribute"
     ]
    }
   ],
   "source": [
    "db = Database(provider=\"mysql\",\n",
    "                 host=\"172.16.0.73\",\n",
    "                 user=\"media\",\n",
    "                 passwd=\"aterinee\",\n",
    "                 db=\"media\")\n",
    "\n",
    "class Media(db.Entity):\n",
    "    id = PrimaryKey(int, auto=True)\n",
    "    xxhash = Required(str, 16, unique=True)\n",
    "    size = Optional(float)\n",
    "    exif = Optional(Json)\n",
    "    media_paths = Set('MediaPath')\n",
    "    media_type = Optional('MediaType')\n",
    "\n",
    "\n",
    "class MediaPath(db.Entity):\n",
    "    id = Required(int)\n",
    "    path = Required(str, unique=True)\n",
    "    xxhash = Required(str, 16)\n",
    "    media = Required(Media)\n",
    "\n",
    "class MediaType(db.Entity):\n",
    "    id = PrimaryKey(int, auto=True)\n",
    "    type = Required(str)\n",
    "    medias = Set(Media)\n",
    "    media_extensions = Set('MediaExtension')\n",
    "\n",
    "\n",
    "class MediaExtension(db.Entity):\n",
    "    id = PrimaryKey(int, auto=True)\n",
    "    ext = Required(str, 4)\n",
    "    media_types = Set(MediaType)\n",
    "\n",
    "db.generate_mapping(create_tables=True)"
   ]
  },
  {
   "cell_type": "code",
   "execution_count": 25,
   "metadata": {},
   "outputs": [
    {
     "ename": "ERDiagramError",
     "evalue": "No mapping was generated for the database",
     "output_type": "error",
     "traceback": [
      "\u001b[0;31m---------------------------------------------------------------------------\u001b[0m",
      "\u001b[0;31mERDiagramError\u001b[0m                            Traceback (most recent call last)",
      "\u001b[0;32m<ipython-input-25-afe818ede894>\u001b[0m in \u001b[0;36m<module>\u001b[0;34m()\u001b[0m\n\u001b[0;32m----> 1\u001b[0;31m \u001b[0mdb\u001b[0m\u001b[0;34m.\u001b[0m\u001b[0mdrop_all_tables\u001b[0m\u001b[0;34m(\u001b[0m\u001b[0;34m)\u001b[0m\u001b[0;34m\u001b[0m\u001b[0m\n\u001b[0m",
      "\u001b[0;32m/projects/PhotoStuffs/lib/python3.5/site-packages/pony/orm/core.py\u001b[0m in \u001b[0;36mdrop_all_tables\u001b[0;34m(database, with_all_data)\u001b[0m\n",
      "\u001b[0;32m/projects/PhotoStuffs/lib/python3.5/site-packages/pony/utils/utils.py\u001b[0m in \u001b[0;36mcut_traceback\u001b[0;34m(func, *args, **kwargs)\u001b[0m\n\u001b[1;32m     74\u001b[0m             \u001b[0mmodule_name\u001b[0m \u001b[0;34m=\u001b[0m \u001b[0mtb\u001b[0m\u001b[0;34m.\u001b[0m\u001b[0mtb_frame\u001b[0m\u001b[0;34m.\u001b[0m\u001b[0mf_globals\u001b[0m\u001b[0;34m.\u001b[0m\u001b[0mget\u001b[0m\u001b[0;34m(\u001b[0m\u001b[0;34m'__name__'\u001b[0m\u001b[0;34m)\u001b[0m \u001b[0;32mor\u001b[0m \u001b[0;34m''\u001b[0m\u001b[0;34m\u001b[0m\u001b[0m\n\u001b[1;32m     75\u001b[0m             \u001b[0;32mif\u001b[0m \u001b[0mmodule_name\u001b[0m\u001b[0;34m.\u001b[0m\u001b[0mstartswith\u001b[0m\u001b[0;34m(\u001b[0m\u001b[0;34m'pony.utils'\u001b[0m\u001b[0;34m)\u001b[0m \u001b[0;32mand\u001b[0m \u001b[0mtb\u001b[0m\u001b[0;34m.\u001b[0m\u001b[0mtb_frame\u001b[0m\u001b[0;34m.\u001b[0m\u001b[0mf_code\u001b[0m\u001b[0;34m.\u001b[0m\u001b[0mco_name\u001b[0m \u001b[0;34m==\u001b[0m \u001b[0;34m'throw'\u001b[0m\u001b[0;34m:\u001b[0m\u001b[0;34m\u001b[0m\u001b[0m\n\u001b[0;32m---> 76\u001b[0;31m                 \u001b[0mreraise\u001b[0m\u001b[0;34m(\u001b[0m\u001b[0mexc_type\u001b[0m\u001b[0;34m,\u001b[0m \u001b[0mexc\u001b[0m\u001b[0;34m,\u001b[0m \u001b[0mlast_pony_tb\u001b[0m\u001b[0;34m)\u001b[0m\u001b[0;34m\u001b[0m\u001b[0m\n\u001b[0m\u001b[1;32m     77\u001b[0m             \u001b[0mreraise\u001b[0m\u001b[0;34m(\u001b[0m\u001b[0mexc_type\u001b[0m\u001b[0;34m,\u001b[0m \u001b[0mexc\u001b[0m\u001b[0;34m,\u001b[0m \u001b[0mfull_tb\u001b[0m\u001b[0;34m)\u001b[0m\u001b[0;34m\u001b[0m\u001b[0m\n\u001b[1;32m     78\u001b[0m         \u001b[0;32mfinally\u001b[0m\u001b[0;34m:\u001b[0m\u001b[0;34m\u001b[0m\u001b[0m\n",
      "\u001b[0;32m/projects/PhotoStuffs/lib/python3.5/site-packages/pony/utils/utils.py\u001b[0m in \u001b[0;36mreraise\u001b[0;34m(***failed resolving arguments***)\u001b[0m\n\u001b[1;32m     85\u001b[0m \u001b[0;32melse\u001b[0m\u001b[0;34m:\u001b[0m\u001b[0;34m\u001b[0m\u001b[0m\n\u001b[1;32m     86\u001b[0m     \u001b[0;32mdef\u001b[0m \u001b[0mreraise\u001b[0m\u001b[0;34m(\u001b[0m\u001b[0mexc_type\u001b[0m\u001b[0;34m,\u001b[0m \u001b[0mexc\u001b[0m\u001b[0;34m,\u001b[0m \u001b[0mtb\u001b[0m\u001b[0;34m)\u001b[0m\u001b[0;34m:\u001b[0m\u001b[0;34m\u001b[0m\u001b[0m\n\u001b[0;32m---> 87\u001b[0;31m         \u001b[0;32mtry\u001b[0m\u001b[0;34m:\u001b[0m \u001b[0;32mraise\u001b[0m \u001b[0mexc\u001b[0m\u001b[0;34m.\u001b[0m\u001b[0mwith_traceback\u001b[0m\u001b[0;34m(\u001b[0m\u001b[0mtb\u001b[0m\u001b[0;34m)\u001b[0m\u001b[0;34m\u001b[0m\u001b[0m\n\u001b[0m\u001b[1;32m     88\u001b[0m         \u001b[0;32mfinally\u001b[0m\u001b[0;34m:\u001b[0m \u001b[0;32mdel\u001b[0m \u001b[0mexc\u001b[0m\u001b[0;34m,\u001b[0m \u001b[0mtb\u001b[0m\u001b[0;34m\u001b[0m\u001b[0m\n\u001b[1;32m     89\u001b[0m \u001b[0;34m\u001b[0m\u001b[0m\n",
      "\u001b[0;32m/projects/PhotoStuffs/lib/python3.5/site-packages/pony/orm/core.py\u001b[0m in \u001b[0;36mdrop_all_tables\u001b[0;34m(database, with_all_data)\u001b[0m\n\u001b[1;32m   1019\u001b[0m     \u001b[0;34m@\u001b[0m\u001b[0mdb_session\u001b[0m\u001b[0;34m(\u001b[0m\u001b[0mddl\u001b[0m\u001b[0;34m=\u001b[0m\u001b[0;32mTrue\u001b[0m\u001b[0;34m)\u001b[0m\u001b[0;34m\u001b[0m\u001b[0m\n\u001b[1;32m   1020\u001b[0m     \u001b[0;32mdef\u001b[0m \u001b[0mdrop_all_tables\u001b[0m\u001b[0;34m(\u001b[0m\u001b[0mdatabase\u001b[0m\u001b[0;34m,\u001b[0m \u001b[0mwith_all_data\u001b[0m\u001b[0;34m=\u001b[0m\u001b[0;32mFalse\u001b[0m\u001b[0;34m)\u001b[0m\u001b[0;34m:\u001b[0m\u001b[0;34m\u001b[0m\u001b[0m\n\u001b[0;32m-> 1021\u001b[0;31m         \u001b[0;32mif\u001b[0m \u001b[0mdatabase\u001b[0m\u001b[0;34m.\u001b[0m\u001b[0mschema\u001b[0m \u001b[0;32mis\u001b[0m \u001b[0;32mNone\u001b[0m\u001b[0;34m:\u001b[0m \u001b[0mthrow\u001b[0m\u001b[0;34m(\u001b[0m\u001b[0mERDiagramError\u001b[0m\u001b[0;34m,\u001b[0m \u001b[0;34m'No mapping was generated for the database'\u001b[0m\u001b[0;34m)\u001b[0m\u001b[0;34m\u001b[0m\u001b[0m\n\u001b[0m\u001b[1;32m   1022\u001b[0m         \u001b[0mdatabase\u001b[0m\u001b[0;34m.\u001b[0m\u001b[0m_drop_tables\u001b[0m\u001b[0;34m(\u001b[0m\u001b[0mdatabase\u001b[0m\u001b[0;34m.\u001b[0m\u001b[0mschema\u001b[0m\u001b[0;34m.\u001b[0m\u001b[0mtables\u001b[0m\u001b[0;34m,\u001b[0m \u001b[0;32mTrue\u001b[0m\u001b[0;34m,\u001b[0m \u001b[0mwith_all_data\u001b[0m\u001b[0;34m)\u001b[0m\u001b[0;34m\u001b[0m\u001b[0m\n\u001b[1;32m   1023\u001b[0m     \u001b[0;32mdef\u001b[0m \u001b[0m_drop_tables\u001b[0m\u001b[0;34m(\u001b[0m\u001b[0mdatabase\u001b[0m\u001b[0;34m,\u001b[0m \u001b[0mtable_names\u001b[0m\u001b[0;34m,\u001b[0m \u001b[0mif_exists\u001b[0m\u001b[0;34m,\u001b[0m \u001b[0mwith_all_data\u001b[0m\u001b[0;34m,\u001b[0m \u001b[0mtry_normalized\u001b[0m\u001b[0;34m=\u001b[0m\u001b[0;32mFalse\u001b[0m\u001b[0;34m)\u001b[0m\u001b[0;34m:\u001b[0m\u001b[0;34m\u001b[0m\u001b[0m\n",
      "\u001b[0;32m/projects/PhotoStuffs/lib/python3.5/site-packages/pony/utils/utils.py\u001b[0m in \u001b[0;36mthrow\u001b[0;34m(exc_type, *args, **kwargs)\u001b[0m\n\u001b[1;32m     98\u001b[0m             \u001b[0;32mraise\u001b[0m \u001b[0mexc\u001b[0m\u001b[0;34m\u001b[0m\u001b[0m\n\u001b[1;32m     99\u001b[0m         \u001b[0;32melse\u001b[0m\u001b[0;34m:\u001b[0m\u001b[0;34m\u001b[0m\u001b[0m\n\u001b[0;32m--> 100\u001b[0;31m             \u001b[0;32mraise\u001b[0m \u001b[0mexc\u001b[0m  \u001b[0;31m# Set \"pony.options.CUT_TRACEBACK = False\" to see full traceback\u001b[0m\u001b[0;34m\u001b[0m\u001b[0m\n\u001b[0m\u001b[1;32m    101\u001b[0m     \u001b[0;32mfinally\u001b[0m\u001b[0;34m:\u001b[0m \u001b[0;32mdel\u001b[0m \u001b[0mexc\u001b[0m\u001b[0;34m\u001b[0m\u001b[0m\n\u001b[1;32m    102\u001b[0m \u001b[0;34m\u001b[0m\u001b[0m\n",
      "\u001b[0;31mERDiagramError\u001b[0m: No mapping was generated for the database"
     ]
    }
   ],
   "source": [
    "db.drop_all_tables()"
   ]
  },
  {
   "cell_type": "code",
   "execution_count": 35,
   "metadata": {},
   "outputs": [],
   "source": [
    "from  get_files import get_files"
   ]
  },
  {
   "cell_type": "code",
   "execution_count": 36,
   "metadata": {},
   "outputs": [],
   "source": [
    "files = get_files(\"/vault/Pictures/2002\")"
   ]
  },
  {
   "cell_type": "code",
   "execution_count": 37,
   "metadata": {},
   "outputs": [],
   "source": [
    "for file in files:\n",
    "    break"
   ]
  },
  {
   "cell_type": "code",
   "execution_count": 38,
   "metadata": {},
   "outputs": [
    {
     "data": {
      "text/plain": [
       "'/vault/Pictures/2002/Thanksgiving 02/021128-151210.jpg'"
      ]
     },
     "execution_count": 38,
     "metadata": {},
     "output_type": "execute_result"
    }
   ],
   "source": [
    "file"
   ]
  },
  {
   "cell_type": "code",
   "execution_count": 39,
   "metadata": {},
   "outputs": [],
   "source": [
    "import utils"
   ]
  },
  {
   "cell_type": "code",
   "execution_count": 53,
   "metadata": {},
   "outputs": [],
   "source": [
    "XXHASH=utils.get_xxhash(file)"
   ]
  },
  {
   "cell_type": "code",
   "execution_count": 54,
   "metadata": {},
   "outputs": [],
   "source": [
    "import os"
   ]
  },
  {
   "cell_type": "code",
   "execution_count": 55,
   "metadata": {},
   "outputs": [],
   "source": [
    "SIZE=os.stat(file).st_size/1024 ** 2"
   ]
  },
  {
   "cell_type": "code",
   "execution_count": 46,
   "metadata": {},
   "outputs": [],
   "source": [
    "import exiftool\n",
    "et = exiftool.ExifTool()\n",
    "et.start()"
   ]
  },
  {
   "cell_type": "code",
   "execution_count": 56,
   "metadata": {},
   "outputs": [],
   "source": [
    "EXIF = et.get_metadata(str(file))"
   ]
  },
  {
   "cell_type": "code",
   "execution_count": 57,
   "metadata": {},
   "outputs": [],
   "source": [
    "import json"
   ]
  },
  {
   "cell_type": "code",
   "execution_count": 58,
   "metadata": {},
   "outputs": [
    {
     "data": {
      "text/plain": [
       "{'Composite:Aperture': 4,\n",
       " 'Composite:CircleOfConfusion': '0.00613333333333333',\n",
       " 'Composite:FOV': 78.4646272552808,\n",
       " 'Composite:FocalLength35efl': 22.0448107874836,\n",
       " 'Composite:HyperfocalDistance': 0.825407608695653,\n",
       " 'Composite:ImageSize': '1600x1200',\n",
       " 'Composite:LightValue': 8.90689059575279,\n",
       " 'Composite:Megapixels': 1.92,\n",
       " 'Composite:ScaleFactor35efl': 4.89884684166303,\n",
       " 'Composite:ShutterSpeed': 0.03333333333,\n",
       " 'Composite:ThumbnailImage': '(Binary data 4906 bytes, use -b option to extract)',\n",
       " 'EXIF:ColorSpace': 1,\n",
       " 'EXIF:ComponentsConfiguration': '1 2 3 0',\n",
       " 'EXIF:CompressedBitsPerPixel': 2,\n",
       " 'EXIF:Compression': 6,\n",
       " 'EXIF:CreateDate': '2002:11:28 15:12:10',\n",
       " 'EXIF:DateTimeOriginal': '2002:11:28 15:12:10',\n",
       " 'EXIF:ExifImageHeight': 1200,\n",
       " 'EXIF:ExifImageWidth': 1600,\n",
       " 'EXIF:ExifVersion': '0210',\n",
       " 'EXIF:ExposureCompensation': 0,\n",
       " 'EXIF:ExposureProgram': 2,\n",
       " 'EXIF:ExposureTime': 0.03333333333,\n",
       " 'EXIF:FNumber': 4,\n",
       " 'EXIF:FileSource': 3,\n",
       " 'EXIF:Flash': 1,\n",
       " 'EXIF:FlashpixVersion': '0100',\n",
       " 'EXIF:FocalLength': 4.5,\n",
       " 'EXIF:ISO': 100,\n",
       " 'EXIF:ImageDescription': 'OLYMPUS DIGITAL CAMERA         ',\n",
       " 'EXIF:InteropIndex': 'R98',\n",
       " 'EXIF:InteropVersion': '0100',\n",
       " 'EXIF:LightSource': 0,\n",
       " 'EXIF:Make': 'OLYMPUS OPTICAL CO.,LTD',\n",
       " 'EXIF:MaxApertureValue': 4,\n",
       " 'EXIF:MeteringMode': 5,\n",
       " 'EXIF:Model': 'C120,D380',\n",
       " 'EXIF:ModifyDate': '2002:11:28 15:12:10',\n",
       " 'EXIF:Orientation': 1,\n",
       " 'EXIF:ResolutionUnit': 2,\n",
       " 'EXIF:SceneType': 1,\n",
       " 'EXIF:Software': 'v571u-76',\n",
       " 'EXIF:ThumbnailLength': 4906,\n",
       " 'EXIF:ThumbnailOffset': 4096,\n",
       " 'EXIF:UserComment': '',\n",
       " 'EXIF:XResolution': 72,\n",
       " 'EXIF:YCbCrPositioning': 2,\n",
       " 'EXIF:YResolution': 72,\n",
       " 'ExifTool:ExifToolVersion': 10.1,\n",
       " 'File:BitsPerSample': 8,\n",
       " 'File:ColorComponents': 3,\n",
       " 'File:Directory': '/vault/Pictures/2002/Thanksgiving 02',\n",
       " 'File:EncodingProcess': 0,\n",
       " 'File:ExifByteOrder': 'II',\n",
       " 'File:FileAccessDate': '2018:03:10 14:49:31-05:00',\n",
       " 'File:FileInodeChangeDate': '2016:12:17 16:58:00-05:00',\n",
       " 'File:FileModifyDate': '2002:11:28 10:12:10-05:00',\n",
       " 'File:FileName': '021128-151210.jpg',\n",
       " 'File:FilePermissions': 755,\n",
       " 'File:FileSize': 335841,\n",
       " 'File:FileType': 'JPEG',\n",
       " 'File:FileTypeExtension': 'JPG',\n",
       " 'File:ImageHeight': 1200,\n",
       " 'File:ImageWidth': 1600,\n",
       " 'File:MIMEType': 'image/jpeg',\n",
       " 'File:YCbCrSubSampling': '2 1',\n",
       " 'MakerNotes:BWMode': 0,\n",
       " 'MakerNotes:CameraID': 'OLYMPUS DIGITAL CAMERA',\n",
       " 'MakerNotes:CameraType': 'SX571',\n",
       " 'MakerNotes:DataDump': '(Binary data 254 bytes, use -b option to extract)',\n",
       " 'MakerNotes:DigitalZoom': 1,\n",
       " 'MakerNotes:FocalPlaneDiagonal': 8.832,\n",
       " 'MakerNotes:LensDistortionParams': '-192 -332 -356 -192 -332 -356',\n",
       " 'MakerNotes:Macro': 0,\n",
       " 'MakerNotes:OneTouchWB': 0,\n",
       " 'MakerNotes:PreCaptureFrames': 0,\n",
       " 'MakerNotes:Quality': 1,\n",
       " 'MakerNotes:Resolution': 1,\n",
       " 'MakerNotes:SpecialMode': '0 0 0',\n",
       " 'MakerNotes:WhiteBalanceBias': 0,\n",
       " 'MakerNotes:WhiteBalanceBracket': 0,\n",
       " 'MakerNotes:WhiteBoard': 0,\n",
       " 'SourceFile': '/vault/Pictures/2002/Thanksgiving 02/021128-151210.jpg'}"
      ]
     },
     "execution_count": 58,
     "metadata": {},
     "output_type": "execute_result"
    }
   ],
   "source": [
    "EXIF"
   ]
  },
  {
   "cell_type": "code",
   "execution_count": 59,
   "metadata": {},
   "outputs": [
    {
     "data": {
      "text/plain": [
       "'{\"EXIF:ModifyDate\": \"2002:11:28 15:12:10\", \"EXIF:Model\": \"C120,D380\", \"File:FileAccessDate\": \"2018:03:10 14:49:31-05:00\", \"EXIF:ExifVersion\": \"0210\", \"EXIF:Compression\": 6, \"File:Directory\": \"/vault/Pictures/2002/Thanksgiving 02\", \"File:FileInodeChangeDate\": \"2016:12:17 16:58:00-05:00\", \"MakerNotes:DigitalZoom\": 1, \"EXIF:Orientation\": 1, \"EXIF:Software\": \"v571u-76\", \"EXIF:ResolutionUnit\": 2, \"EXIF:ExposureTime\": 0.03333333333, \"MakerNotes:WhiteBalanceBias\": 0, \"File:FileModifyDate\": \"2002:11:28 10:12:10-05:00\", \"Composite:LightValue\": 8.90689059575279, \"EXIF:ComponentsConfiguration\": \"1 2 3 0\", \"MakerNotes:Quality\": 1, \"EXIF:CreateDate\": \"2002:11:28 15:12:10\", \"MakerNotes:Macro\": 0, \"File:YCbCrSubSampling\": \"2 1\", \"Composite:ScaleFactor35efl\": 4.89884684166303, \"EXIF:ImageDescription\": \"OLYMPUS DIGITAL CAMERA         \", \"MakerNotes:FocalPlaneDiagonal\": 8.832, \"EXIF:InteropIndex\": \"R98\", \"EXIF:FlashpixVersion\": \"0100\", \"Composite:ShutterSpeed\": 0.03333333333, \"MakerNotes:LensDistortionParams\": \"-192 -332 -356 -192 -332 -356\", \"EXIF:MeteringMode\": 5, \"Composite:Megapixels\": 1.92, \"EXIF:ISO\": 100, \"File:ExifByteOrder\": \"II\", \"EXIF:ExifImageWidth\": 1600, \"EXIF:FileSource\": 3, \"EXIF:YResolution\": 72, \"File:FilePermissions\": 755, \"Composite:Aperture\": 4, \"File:MIMEType\": \"image/jpeg\", \"File:BitsPerSample\": 8, \"MakerNotes:OneTouchWB\": 0, \"EXIF:ExifImageHeight\": 1200, \"EXIF:XResolution\": 72, \"EXIF:ColorSpace\": 1, \"MakerNotes:SpecialMode\": \"0 0 0\", \"Composite:FOV\": 78.4646272552808, \"EXIF:SceneType\": 1, \"EXIF:FocalLength\": 4.5, \"EXIF:MaxApertureValue\": 4, \"EXIF:DateTimeOriginal\": \"2002:11:28 15:12:10\", \"MakerNotes:WhiteBalanceBracket\": 0, \"MakerNotes:BWMode\": 0, \"MakerNotes:CameraType\": \"SX571\", \"Composite:CircleOfConfusion\": \"0.00613333333333333\", \"MakerNotes:WhiteBoard\": 0, \"Composite:ThumbnailImage\": \"(Binary data 4906 bytes, use -b option to extract)\", \"EXIF:CompressedBitsPerPixel\": 2, \"MakerNotes:CameraID\": \"OLYMPUS DIGITAL CAMERA\", \"File:ImageWidth\": 1600, \"SourceFile\": \"/vault/Pictures/2002/Thanksgiving 02/021128-151210.jpg\", \"ExifTool:ExifToolVersion\": 10.1, \"EXIF:ExposureProgram\": 2, \"File:FileTypeExtension\": \"JPG\", \"EXIF:FNumber\": 4, \"EXIF:ThumbnailOffset\": 4096, \"MakerNotes:DataDump\": \"(Binary data 254 bytes, use -b option to extract)\", \"MakerNotes:Resolution\": 1, \"EXIF:ThumbnailLength\": 4906, \"EXIF:Flash\": 1, \"Composite:FocalLength35efl\": 22.0448107874836, \"EXIF:ExposureCompensation\": 0, \"File:FileName\": \"021128-151210.jpg\", \"File:ImageHeight\": 1200, \"EXIF:LightSource\": 0, \"EXIF:UserComment\": \"\", \"File:EncodingProcess\": 0, \"Composite:ImageSize\": \"1600x1200\", \"EXIF:Make\": \"OLYMPUS OPTICAL CO.,LTD\", \"MakerNotes:PreCaptureFrames\": 0, \"EXIF:YCbCrPositioning\": 2, \"EXIF:InteropVersion\": \"0100\", \"Composite:HyperfocalDistance\": 0.825407608695653, \"File:ColorComponents\": 3, \"File:FileType\": \"JPEG\", \"File:FileSize\": 335841}'"
      ]
     },
     "execution_count": 59,
     "metadata": {},
     "output_type": "execute_result"
    }
   ],
   "source": [
    "json.dumps(EXIF)"
   ]
  },
  {
   "cell_type": "code",
   "execution_count": null,
   "metadata": {},
   "outputs": [],
   "source": []
  },
  {
   "cell_type": "code",
   "execution_count": 61,
   "metadata": {},
   "outputs": [
    {
     "data": {
      "text/plain": [
       "Media[new:1]"
      ]
     },
     "execution_count": 61,
     "metadata": {},
     "output_type": "execute_result"
    }
   ],
   "source": [
    "Media(xxhash=XXHASH, size=SIZE, exif=EXIF, exif2=json.dumps(EXIF))"
   ]
  },
  {
   "cell_type": "code",
   "execution_count": 62,
   "metadata": {},
   "outputs": [],
   "source": [
    "db.commit()"
   ]
  },
  {
   "cell_type": "code",
   "execution_count": 68,
   "metadata": {},
   "outputs": [],
   "source": [
    "M = select(c for c in Media if c.id == 1) "
   ]
  },
  {
   "cell_type": "code",
   "execution_count": 69,
   "metadata": {},
   "outputs": [],
   "source": [
    "for m in M:\n",
    "    break"
   ]
  },
  {
   "cell_type": "code",
   "execution_count": 70,
   "metadata": {},
   "outputs": [
    {
     "data": {
      "text/plain": [
       "Media[1]"
      ]
     },
     "execution_count": 70,
     "metadata": {},
     "output_type": "execute_result"
    }
   ],
   "source": [
    "m"
   ]
  },
  {
   "cell_type": "code",
   "execution_count": 72,
   "metadata": {},
   "outputs": [
    {
     "data": {
      "text/plain": [
       "100"
      ]
     },
     "execution_count": 72,
     "metadata": {},
     "output_type": "execute_result"
    }
   ],
   "source": [
    "m.exif[\"EXIF:ISO\"]"
   ]
  },
  {
   "cell_type": "code",
   "execution_count": 74,
   "metadata": {},
   "outputs": [],
   "source": [
    "M = select(c for c in Media if m.exif[\"EXIF:ISO\"] == 100)"
   ]
  },
  {
   "cell_type": "code",
   "execution_count": 75,
   "metadata": {},
   "outputs": [],
   "source": [
    "for m in M:\n",
    "    break"
   ]
  },
  {
   "cell_type": "code",
   "execution_count": 76,
   "metadata": {},
   "outputs": [
    {
     "data": {
      "text/plain": [
       "Media[1]"
      ]
     },
     "execution_count": 76,
     "metadata": {},
     "output_type": "execute_result"
    }
   ],
   "source": [
    "m"
   ]
  },
  {
   "cell_type": "code",
   "execution_count": null,
   "metadata": {},
   "outputs": [],
   "source": []
  }
 ],
 "metadata": {
  "kernelspec": {
   "display_name": "Python 3",
   "language": "python",
   "name": "python3"
  },
  "language_info": {
   "codemirror_mode": {
    "name": "ipython",
    "version": 3
   },
   "file_extension": ".py",
   "mimetype": "text/x-python",
   "name": "python",
   "nbconvert_exporter": "python",
   "pygments_lexer": "ipython3",
   "version": "3.5.2"
  }
 },
 "nbformat": 4,
 "nbformat_minor": 2
}
