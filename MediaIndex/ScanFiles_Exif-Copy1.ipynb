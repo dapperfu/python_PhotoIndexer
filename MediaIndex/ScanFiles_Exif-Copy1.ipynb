{
 "cells": [
  {
   "cell_type": "code",
   "execution_count": 85,
   "metadata": {},
   "outputs": [],
   "source": [
    "import os \n",
    "import exifyay\n",
    "import exiftool\n",
    "import get_files\n",
    "import py.path\n",
    "import xxhash"
   ]
  },
  {
   "cell_type": "code",
   "execution_count": 86,
   "metadata": {},
   "outputs": [],
   "source": [
    "import_dir = \"/pictures/2018-03-02T16:00:01-05:00/DCIM\""
   ]
  },
  {
   "cell_type": "code",
   "execution_count": 87,
   "metadata": {},
   "outputs": [],
   "source": [
    "IMAGE_EXT = [\".cr2\", \".dng\", \".jpg\"]\n",
    "VIDEO_EXT = [\".mp4\"]"
   ]
  },
  {
   "cell_type": "code",
   "execution_count": 88,
   "metadata": {},
   "outputs": [],
   "source": [
    "media_files = get_files.get_files(import_dir, decorate=py.path.local)\n",
    "for media_file in media_files:\n",
    "    if media_file.ext.lower() in IMAGE_EXT:\n",
    "        break"
   ]
  },
  {
   "cell_type": "code",
   "execution_count": 89,
   "metadata": {},
   "outputs": [],
   "source": [
    "et = exiftool.ExifTool()\n",
    "et.start()"
   ]
  },
  {
   "cell_type": "code",
   "execution_count": 90,
   "metadata": {},
   "outputs": [
    {
     "data": {
      "text/plain": [
       "{'Composite:Aperture': 1.9,\n",
       " 'Composite:CircleOfConfusion': 0.0021851825911903,\n",
       " 'Composite:FOV': 78.5788800977413,\n",
       " 'Composite:FocalLength35efl': 22,\n",
       " 'Composite:HyperfocalDistance': 0.616593060225096,\n",
       " 'Composite:ImageSize': '2560x1440',\n",
       " 'Composite:LightValue': 2.02192383869903,\n",
       " 'Composite:Megapixels': 3.6864,\n",
       " 'Composite:ScaleFactor35efl': 13.75,\n",
       " 'Composite:ShutterSpeed': 0.1111111111,\n",
       " 'EXIF:ColorSpace': 1,\n",
       " 'EXIF:CreateDate': '2017:12:06 22:50:11',\n",
       " 'EXIF:DateTimeOriginal': '2017:12:06 22:50:11',\n",
       " 'EXIF:ExifImageHeight': 1440,\n",
       " 'EXIF:ExifImageWidth': 2560,\n",
       " 'EXIF:ExifVersion': '0220',\n",
       " 'EXIF:ExposureMode': 0,\n",
       " 'EXIF:ExposureProgram': 2,\n",
       " 'EXIF:ExposureTime': 0.1111111111,\n",
       " 'EXIF:FNumber': 1.9,\n",
       " 'EXIF:Flash': 0,\n",
       " 'EXIF:FocalLength': 1.6,\n",
       " 'EXIF:FocalLengthIn35mmFormat': 22,\n",
       " 'EXIF:ISO': 800,\n",
       " 'EXIF:ImageHeight': 1440,\n",
       " 'EXIF:ImageWidth': 2560,\n",
       " 'EXIF:Make': 'samsung',\n",
       " 'EXIF:MaxApertureValue': 1.89868424190104,\n",
       " 'EXIF:MeteringMode': 2,\n",
       " 'EXIF:Model': 'SM-N910T',\n",
       " 'EXIF:ModifyDate': '2017:12:06 22:50:11',\n",
       " 'EXIF:Orientation': 3,\n",
       " 'EXIF:ResolutionUnit': 2,\n",
       " 'EXIF:SceneCaptureType': 3,\n",
       " 'EXIF:Software': 'N910TUVU2EQI2',\n",
       " 'EXIF:WhiteBalance': 0,\n",
       " 'EXIF:XResolution': 72,\n",
       " 'EXIF:YCbCrPositioning': 1,\n",
       " 'EXIF:YResolution': 72,\n",
       " 'ExifTool:ExifToolVersion': 10.1,\n",
       " 'File:BitsPerSample': 8,\n",
       " 'File:ColorComponents': 3,\n",
       " 'File:Directory': '/pictures/2018-03-02T16:00:01-05:00/DCIM/Camera',\n",
       " 'File:EncodingProcess': 0,\n",
       " 'File:ExifByteOrder': 'II',\n",
       " 'File:FileAccessDate': '2018:03:02 19:37:30-05:00',\n",
       " 'File:FileInodeChangeDate': '2018:03:02 16:39:46-05:00',\n",
       " 'File:FileModifyDate': '2017:12:06 22:50:10-05:00',\n",
       " 'File:FileName': '20171206_225011.jpg',\n",
       " 'File:FilePermissions': 777,\n",
       " 'File:FileSize': 1519778,\n",
       " 'File:FileType': 'JPEG',\n",
       " 'File:FileTypeExtension': 'JPG',\n",
       " 'File:ImageHeight': 1440,\n",
       " 'File:ImageWidth': 2560,\n",
       " 'File:MIMEType': 'image/jpeg',\n",
       " 'File:YCbCrSubSampling': '2 2',\n",
       " 'JFIF:JFIFVersion': '1 1',\n",
       " 'JFIF:ResolutionUnit': 2,\n",
       " 'JFIF:XResolution': 59,\n",
       " 'JFIF:YResolution': 59,\n",
       " 'SourceFile': '/pictures/2018-03-02T16:00:01-05:00/DCIM/Camera/20171206_225011.jpg'}"
      ]
     },
     "execution_count": 90,
     "metadata": {},
     "output_type": "execute_result"
    }
   ],
   "source": [
    "EXIF = et.get_metadata(str(media_file))\n",
    "EXIF"
   ]
  },
  {
   "cell_type": "code",
   "execution_count": 76,
   "metadata": {},
   "outputs": [],
   "source": [
    "import json"
   ]
  },
  {
   "cell_type": "code",
   "execution_count": 77,
   "metadata": {},
   "outputs": [
    {
     "data": {
      "text/plain": [
       "'{\"EXIF:ImageHeight\": 1440, \"EXIF:ColorSpace\": 1, \"File:YCbCrSubSampling\": \"2 2\", \"EXIF:MaxApertureValue\": 1.89868424190104, \"EXIF:ExposureTime\": 0.1111111111, \"EXIF:CreateDate\": \"2017:12:06 22:50:11\", \"EXIF:ExifImageHeight\": 1440, \"EXIF:ResolutionUnit\": 2, \"File:EncodingProcess\": 0, \"Composite:ShutterSpeed\": 0.1111111111, \"File:FileType\": \"JPEG\", \"EXIF:FocalLengthIn35mmFormat\": 22, \"File:ExifByteOrder\": \"II\", \"EXIF:FocalLength\": 1.6, \"EXIF:Flash\": 0, \"Composite:ImageSize\": \"2560x1440\", \"EXIF:ExifImageWidth\": 2560, \"EXIF:Software\": \"N910TUVU2EQI2\", \"EXIF:Orientation\": 3, \"File:ImageWidth\": 2560, \"EXIF:ImageWidth\": 2560, \"File:FileTypeExtension\": \"JPG\", \"EXIF:Make\": \"samsung\", \"Composite:CircleOfConfusion\": 0.0021851825911903, \"Composite:FOV\": 78.5788800977413, \"Composite:HyperfocalDistance\": 0.616593060225096, \"File:FileSize\": 1519778, \"EXIF:YResolution\": 72, \"EXIF:ModifyDate\": \"2017:12:06 22:50:11\", \"File:FileAccessDate\": \"2018:03:02 19:37:30-05:00\", \"File:BitsPerSample\": 8, \"Composite:FocalLength35efl\": 22, \"EXIF:FNumber\": 1.9, \"EXIF:XResolution\": 72, \"Composite:Aperture\": 1.9, \"EXIF:ExposureMode\": 0, \"File:ImageHeight\": 1440, \"EXIF:ExposureProgram\": 2, \"File:FileModifyDate\": \"2017:12:06 22:50:10-05:00\", \"JFIF:YResolution\": 59, \"JFIF:ResolutionUnit\": 2, \"SourceFile\": \"/pictures/2018-03-02T16:00:01-05:00/DCIM/Camera/20171206_225011.jpg\", \"Composite:ScaleFactor35efl\": 13.75, \"File:FileInodeChangeDate\": \"2018:03:02 16:39:46-05:00\", \"Composite:LightValue\": 2.02192383869903, \"EXIF:SceneCaptureType\": 3, \"ExifTool:ExifToolVersion\": 10.1, \"EXIF:Model\": \"SM-N910T\", \"File:FileName\": \"20171206_225011.jpg\", \"EXIF:WhiteBalance\": 0, \"File:MIMEType\": \"image/jpeg\", \"JFIF:XResolution\": 59, \"EXIF:ExifVersion\": \"0220\", \"JFIF:JFIFVersion\": \"1 1\", \"File:ColorComponents\": 3, \"File:FilePermissions\": 777, \"EXIF:ISO\": 800, \"EXIF:DateTimeOriginal\": \"2017:12:06 22:50:11\", \"Composite:Megapixels\": 3.6864, \"File:Directory\": \"/pictures/2018-03-02T16:00:01-05:00/DCIM/Camera\", \"EXIF:MeteringMode\": 2, \"EXIF:YCbCrPositioning\": 1}'"
      ]
     },
     "execution_count": 77,
     "metadata": {},
     "output_type": "execute_result"
    }
   ],
   "source": [
    "json.dumps(EXIF)"
   ]
  },
  {
   "cell_type": "code",
   "execution_count": 78,
   "metadata": {},
   "outputs": [],
   "source": [
    "def get_xxhash(fname):\n",
    "    hash64 = xxhash.xxh64()\n",
    "    with open(fname, \"rb\") as f:\n",
    "        for chunk in iter(lambda: f.read(4096), b\"\"):\n",
    "            hash64.update(chunk)\n",
    "    return hash64.hexdigest()"
   ]
  },
  {
   "cell_type": "code",
   "execution_count": 79,
   "metadata": {},
   "outputs": [
    {
     "name": "stdout",
     "output_type": "stream",
     "text": [
      "471 µs ± 6.76 µs per loop (mean ± std. dev. of 7 runs, 1000 loops each)\n"
     ]
    }
   ],
   "source": [
    "%%timeit\n",
    "get_xxhash(str(media_file))"
   ]
  },
  {
   "cell_type": "code",
   "execution_count": 80,
   "metadata": {},
   "outputs": [
    {
     "name": "stdout",
     "output_type": "stream",
     "text": [
      "2.12 ms ± 15.5 µs per loop (mean ± std. dev. of 7 runs, 100 loops each)\n"
     ]
    }
   ],
   "source": [
    "%%timeit\n",
    "media_file.computehash(hashtype=\"md5\")"
   ]
  },
  {
   "cell_type": "code",
   "execution_count": 82,
   "metadata": {},
   "outputs": [
    {
     "name": "stdout",
     "output_type": "stream",
     "text": [
      "1.97 ms ± 47.9 µs per loop (mean ± std. dev. of 7 runs, 1000 loops each)\n"
     ]
    }
   ],
   "source": [
    "%%timeit\n",
    "media_file.computehash(hashtype=\"sha1\")"
   ]
  },
  {
   "cell_type": "code",
   "execution_count": 83,
   "metadata": {},
   "outputs": [
    {
     "name": "stdout",
     "output_type": "stream",
     "text": [
      "4.41 ms ± 292 µs per loop (mean ± std. dev. of 7 runs, 100 loops each)\n"
     ]
    }
   ],
   "source": [
    "%%timeit\n",
    "media_file.computehash(hashtype=\"sha256\")"
   ]
  },
  {
   "cell_type": "code",
   "execution_count": 84,
   "metadata": {},
   "outputs": [
    {
     "name": "stdout",
     "output_type": "stream",
     "text": [
      "3.04 ms ± 38.8 µs per loop (mean ± std. dev. of 7 runs, 100 loops each)\n"
     ]
    }
   ],
   "source": [
    "%%timeit\n",
    "media_file.computehash(hashtype=\"sha512\")"
   ]
  },
  {
   "cell_type": "code",
   "execution_count": null,
   "metadata": {},
   "outputs": [],
   "source": []
  }
 ],
 "metadata": {
  "kernelspec": {
   "display_name": "Python 3",
   "language": "python",
   "name": "python3"
  },
  "language_info": {
   "codemirror_mode": {
    "name": "ipython",
    "version": 3
   },
   "file_extension": ".py",
   "mimetype": "text/x-python",
   "name": "python",
   "nbconvert_exporter": "python",
   "pygments_lexer": "ipython3",
   "version": "3.5.2"
  }
 },
 "nbformat": 4,
 "nbformat_minor": 2
}
