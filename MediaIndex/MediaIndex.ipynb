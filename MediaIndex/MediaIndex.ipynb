{
 "cells": [
  {
   "cell_type": "code",
   "execution_count": 2,
   "metadata": {},
   "outputs": [],
   "source": [
    "import pony as orm\n",
    "import os"
   ]
  },
  {
   "cell_type": "code",
   "execution_count": 3,
   "metadata": {},
   "outputs": [],
   "source": [
    "database=\"media.sqlite\""
   ]
  },
  {
   "cell_type": "code",
   "execution_count": 4,
   "metadata": {},
   "outputs": [],
   "source": [
    "if os.path.exists(database):\n",
    "    os.unlink(database)"
   ]
  },
  {
   "cell_type": "code",
   "execution_count": 3,
   "metadata": {},
   "outputs": [],
   "source": [
    "# Database of receipts.\n",
    "filename = os.path.abspath(database)\n",
    "db = orm.Database(\n",
    "    provider='sqlite',\n",
    "    filename=filename,\n",
    "    create_db=True,\n",
    ")\n",
    "class Media(db.Entity):\n",
    "    date = orm.Required(datetime.datetime)\n",
    "    store = orm.Required(str)\n",
    "    items = orm.Required(int)\n",
    "    total = orm.Required(float)\n",
    "    pdf   = orm.Required(str)\n",
    "db.generate_mapping(create_tables=True)"
   ]
  },
  {
   "cell_type": "code",
   "execution_count": 4,
   "metadata": {},
   "outputs": [],
   "source": [
    "# Cache receipt table in a csv.\n",
    "csv = open(\"receipts.csv\", \"w\")"
   ]
  },
  {
   "cell_type": "code",
   "execution_count": 5,
   "metadata": {},
   "outputs": [],
   "source": [
    "# mPerks user & password on separate lines in .secrets file\n",
    "with open(\".secrets\", \"r\") as fid:\n",
    "    user, password = fid.read().splitlines()"
   ]
  },
  {
   "cell_type": "code",
   "execution_count": 6,
   "metadata": {
    "scrolled": true
   },
   "outputs": [
    {
     "data": {
      "text/plain": [
       "<selenium.webdriver.firefox.webelement.FirefoxWebElement (session=\"129e9177-a3e8-4a3e-be16-29b8d53643bd\", element=\"99d23a0c-12c7-4b2e-bdaf-dad93af75c80\")>"
      ]
     },
     "execution_count": 6,
     "metadata": {},
     "output_type": "execute_result"
    }
   ],
   "source": [
    "# Create Firefox driver.\n",
    "driver = webdriver.Firefox()\n",
    "# Set wait time to 5s to allow network time.\n",
    "driver.implicitly_wait(5)\n",
    "# Go to the mPerks account login.\n",
    "driver.get(\"https://accounts.meijer.com/manage/Account/mPerks#/form/user\")\n",
    "# Fill user & submit.\n",
    "elem = driver.find_element_by_name(\"email\")\n",
    "elem.clear()\n",
    "elem.send_keys(user)\n",
    "elem.send_keys(Keys.RETURN)\n",
    "# Fill password & submit.\n",
    "elem = driver.find_element_by_name(\"password\")\n",
    "elem.clear()\n",
    "elem.send_keys(password)\n",
    "elem.send_keys(Keys.RETURN)\n",
    "# Wait for login to complete\n",
    "driver.find_element_by_id(\"editStore\")\n",
    "# Go to the receipts page\n",
    "driver.get(\"https://mperks.meijer.com/mperks/ShoppingTools#receipts\")\n",
    "driver.find_element_by_class_name(\"receipt-list\")"
   ]
  },
  {
   "cell_type": "code",
   "execution_count": 7,
   "metadata": {},
   "outputs": [
    {
     "name": "stdout",
     "output_type": "stream",
     "text": [
      "Done.\n"
     ]
    }
   ],
   "source": [
    "# Continually click \"View More\" until all available receipts are shown.\n",
    "while True:\n",
    "    try:\n",
    "        driver.find_element_by_class_name(\"viewMore\").click()\n",
    "    except ElementNotInteractableException:\n",
    "        print(\"Done.\")\n",
    "        break\n",
    "    except ElementClickInterceptedException:\n",
    "        sleep(1)\n",
    "    except:\n",
    "        raise"
   ]
  },
  {
   "cell_type": "code",
   "execution_count": 8,
   "metadata": {},
   "outputs": [],
   "source": [
    "receiptItems = driver.find_elements_by_class_name(\"receiptItem\")"
   ]
  },
  {
   "cell_type": "code",
   "execution_count": 11,
   "metadata": {},
   "outputs": [],
   "source": [
    "def processReceipt(receiptItem):\n",
    "    date = receiptItem.find_element_by_class_name(\"c1\").text\n",
    "    store = receiptItem.find_element_by_class_name(\"c2\").text\n",
    "    items = receiptItem.find_element_by_class_name(\"c3\").text\n",
    "    total = receiptItem.find_element_by_class_name(\"c4\").text\n",
    "    receipt_pdf = receiptItem.find_element_by_class_name(\"c5\").find_element_by_tag_name(\"a\").get_attribute(\"href\")\n",
    "    \n",
    "    \n",
    "    date_regex_ = date_regex.findall(date)[0]\n",
    "    date2 = \"{} {} {}\".format(\n",
    "        date_regex_[0],\n",
    "        date_regex_[1],\n",
    "        date_regex_[2],\n",
    "    )\n",
    "    datetime_date = datetime.datetime.strptime(date2, \"%b %d %Y\")\n",
    "\n",
    "    Receipt(\n",
    "        date = datetime_date,\n",
    "        store = store,\n",
    "        items = int(items),\n",
    "        total = float(total.split(\"$\")[1]),\n",
    "        pdf = receipt_pdf\n",
    "    )\n",
    "    csv.write(\"{},{},{},{},{}\\n\".format(date,\n",
    "                                       store,\n",
    "                                       items,\n",
    "                                       total,\n",
    "                                       receipt_pdf))\n",
    "    db.commit()"
   ]
  },
  {
   "cell_type": "code",
   "execution_count": 12,
   "metadata": {},
   "outputs": [],
   "source": [
    "for receiptItem in receiptItems:\n",
    "    processReceipt(receiptItem)"
   ]
  },
  {
   "cell_type": "code",
   "execution_count": 13,
   "metadata": {},
   "outputs": [],
   "source": [
    "csv.flush()"
   ]
  },
  {
   "cell_type": "code",
   "execution_count": 14,
   "metadata": {},
   "outputs": [],
   "source": [
    "csv.close()"
   ]
  },
  {
   "cell_type": "code",
   "execution_count": 23,
   "metadata": {},
   "outputs": [],
   "source": [
    "for receipt in orm.select(r for r in Receipt):\n",
    "    download_pdf(receipt.pdf)"
   ]
  },
  {
   "cell_type": "code",
   "execution_count": null,
   "metadata": {},
   "outputs": [],
   "source": []
  }
 ],
 "metadata": {
  "kernelspec": {
   "display_name": "Python 3",
   "language": "python",
   "name": "python3"
  },
  "language_info": {
   "codemirror_mode": {
    "name": "ipython",
    "version": 3
   },
   "file_extension": ".py",
   "mimetype": "text/x-python",
   "name": "python",
   "nbconvert_exporter": "python",
   "pygments_lexer": "ipython3",
   "version": "3.5.2"
  }
 },
 "nbformat": 4,
 "nbformat_minor": 2
}
